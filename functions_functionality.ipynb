{
  "nbformat": 4,
  "nbformat_minor": 0,
  "metadata": {
    "colab": {
      "provenance": [],
      "include_colab_link": true
    },
    "kernelspec": {
      "name": "python3",
      "display_name": "Python 3"
    },
    "language_info": {
      "name": "python"
    }
  },
  "cells": [
    {
      "cell_type": "markdown",
      "metadata": {
        "id": "view-in-github",
        "colab_type": "text"
      },
      "source": [
        "<a href=\"https://colab.research.google.com/github/megan-the-astronomer/ASTR229/blob/main/functions_functionality.ipynb\" target=\"_parent\"><img src=\"https://colab.research.google.com/assets/colab-badge.svg\" alt=\"Open In Colab\"/></a>"
      ]
    },
    {
      "cell_type": "markdown",
      "source": [
        "# Packaging code, file i/o, and putting the pieces together"
      ],
      "metadata": {
        "id": "g3ol21QSQs6L"
      }
    },
    {
      "cell_type": "markdown",
      "source": [
        "This week, we'll look at a few more skills to shore up your toolkit for the coding challenges ahead.\n",
        "\n",
        "First, we'll look at functions which are a great way to make your code more readable and reusable.\n",
        "\n",
        "Next, we'll look at some simple tools for reading/writing files (you already have some experience with this from an earlier notebook where you read in images and headers from a fits file).\n",
        "\n",
        "Let's do this.  "
      ],
      "metadata": {
        "id": "Q7znwby2uRyK"
      }
    },
    {
      "cell_type": "code",
      "execution_count": null,
      "metadata": {
        "id": "z-QF9ZbN18x1"
      },
      "outputs": [],
      "source": [
        "# start by importing a few essentials\n",
        "import numpy as np\n",
        "import matplotlib.pyplot as plt\n",
        "import astropy\n",
        "\n",
        "from astropy.io import fits\n",
        "from astropy.table import Table"
      ]
    },
    {
      "cell_type": "markdown",
      "source": [
        "# Functions"
      ],
      "metadata": {
        "id": "EevQj7d4SLzK"
      }
    },
    {
      "cell_type": "markdown",
      "source": [
        "Recommended reading: https://philuttley.github.io/prog4aa/12-func/index.html\n",
        "\n",
        "Functions make code more readable, easier to package and reuse. Functions contain blocks of code that you are likely to use over and over again.\n",
        "\n",
        "Let's start with a simple but useful example - converting the temperature from celsius to kelvin."
      ],
      "metadata": {
        "id": "81ciTN85SM8n"
      }
    },
    {
      "cell_type": "code",
      "source": [
        "def celsius_to_kelvin(temp_c):\n",
        "    return temp_c + 273.15"
      ],
      "metadata": {
        "id": "3FdB3RWJSj5z"
      },
      "execution_count": null,
      "outputs": []
    },
    {
      "cell_type": "markdown",
      "source": [
        "The ```def``` keyword signifies the start of a function definition.\n",
        "\n",
        "This is followed by the name of the function (```celsius_to_kelvin```) and a list of parameter names in parentheses (only one in this function - ```temp```). Note the colon (```:```) at the end of the line.\n",
        "\n",
        "The code to be executed starts on the next line - note that these lines of code are indented!\n",
        "\n",
        "The last line of the function starts with the ```return``` keyword followed by the value to be returned by the function.\n",
        "\n",
        "Values passed to the function - in this case the specific temperature to convert - are assigned to variables in the function (```temp``` in this case).\n",
        "\n",
        "Let’s try running our function."
      ],
      "metadata": {
        "id": "CSrn9jB_wyxp"
      }
    },
    {
      "cell_type": "code",
      "source": [
        "# The average temperature of the Earth is ~15 C\n",
        "celsius_to_kelvin(15.)"
      ],
      "metadata": {
        "colab": {
          "base_uri": "https://localhost:8080/"
        },
        "id": "7w73Nyfi0cPQ",
        "outputId": "40f2fcf3-90d4-413e-8277-39f56b17afaa"
      },
      "execution_count": null,
      "outputs": [
        {
          "output_type": "execute_result",
          "data": {
            "text/plain": [
              "288.15"
            ]
          },
          "metadata": {},
          "execution_count": 4
        }
      ]
    },
    {
      "cell_type": "markdown",
      "source": [
        "This calls the function using ```15.``` as the input and returns the converted temperature.\n",
        "\n",
        "You can use the output in a print statement or assign it to a variable. Functions that you write yourself behave like other functions you have used in python already (e.g., ```print()``` or ```plt.plot()```).  "
      ],
      "metadata": {
        "id": "RnKPBX0X0uHa"
      }
    },
    {
      "cell_type": "code",
      "source": [
        "print('Approximate temperature of the Earth in Kelvin:', celsius_to_kelvin(25.))"
      ],
      "metadata": {
        "colab": {
          "base_uri": "https://localhost:8080/"
        },
        "id": "xm2dChAeSr9G",
        "outputId": "2b5d453f-e5cd-402b-cf40-72eb06cfc1be"
      },
      "execution_count": null,
      "outputs": [
        {
          "output_type": "stream",
          "name": "stdout",
          "text": [
            "Approximate temperature of the Earth in Kelvin: 298.15\n"
          ]
        }
      ]
    },
    {
      "cell_type": "code",
      "source": [
        "T_earth = celsius_to_kelvin(15.)"
      ],
      "metadata": {
        "id": "N1Xx6GJL0gg7"
      },
      "execution_count": null,
      "outputs": []
    },
    {
      "cell_type": "code",
      "source": [
        "T_earth"
      ],
      "metadata": {
        "colab": {
          "base_uri": "https://localhost:8080/"
        },
        "id": "u-4O_If70jUX",
        "outputId": "d2b5bc6b-2d1f-4f96-87a2-6ee2369ceccf"
      },
      "execution_count": null,
      "outputs": [
        {
          "output_type": "execute_result",
          "data": {
            "text/plain": [
              "288.15"
            ]
          },
          "metadata": {},
          "execution_count": 7
        }
      ]
    },
    {
      "cell_type": "markdown",
      "source": [
        "## Composing functions"
      ],
      "metadata": {
        "id": "HPxRYOVa0mpp"
      }
    },
    {
      "cell_type": "markdown",
      "source": [
        "Functions can save you from repeating lines of code to accomplish the same task. Copying and pasting not only makes code very long (and harder to read) but also makes it too easy to create problems for yourself (e.g., accidently overwriting a variable).\n",
        "\n",
        "You can streamline your code by combining functions inside other functions. To borrow the example from [Phil Uttley](https://philuttley.github.io/prog4aa/12-func/index.html), you can easily convert temperature from Fahreheit to Kelvin using existing functions to convert from Fahrenheit to Celsius and Celsius to Kelvin."
      ],
      "metadata": {
        "id": "uiL3dPBL1fAB"
      }
    },
    {
      "cell_type": "code",
      "source": [
        "def fahr_to_celsius(temp):\n",
        "    return ((temp - 32) * (5/9))"
      ],
      "metadata": {
        "id": "cWP-SBS_Iwyb"
      },
      "execution_count": null,
      "outputs": []
    },
    {
      "cell_type": "code",
      "source": [
        "def fahr_to_kelvin(temp_f):\n",
        "    temp_c = fahr_to_celsius(temp_f)\n",
        "    temp_k = celsius_to_kelvin(temp_c)\n",
        "    return temp_k"
      ],
      "metadata": {
        "id": "thrnS9lhI3WQ"
      },
      "execution_count": null,
      "outputs": []
    },
    {
      "cell_type": "code",
      "source": [
        "# daily highs in Houston this week have been ~90 F\n",
        "print('Houston daytime highs in Kelvin:', fahr_to_kelvin(90.0))"
      ],
      "metadata": {
        "colab": {
          "base_uri": "https://localhost:8080/"
        },
        "id": "VMNdsH8MI9e7",
        "outputId": "d12da3db-9b51-4f48-a047-c1398befb957"
      },
      "execution_count": null,
      "outputs": [
        {
          "output_type": "stream",
          "name": "stdout",
          "text": [
            "Houston daytime highs in Kelvin: 305.3722222222222\n"
          ]
        }
      ]
    },
    {
      "cell_type": "markdown",
      "source": [
        "This simple example illustrates a few key points. Programs are typically built by combining separate, smaller chunks of code. While most programs are longer than 2-3 lines, ideally they are not 500 lines long either as this makes the code harder to read and harder to debug (that is, identify and troubleshoot problems)."
      ],
      "metadata": {
        "id": "qLL3I323JaSA"
      }
    },
    {
      "cell_type": "markdown",
      "source": [
        "# A few more notes on functions"
      ],
      "metadata": {
        "id": "RJkZzSVnT1u3"
      }
    },
    {
      "cell_type": "markdown",
      "source": [
        "Functions don't always have return statements at the end. For example, to look through the McDonald data of M82, you might write a function to create an image of every frame with a title that reports the exposure time and the filter or band used to take the data. Keep this idea in mind when writing longer code for a project - generating diagnostic plots along the way can be a great way to make sure intermediate steps have executed correctly.\n",
        "\n",
        "Just like with variable names, it is highly recommended to give functions meaningful names that make your code more human readable."
      ],
      "metadata": {
        "id": "RgJ9ozIGT3zZ"
      }
    },
    {
      "cell_type": "markdown",
      "source": [
        "# Testing, debugging, and documenting"
      ],
      "metadata": {
        "id": "TXxB_CtrUna7"
      }
    },
    {
      "cell_type": "markdown",
      "source": [
        "Part of the power of functions is that they are meant to be reusable. To make sure that is true, it's important to test the code.\n",
        "\n",
        "The first test should be to start with something where you know the answer. If the code does not produce the correct answer, you know you have a problem.\n",
        "\n",
        "Next, try a few different test cases. In the example above, make sure that you get the correct answer for both positive and negative temperatures.\n",
        "\n",
        "Let's try an example. Use the data tables from last week to predict the apparent magnitude of a star."
      ],
      "metadata": {
        "id": "KyYFOZBDUre3"
      }
    },
    {
      "cell_type": "code",
      "source": [
        "def predict_apparent_mag(abs_mag, dist):\n",
        "  mag = abs_mag + 5 * np.log10(dist) - 5\n",
        "  return mag"
      ],
      "metadata": {
        "id": "FNSNZVCAR7L5"
      },
      "execution_count": null,
      "outputs": []
    },
    {
      "cell_type": "markdown",
      "source": [
        "The Sun is an easy test - we can look up the spectral type of the Sun (G5) and the distance ($\\sim 1.4 \\times 10^{13}$ cm). From class, we know that the apparent magnitude of the Sun is about $-26.5$ mag."
      ],
      "metadata": {
        "id": "GKgUgcD7RpI9"
      }
    },
    {
      "cell_type": "code",
      "source": [
        "from google.colab import drive\n",
        "drive.mount('/content/drive')"
      ],
      "metadata": {
        "colab": {
          "base_uri": "https://localhost:8080/"
        },
        "id": "UzyIP2doRDZx",
        "outputId": "fc5d3d44-3ba9-4568-f287-49b70307d4e5"
      },
      "execution_count": null,
      "outputs": [
        {
          "output_type": "stream",
          "name": "stdout",
          "text": [
            "Mounted at /content/drive\n"
          ]
        }
      ]
    },
    {
      "cell_type": "code",
      "source": [
        "dat = Table.read('/content/drive/MyDrive/ASTR229_data/stellar_data/ms.dat', format='ascii.csv', delimiter=';', comment='#')"
      ],
      "metadata": {
        "id": "ZiMb0E3kRS6m"
      },
      "execution_count": null,
      "outputs": []
    },
    {
      "cell_type": "code",
      "source": [
        "# find the solar type star\n",
        "solar_type = np.where(dat['Spectral Type'] == 'G5')\n",
        "dat[solar_type[0]]"
      ],
      "metadata": {
        "colab": {
          "base_uri": "https://localhost:8080/",
          "height": 99
        },
        "id": "ffSg81QnRZMo",
        "outputId": "d612074a-2fa0-4add-b566-d88e73f691ef"
      },
      "execution_count": null,
      "outputs": [
        {
          "output_type": "execute_result",
          "data": {
            "text/plain": [
              "<Table length=1>\n",
              "Spectral Type Temperature (K) ... Luminosity (in solar luminosities)\n",
              "     str2          int64      ...              float64              \n",
              "------------- --------------- ... ----------------------------------\n",
              "           G5            5660 ...                               0.86"
            ],
            "text/html": [
              "<div><i>Table length=1</i>\n",
              "<table id=\"table132553112319808\" class=\"table-striped table-bordered table-condensed\">\n",
              "<thead><tr><th>Spectral Type</th><th>Temperature (K)</th><th>Absolute Magnitude</th><th>Luminosity (in solar luminosities)</th></tr></thead>\n",
              "<thead><tr><th>str2</th><th>int64</th><th>str5</th><th>float64</th></tr></thead>\n",
              "<tr><td>G5</td><td>5660</td><td>4.9</td><td>0.86</td></tr>\n",
              "</table></div>"
            ]
          },
          "metadata": {},
          "execution_count": 14
        }
      ]
    },
    {
      "cell_type": "code",
      "source": [
        "# we need the distance in the Sun in pc but the number we have is in cm\n",
        "dsun_cm = 1.4e13 # cm\n",
        "pc_cm = 3.1e18 # cm\n",
        "dsun_in_pc = dsun_cm / pc_cm"
      ],
      "metadata": {
        "id": "EAsK3al5SZ31"
      },
      "execution_count": null,
      "outputs": []
    },
    {
      "cell_type": "code",
      "source": [
        "# the Sun is close so the distance should be a tiny fraction of a pc\n",
        "dsun_in_pc"
      ],
      "metadata": {
        "colab": {
          "base_uri": "https://localhost:8080/"
        },
        "id": "0mv94c0YSvNh",
        "outputId": "79f6e2f2-88b2-4874-b5d8-79955a8b2d10"
      },
      "execution_count": null,
      "outputs": [
        {
          "output_type": "execute_result",
          "data": {
            "text/plain": [
              "4.516129032258065e-06"
            ]
          },
          "metadata": {},
          "execution_count": 16
        }
      ]
    },
    {
      "cell_type": "code",
      "source": [
        "predict_apparent_mag(dat['Absolute Magnitude'][solar_type[0]], dsun_in_pc)"
      ],
      "metadata": {
        "colab": {
          "base_uri": "https://localhost:8080/",
          "height": 224
        },
        "id": "4z5vbyzUS4MN",
        "outputId": "f9db83e3-7648-40f1-ba86-b4794d1809c9"
      },
      "execution_count": null,
      "outputs": [
        {
          "output_type": "error",
          "ename": "UFuncTypeError",
          "evalue": "ufunc 'add' did not contain a loop with signature matching types (dtype('<U5'), dtype('float64')) -> None",
          "traceback": [
            "\u001b[0;31m---------------------------------------------------------------------------\u001b[0m",
            "\u001b[0;31mUFuncTypeError\u001b[0m                            Traceback (most recent call last)",
            "\u001b[0;32m/tmp/ipython-input-2546804522.py\u001b[0m in \u001b[0;36m<cell line: 0>\u001b[0;34m()\u001b[0m\n\u001b[0;32m----> 1\u001b[0;31m \u001b[0mpredict_apparent_mag\u001b[0m\u001b[0;34m(\u001b[0m\u001b[0mdat\u001b[0m\u001b[0;34m[\u001b[0m\u001b[0;34m'Absolute Magnitude'\u001b[0m\u001b[0;34m]\u001b[0m\u001b[0;34m[\u001b[0m\u001b[0msolar_type\u001b[0m\u001b[0;34m[\u001b[0m\u001b[0;36m0\u001b[0m\u001b[0;34m]\u001b[0m\u001b[0;34m]\u001b[0m\u001b[0;34m,\u001b[0m \u001b[0mdsun_in_pc\u001b[0m\u001b[0;34m)\u001b[0m\u001b[0;34m\u001b[0m\u001b[0;34m\u001b[0m\u001b[0m\n\u001b[0m",
            "\u001b[0;32m/tmp/ipython-input-3845889526.py\u001b[0m in \u001b[0;36mpredict_apparent_mag\u001b[0;34m(abs_mag, dist)\u001b[0m\n\u001b[1;32m      1\u001b[0m \u001b[0;32mdef\u001b[0m \u001b[0mpredict_apparent_mag\u001b[0m\u001b[0;34m(\u001b[0m\u001b[0mabs_mag\u001b[0m\u001b[0;34m,\u001b[0m \u001b[0mdist\u001b[0m\u001b[0;34m)\u001b[0m\u001b[0;34m:\u001b[0m\u001b[0;34m\u001b[0m\u001b[0;34m\u001b[0m\u001b[0m\n\u001b[0;32m----> 2\u001b[0;31m   \u001b[0mmag\u001b[0m \u001b[0;34m=\u001b[0m \u001b[0mabs_mag\u001b[0m \u001b[0;34m+\u001b[0m \u001b[0;36m5\u001b[0m \u001b[0;34m*\u001b[0m \u001b[0mnp\u001b[0m\u001b[0;34m.\u001b[0m\u001b[0mlog10\u001b[0m\u001b[0;34m(\u001b[0m\u001b[0mdist\u001b[0m\u001b[0;34m)\u001b[0m \u001b[0;34m-\u001b[0m \u001b[0;36m5\u001b[0m\u001b[0;34m\u001b[0m\u001b[0;34m\u001b[0m\u001b[0m\n\u001b[0m\u001b[1;32m      3\u001b[0m   \u001b[0;32mreturn\u001b[0m \u001b[0mmag\u001b[0m\u001b[0;34m\u001b[0m\u001b[0;34m\u001b[0m\u001b[0m\n",
            "\u001b[0;31mUFuncTypeError\u001b[0m: ufunc 'add' did not contain a loop with signature matching types (dtype('<U5'), dtype('float64')) -> None"
          ]
        }
      ]
    },
    {
      "cell_type": "markdown",
      "source": [
        "Ooops - we got an error message. What went wrong?\n",
        "\n",
        "Python provides a lot of information that can sometimes be difficult to parse.\n",
        "\n",
        "Starting from the bottom, we see a type error - the data type of one of our inputs doesn't match what the function was expecting.\n",
        "\n",
        "Look a few lines above that and notice the green arrow. This points to the line where the code ran into a problem.\n",
        "In this case, it's easy because the function has only one line.\n",
        "\n",
        "For this simple mathematical calculation, the likely culprit is that one of our inputs isn't actually an integer or a float."
      ],
      "metadata": {
        "id": "nai880di3MUl"
      }
    },
    {
      "cell_type": "code",
      "source": [
        "type(dat['Absolute Magnitude'][solar_type[0]][0])"
      ],
      "metadata": {
        "colab": {
          "base_uri": "https://localhost:8080/"
        },
        "id": "JW6ojocP35Zf",
        "outputId": "a92a41b7-4879-4613-c472-0dcc49bc1112"
      },
      "execution_count": null,
      "outputs": [
        {
          "output_type": "execute_result",
          "data": {
            "text/plain": [
              "numpy.str_"
            ]
          },
          "metadata": {},
          "execution_count": 19
        }
      ]
    },
    {
      "cell_type": "markdown",
      "source": [
        "Indeed, the absolute magnitude that we passed to the program is a string, not a float."
      ],
      "metadata": {
        "id": "cWd0PZw5397a"
      }
    },
    {
      "cell_type": "code",
      "source": [
        "# convert str to float\n",
        "abs_mag_sun = float(dat['Absolute Magnitude'][solar_type[0]])"
      ],
      "metadata": {
        "colab": {
          "base_uri": "https://localhost:8080/"
        },
        "id": "EwhP9Zno3LWN",
        "outputId": "cf36b712-3f99-42dd-d888-e150c0297bd3"
      },
      "execution_count": null,
      "outputs": [
        {
          "output_type": "stream",
          "name": "stderr",
          "text": [
            "/tmp/ipython-input-1675701606.py:2: DeprecationWarning: Conversion of an array with ndim > 0 to a scalar is deprecated, and will error in future. Ensure you extract a single element from your array before performing this operation. (Deprecated NumPy 1.25.)\n",
            "  abs_mag_sun = float(dat['Absolute Magnitude'][solar_type[0]])\n"
          ]
        }
      ]
    },
    {
      "cell_type": "code",
      "source": [
        "predict_apparent_mag(abs_mag_sun, dsun_in_pc)"
      ],
      "metadata": {
        "colab": {
          "base_uri": "https://localhost:8080/"
        },
        "id": "NVKUSd4C3BDI",
        "outputId": "e66cfea5-75ea-4e9d-c70d-26dc99ca6894"
      },
      "execution_count": null,
      "outputs": [
        {
          "output_type": "execute_result",
          "data": {
            "text/plain": [
              "np.float64(-26.826168290780174)"
            ]
          },
          "metadata": {},
          "execution_count": 21
        }
      ]
    },
    {
      "cell_type": "markdown",
      "source": [
        "Tests like this are also a great way to catch small, painful errors like typos and sign errors.\n",
        "\n",
        "Finally, to make your code more readable for yourself and others, it's a good idea to include some documentation. We've done this for a few lines using the comment character (```#```). When we defined ```dsun_cm``` we added a comment to remind ourselves of the units.\n",
        "\n",
        "You can also use triple quotes for larger comment blocks. If these are the first thing in your function, python attaches the comment as the documentation for the function."
      ],
      "metadata": {
        "id": "kmi1M9q4V-qC"
      }
    },
    {
      "cell_type": "code",
      "source": [
        "def predict_apparent_mag(abs_mag, dist):\n",
        "  '''This function predicts the apparent magnitude of a star with a given\n",
        "  absolute magnitude at some distance d (in pc!)'''\n",
        "  mag = abs_mag + 5 * np.log10(dist) - 5\n",
        "  return mag"
      ],
      "metadata": {
        "id": "KijjIicBUm-q"
      },
      "execution_count": null,
      "outputs": []
    },
    {
      "cell_type": "code",
      "source": [
        "help(predict_apparent_mag)"
      ],
      "metadata": {
        "colab": {
          "base_uri": "https://localhost:8080/"
        },
        "id": "0txc4d8QXJkQ",
        "outputId": "9fbdfbcd-17e0-4f60-f100-bed3daec9b18"
      },
      "execution_count": null,
      "outputs": [
        {
          "output_type": "stream",
          "name": "stdout",
          "text": [
            "Help on function predict_apparent_mag in module __main__:\n",
            "\n",
            "predict_apparent_mag(abs_mag, dist)\n",
            "    This function predicts the apparent magnitude of a star with a given\n",
            "    absolute magnitude at some distance d (in pc!)\n",
            "\n"
          ]
        }
      ]
    },
    {
      "cell_type": "markdown",
      "source": [
        "### Your turn"
      ],
      "metadata": {
        "id": "t4tRCXUhOwTe"
      }
    },
    {
      "cell_type": "markdown",
      "source": [
        "Write a function to convert RA and Dec from sexagesimal (hh:mm:ss and +/-dd:mm:ss) to decimal degrees.\n",
        "\n",
        "A few tips:\n",
        " - be sure to include the sign for the Declination! We want the code to be usable for sources in any part of the sky.\n",
        " - don't forget the $cos(\\mathrm{Dec})$...\n",
        " - be sure to test your code using coordinates for a few different stars. Not sure where to start? Look at some of the bright stars suggested in the eyepiece observing lab part 1."
      ],
      "metadata": {
        "id": "y2ZBhAhIK7Si"
      }
    },
    {
      "cell_type": "code",
      "source": [
        "# your code"
      ],
      "metadata": {
        "id": "JK9bdTcAKx26"
      },
      "execution_count": null,
      "outputs": []
    },
    {
      "cell_type": "markdown",
      "source": [
        "# Defining Defaults"
      ],
      "metadata": {
        "id": "AgZdT7SpV2LC"
      }
    },
    {
      "cell_type": "markdown",
      "source": [
        "There are two ways to pass parameters to a function: directly as we have done in ```predict_apparent_mag```, and by name as we did when reading in the data tables last week, e.g., ```dat = Table.read(filename, format='ascii.csv', delimiter=';', comment='#')```.\n",
        "\n",
        "Notice that if you read in your table by typing ```dat = Table.read(filename, format='ascii.csv', delimiter=';')```, the command will still work.\n",
        "\n",
        "Doing the same for ```predict_apparent_mag``` will not."
      ],
      "metadata": {
        "id": "m1rczeJaV4j1"
      }
    },
    {
      "cell_type": "code",
      "source": [
        "predict_apparent_mag(abs_mag_sun)"
      ],
      "metadata": {
        "colab": {
          "base_uri": "https://localhost:8080/",
          "height": 139
        },
        "id": "mubjT_bVoga4",
        "outputId": "35afeee3-87dd-44c0-90dc-d6feebbd39a0"
      },
      "execution_count": null,
      "outputs": [
        {
          "output_type": "error",
          "ename": "TypeError",
          "evalue": "predict_apparent_mag() missing 1 required positional argument: 'dist'",
          "traceback": [
            "\u001b[0;31m---------------------------------------------------------------------------\u001b[0m",
            "\u001b[0;31mTypeError\u001b[0m                                 Traceback (most recent call last)",
            "\u001b[0;32m/tmp/ipython-input-2160033415.py\u001b[0m in \u001b[0;36m<cell line: 0>\u001b[0;34m()\u001b[0m\n\u001b[0;32m----> 1\u001b[0;31m \u001b[0mpredict_apparent_mag\u001b[0m\u001b[0;34m(\u001b[0m\u001b[0mabs_mag_sun\u001b[0m\u001b[0;34m)\u001b[0m\u001b[0;34m\u001b[0m\u001b[0;34m\u001b[0m\u001b[0m\n\u001b[0m",
            "\u001b[0;31mTypeError\u001b[0m: predict_apparent_mag() missing 1 required positional argument: 'dist'"
          ]
        }
      ]
    },
    {
      "cell_type": "markdown",
      "source": [
        "We get an error because the function requires two inputs - the absolute magnitude and the distance.\n",
        "\n",
        "We can avoid this problem by setting a default value when we write the function."
      ],
      "metadata": {
        "id": "whmkL6v1o6cV"
      }
    },
    {
      "cell_type": "code",
      "source": [
        "def predict_apparent_mag(abs_mag, dist=10.0):\n",
        "  '''This function predicts the apparent magnitude of a star with a given\n",
        "  absolute magnitude at some distance d (in pc!)'''\n",
        "  mag = abs_mag + 5 * np.log10(dist) - 5\n",
        "  return mag"
      ],
      "metadata": {
        "id": "bsbO3TvYpRHT"
      },
      "execution_count": null,
      "outputs": []
    },
    {
      "cell_type": "markdown",
      "source": [
        "Now, the function will assume a distance of 10.0 pc if the user does not provide another value when they call the function."
      ],
      "metadata": {
        "id": "wg-JxKgWptJg"
      }
    },
    {
      "cell_type": "code",
      "source": [
        "predict_apparent_mag(abs_mag_sun)"
      ],
      "metadata": {
        "id": "WlfoAUU_ppOV",
        "colab": {
          "base_uri": "https://localhost:8080/"
        },
        "outputId": "791dde29-917a-45e0-933d-c0a2112cf85f"
      },
      "execution_count": null,
      "outputs": [
        {
          "output_type": "execute_result",
          "data": {
            "text/plain": [
              "np.float64(4.9)"
            ]
          },
          "metadata": {},
          "execution_count": 27
        }
      ]
    },
    {
      "cell_type": "markdown",
      "source": [
        "The function works the same as before when we supply both the absolute magnitude and the distance."
      ],
      "metadata": {
        "id": "8EZxMdto5NDd"
      }
    },
    {
      "cell_type": "code",
      "source": [
        "predict_apparent_mag(abs_mag_sun, dsun_in_pc)"
      ],
      "metadata": {
        "id": "Kh-GCftFV4JX",
        "colab": {
          "base_uri": "https://localhost:8080/"
        },
        "outputId": "2ff8fb7d-c366-4783-acaa-cc2341574d24"
      },
      "execution_count": null,
      "outputs": [
        {
          "output_type": "execute_result",
          "data": {
            "text/plain": [
              "np.float64(-26.826168290780174)"
            ]
          },
          "metadata": {},
          "execution_count": 28
        }
      ]
    },
    {
      "cell_type": "markdown",
      "source": [
        "Python assigns values to parameters from left to right. As long as you provide information in the right order, things should work.\n",
        "\n",
        "You can also name the value to ensure the right value is passed to the right parameter."
      ],
      "metadata": {
        "id": "PfVIXFptqU37"
      }
    },
    {
      "cell_type": "code",
      "source": [
        "# you can also use the keyword to specify the value\n",
        "predict_apparent_mag(abs_mag_sun, dist=dsun_in_pc)"
      ],
      "metadata": {
        "id": "L5IrtFlDpvru",
        "colab": {
          "base_uri": "https://localhost:8080/"
        },
        "outputId": "d3a0055a-adc2-40f5-a241-74d5ce444f2c"
      },
      "execution_count": null,
      "outputs": [
        {
          "output_type": "execute_result",
          "data": {
            "text/plain": [
              "np.float64(-26.826168290780174)"
            ]
          },
          "metadata": {},
          "execution_count": 29
        }
      ]
    },
    {
      "cell_type": "markdown",
      "source": [
        "Look at the documentation to see which parameters in a function have a default value and which do not. For example, with ```Table.read()``` there is no default value for the filename or the table format, so both need to be specified when the function is called."
      ],
      "metadata": {
        "id": "csg9qCWPq85b"
      }
    },
    {
      "cell_type": "markdown",
      "source": [
        "# Local and global variables"
      ],
      "metadata": {
        "id": "LP4TRe0nWfAZ"
      }
    },
    {
      "cell_type": "markdown",
      "source": [
        "Not all variables are visible in all parts of a program. Variables can be local or global.\n",
        "\n",
        "Local variables are defined and used inside a function. These are not visible in the main program. The variable ```dist``` used in ```predict_apparent_mag``` is a local variable. Try printing the value of ```dist``` in a new cell.\n",
        "\n",
        "Global variables are defined outside of a specific function and are visible everywhere. We defined the specific distance to the Sun in parsec (```dsun_in_pc```) as a global variable. Try printing the value of ```dsun_in_pc``` in a new cell."
      ],
      "metadata": {
        "id": "VyPxnYoEWm-0"
      }
    },
    {
      "cell_type": "code",
      "source": [
        "dist"
      ],
      "metadata": {
        "id": "wSOdvewYWgwC",
        "colab": {
          "base_uri": "https://localhost:8080/",
          "height": 139
        },
        "outputId": "1d047407-0a5c-470f-dc67-e4d3f4502084"
      },
      "execution_count": null,
      "outputs": [
        {
          "output_type": "error",
          "ename": "NameError",
          "evalue": "name 'dist' is not defined",
          "traceback": [
            "\u001b[0;31m---------------------------------------------------------------------------\u001b[0m",
            "\u001b[0;31mNameError\u001b[0m                                 Traceback (most recent call last)",
            "\u001b[0;32m/tmp/ipython-input-3562456396.py\u001b[0m in \u001b[0;36m<cell line: 0>\u001b[0;34m()\u001b[0m\n\u001b[0;32m----> 1\u001b[0;31m \u001b[0mdist\u001b[0m\u001b[0;34m\u001b[0m\u001b[0;34m\u001b[0m\u001b[0m\n\u001b[0m",
            "\u001b[0;31mNameError\u001b[0m: name 'dist' is not defined"
          ]
        }
      ]
    },
    {
      "cell_type": "code",
      "source": [
        "dsun_in_pc"
      ],
      "metadata": {
        "colab": {
          "base_uri": "https://localhost:8080/"
        },
        "id": "a0hTfJlo5acY",
        "outputId": "dc2127a1-9a29-4ed3-e157-166bf954c1cb"
      },
      "execution_count": null,
      "outputs": [
        {
          "output_type": "execute_result",
          "data": {
            "text/plain": [
              "4.516129032258065e-06"
            ]
          },
          "metadata": {},
          "execution_count": 31
        }
      ]
    },
    {
      "cell_type": "markdown",
      "source": [
        "# Writing to and reading from files"
      ],
      "metadata": {
        "id": "VN_4fjJuWmAN"
      }
    },
    {
      "cell_type": "markdown",
      "source": [
        "Recommended reading: https://philuttley.github.io/prog4aa/13-simpleio/index.html\n",
        "\n",
        "We've already explored a few astronomy-specific ways to read in data. We've used ```astropy``` tools to read in fits files (images and headers) with ```fits.read()``` and some tabular data using ```Table.read()```. Often, specific tools are the best way to read in and write out data.\n",
        "\n",
        "However, there may be some cases where you wish to be able to write information to file from within your program. The python ```File``` function provides a simple way to read and write files. Let's look at an example."
      ],
      "metadata": {
        "id": "Dvcobkw_WuEL"
      }
    },
    {
      "cell_type": "code",
      "source": [
        "# use open() to open a new or existing file\n",
        "# the 'w' says we will be writing to the file\n",
        "f = open('example_files.txt', 'w')\n",
        "f.write(\"I made a text file\")\n",
        "f.write(\"for my ASTR 229 homework\")\n",
        "# be sure to close the file! if not, bad things can happen\n",
        "f.close()"
      ],
      "metadata": {
        "id": "XTD41DhTXLMO"
      },
      "execution_count": null,
      "outputs": []
    },
    {
      "cell_type": "markdown",
      "source": [
        "When you run the cell above, the file will save to your local directory.\n",
        "\n",
        "If you are doing the exercise in colab, take a look to see where your new file ended up. Notice that the file is in the virtual file system. For example, when I look at the file path, I see ```/content/example_files.txt```. This means the file will disappear at the end of my colab session unless I save a copy of it somewhere else.\n",
        "\n",
        "To save the file in a specific folder or directory, specify the full file path."
      ],
      "metadata": {
        "id": "kxTxEIGmyf9X"
      }
    },
    {
      "cell_type": "code",
      "source": [
        "# now with full file path\n",
        "f = open('/content/drive/MyDrive/ASTR229_sandbox/example_files.txt', 'w')\n",
        "f.write(\"I made a text file\")\n",
        "f.write(\"for my ASTR 229 homework\")\n",
        "f.close()"
      ],
      "metadata": {
        "id": "aj0Si3G5zUBS"
      },
      "execution_count": null,
      "outputs": []
    },
    {
      "cell_type": "markdown",
      "source": [
        "Open the file using your favorite text editor. In colab, you can also open the file next to your code by double clicking on the filename.\n",
        "\n",
        "Notice that the two lines of text we added to the file run right into each other. If we want to print each phrase on a separate line, we need to add formatting to specify the start of a new line."
      ],
      "metadata": {
        "id": "2UStBMn1z9q7"
      }
    },
    {
      "cell_type": "code",
      "source": [
        "# now with formatting\n",
        "f = open('/content/drive/MyDrive/ASTR229_sandbox/example_files.txt', 'w')\n",
        "f.write(\"I made a text file \\n\")\n",
        "f.write(\"for my ASTR 229 homework \\n\")\n",
        "f.close()"
      ],
      "metadata": {
        "id": "KHN0nPKD0SE3"
      },
      "execution_count": null,
      "outputs": []
    },
    {
      "cell_type": "markdown",
      "source": [
        "You can also open an existing file to add more text using ```'a'``` to append to a file.\n",
        "\n",
        "CAREFUL! If you try to add to a file using ```'w'``` you will overwrite the existing file."
      ],
      "metadata": {
        "id": "DtLOOQJu0fKW"
      }
    },
    {
      "cell_type": "code",
      "source": [
        "f = open('/content/drive/MyDrive/ASTR229_sandbox/example_files.txt', 'a')\n",
        "f.write(\"This is the third python assignment \\n\")\n",
        "f.close()"
      ],
      "metadata": {
        "id": "EPKK0J9y0oZw"
      },
      "execution_count": null,
      "outputs": []
    },
    {
      "cell_type": "markdown",
      "source": [
        "Use ```'r'``` to read in the contents of the file."
      ],
      "metadata": {
        "id": "zeIpebwi06JK"
      }
    },
    {
      "cell_type": "code",
      "source": [
        "f = open('/content/drive/MyDrive/ASTR229_sandbox/example_files.txt', 'r')\n",
        "print(f.read())\n",
        "f.close()"
      ],
      "metadata": {
        "colab": {
          "base_uri": "https://localhost:8080/"
        },
        "id": "ms365Z7a09SR",
        "outputId": "15ca04be-801d-4d55-904b-f109d2f35daa"
      },
      "execution_count": null,
      "outputs": [
        {
          "output_type": "stream",
          "name": "stdout",
          "text": [
            "I made a text file \n",
            "for my ASTR 229 homework \n",
            "This is the third python assignment \n",
            "\n"
          ]
        }
      ]
    },
    {
      "cell_type": "markdown",
      "source": [
        "To read individual lines, you can use ```readline``` instead of ```read```."
      ],
      "metadata": {
        "id": "VSNGMyjt1dOn"
      }
    },
    {
      "cell_type": "code",
      "source": [
        "f = open('/content/drive/MyDrive/ASTR229_sandbox/example_files.txt', 'r')\n",
        "print(f.readline())\n",
        "f.close()"
      ],
      "metadata": {
        "colab": {
          "base_uri": "https://localhost:8080/"
        },
        "id": "fmZvxQHL1qEE",
        "outputId": "0ce53f9e-a09a-4c8c-ca2a-690a37e7d4da"
      },
      "execution_count": null,
      "outputs": [
        {
          "output_type": "stream",
          "name": "stdout",
          "text": [
            "I made a text file \n",
            "\n"
          ]
        }
      ]
    },
    {
      "cell_type": "markdown",
      "source": [
        "To avoid problems with files not being closed properly, it is recommended to use the ```with``` keyword to open files."
      ],
      "metadata": {
        "id": "Uq3wKuQf1uyn"
      }
    },
    {
      "cell_type": "code",
      "source": [
        "with open('another_example.txt', 'w') as f:\n",
        "    f.write('O-type stars are really hot\\n')\n",
        "    f.write('M-type stars really are not\\n')"
      ],
      "metadata": {
        "id": "Dnl3btHC1_ho"
      },
      "execution_count": null,
      "outputs": []
    },
    {
      "cell_type": "markdown",
      "source": [
        "The file is automatically closed at the end of the indented text.\n",
        "\n",
        "The same approach works for reading in files."
      ],
      "metadata": {
        "id": "Qx5Uo2DA2UWB"
      }
    },
    {
      "cell_type": "code",
      "source": [
        "with open('/content/drive/MyDrive/ASTR229_data/stellar_data/giants.dat', 'r') as f:\n",
        "    print(f.read())"
      ],
      "metadata": {
        "colab": {
          "base_uri": "https://localhost:8080/"
        },
        "id": "RlK3vgAq2Q63",
        "outputId": "9fddcc18-391b-4d2d-b97d-628ea290ca81"
      },
      "execution_count": null,
      "outputs": [
        {
          "output_type": "stream",
          "name": "stdout",
          "text": [
            "Spectral Type; Temperature (K); Absolute Magnitude; Luminosity (in solar luminosities)\n",
            "#\n",
            "G5; 5010; 0.7; 127\n",
            "G8; 4870; 0.6; 113\n",
            "K0; 4720; 0.5; 96\n",
            "K1; 4580; 0.4; 82\n",
            "K2; 4460; 0.2; 70\n",
            "K3; 4210; 0.1; 58\n",
            "K4; 4010; 0.0; 45\n",
            "K5; 3780; -0.2; 32\n",
            "M0; 3660; -0.4; 15\n",
            "M1; 3600; -0.5; 13\n",
            "M2; 3500; -0.6; 11\n",
            "M3; 3300; -0.7; 9.5\n",
            "M4; 3100; -0.75; 7.4\n",
            "M5; 2950; -0.8; 5.1\n",
            "M6; 2800; -0.9; 3.3\n"
          ]
        }
      ]
    },
    {
      "cell_type": "markdown",
      "source": [
        "This basic tool can be really useful for outputting formatted results. For example, I'm often writing formatted text files to output data that I want to put in a table in my paper.\n",
        "\n",
        "One practical application is to use your knowledge of string manipulation and file i/o (input/output) to write a [ds9 region](https://ds9.si.edu/doc/ref/region.html) file. Recall from the first assignment that ds9 regions allow you to draw a shape on your image. You can save these regions to a formatted file so you can upload them again at a later time. You can also upload a file with a list of regions to be overplotted on your image."
      ],
      "metadata": {
        "id": "JcCJKlVlxuJJ"
      }
    },
    {
      "cell_type": "markdown",
      "source": [
        "#### Your turn"
      ],
      "metadata": {
        "id": "TGcWnpne5cY3"
      }
    },
    {
      "cell_type": "markdown",
      "source": [
        "Make a region file to draw circles around stars near M82. We'll use the format\n",
        "\n",
        "```\n",
        "circle RA Dec radius\n",
        "```\n",
        "\n",
        "To get this to play well with ds9, we need to specify the RA and Dec in ```hh:mm:ss``` and ```+/-dd:mm:ss``` format.  \n",
        "\n",
        "For example, to put a circle at the center of M82, my region file has the following format:\n",
        "\n",
        "```\n",
        "circle 09:55:52.4 +69:40:46 10\"\n",
        "```\n",
        "\n"
      ],
      "metadata": {
        "id": "xkcfy4rH5g-9"
      }
    },
    {
      "cell_type": "markdown",
      "source": [
        "Be sure to look at the documentation to get an idea of other formatting you can specify in your region file (e.g., the color or linewidth).\n",
        "\n",
        "A quick way to get an idea what a region file looks like is to make one of your own in ds9. Play around with the M82 images from McDonald and DSS. Try making regions files for both. Play around with different formats for the outputs.\n",
        "\n",
        "Now, make a region file of stars to plot on the DSS image using the ```stars_near_M82.txt``` file in the ```ASTR229_data``` folder.  "
      ],
      "metadata": {
        "id": "PjIlybLl7Lnn"
      }
    },
    {
      "cell_type": "code",
      "source": [],
      "metadata": {
        "id": "ttZH4T3w7K5S"
      },
      "execution_count": null,
      "outputs": []
    }
  ]
}