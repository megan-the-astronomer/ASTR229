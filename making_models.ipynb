{
  "cells": [
    {
      "cell_type": "markdown",
      "metadata": {
        "id": "view-in-github",
        "colab_type": "text"
      },
      "source": [
        "<a href=\"https://colab.research.google.com/github/megan-the-astronomer/ASTR229/blob/main/making_models.ipynb\" target=\"_parent\"><img src=\"https://colab.research.google.com/assets/colab-badge.svg\" alt=\"Open In Colab\"/></a>"
      ]
    },
    {
      "cell_type": "markdown",
      "metadata": {
        "id": "g3ol21QSQs6L"
      },
      "source": [
        "# Building code to solve problems"
      ]
    },
    {
      "cell_type": "markdown",
      "metadata": {
        "id": "Q7znwby2uRyK"
      },
      "source": [
        "The last few assignments have covered some basic python functionality. Now let's start putting the pieces together.\n",
        "\n",
        "First, we'll make a theoretical H-R diagram using our model for a star - a blackbody.\n",
        "\n",
        "Next, we'll use filter transmission curves to predict what the emission from different stars at different wavelengths we can observe with the McDonald 30\". Finally, we'll use these results to make an H-R diagram.\n",
        "\n",
        "This notebook lays out the specific steps you need to take but provides fewer specific details about how to write the code. This is a great chance to practice skills like writing functions, using loops and conditonals, etc., that will make life easier in future projects."
      ]
    },
    {
      "cell_type": "code",
      "execution_count": null,
      "metadata": {
        "id": "z-QF9ZbN18x1"
      },
      "outputs": [],
      "source": [
        "# start by importing a few essential packages\n",
        "import numpy as np\n",
        "import matplotlib.pyplot as plt\n",
        "import astropy\n",
        "\n",
        "from astropy.io import fits\n",
        "from astropy.table import Table"
      ]
    },
    {
      "cell_type": "markdown",
      "metadata": {
        "id": "EevQj7d4SLzK"
      },
      "source": [
        "# The model for a star - calculating a blackbody spectrum"
      ]
    },
    {
      "cell_type": "markdown",
      "metadata": {
        "id": "81ciTN85SM8n"
      },
      "source": [
        "For more about blackbody radiation, see Chapter 1 of Chromey or the [LibreText Physics section](https://phys.libretexts.org/Bookshelves/University_Physics/University_Physics_(OpenStax)/University_Physics_III_-_Optics_and_Modern_Physics_(OpenStax)/06%3A_Photons_and_Matter_Waves/6.02%3A_Blackbody_Radiation) on the topic.\n",
        "\n",
        "Start by writing a function to produce a blackbody of a given temperature. The intensity of a blackbody as a function of temperature and wavelength is given by the following equation:\n",
        "\n",
        "\\begin{equation}\n",
        "I(\\lambda, T) = \\frac{2\\pi h c^2}{\\lambda^5} \\frac{1}{ e^{h c / \\lambda k_B T} - 1}\n",
        "\\end{equation}\n",
        "\n",
        "where\n",
        "$\\lambda$ is the wavelength,\n",
        "$T$ is the temperature in Kelvin,\n",
        "$h$ is the Planck constant,\n",
        "$c$ is the speed of light,\n",
        "and $k_B$ is the Boltzmann constant.\n",
        "\n",
        "Take a moment to look at the units. The intensity produced by this equation has units of energy per time per area per wavelength. Note that the total energy flux coming out of the star depends on the surface area or size of the star (sound familiar?).\n",
        "\n",
        "For a given temperature, this will produce the intensity per wavelength. The full distribution is the spectral energy distribution (SED) - that is, how much energy there is per wavelength of light.\n",
        "\n",
        "Before you start writing your function, notice that many of quantities that have to be defined in your function are constants. Fortunately, you can easily access many of these values from ```astropy.constants```."
      ]
    },
    {
      "cell_type": "markdown",
      "metadata": {
        "id": "xQhDveP_KJ8P"
      },
      "source": [
        "### introducing astropy.constants"
      ]
    },
    {
      "cell_type": "markdown",
      "metadata": {
        "id": "sdcNAcITo4iC"
      },
      "source": [
        "The astropy constants package includes a number of constants often used in astronomy. Each constant is a ```Quantity``` - that is, a number with an associated unit - and some metadata that describes the source of the data and the uncertainty.\n",
        "\n",
        "As always, you are encouraged to take a look at the [documentation](https://docs.astropy.org/en/stable/constants/index.html)."
      ]
    },
    {
      "cell_type": "code",
      "execution_count": null,
      "metadata": {
        "id": "3FdB3RWJSj5z"
      },
      "outputs": [],
      "source": [
        "# import the constants with the shortcut name const\n",
        "import astropy.constants as const"
      ]
    },
    {
      "cell_type": "code",
      "execution_count": null,
      "metadata": {
        "colab": {
          "base_uri": "https://localhost:8080/",
          "height": 38
        },
        "id": "OVBZzAEInFfF",
        "outputId": "2faae827-d485-47c7-aeb8-214475def7e0"
      },
      "outputs": [
        {
          "output_type": "execute_result",
          "data": {
            "text/plain": [
              "<<class 'astropy.constants.codata2018.CODATA2018'> name='Speed of light in vacuum' value=299792458.0 uncertainty=0.0 unit='m / s' reference='CODATA 2018'>"
            ],
            "text/latex": "$2.9979246 \\times 10^{8} \\; \\mathrm{\\frac{m}{s}}$"
          },
          "metadata": {},
          "execution_count": 3
        }
      ],
      "source": [
        "# speed of light\n",
        "const.c"
      ]
    },
    {
      "cell_type": "code",
      "execution_count": null,
      "metadata": {
        "colab": {
          "base_uri": "https://localhost:8080/"
        },
        "id": "z7ix86RXnMNN",
        "outputId": "3a5e5232-aa76-49f7-a018-deba6cd828a1"
      },
      "outputs": [
        {
          "output_type": "stream",
          "name": "stdout",
          "text": [
            "  Name   = Speed of light in vacuum\n",
            "  Value  = 299792458.0\n",
            "  Uncertainty  = 0.0\n",
            "  Unit  = m / s\n",
            "  Reference = CODATA 2018\n"
          ]
        }
      ],
      "source": [
        "print(const.c)"
      ]
    },
    {
      "cell_type": "markdown",
      "metadata": {
        "id": "2SBlhp8rpoNy"
      },
      "source": [
        "You can use these quantities in much the same way as other numbers for mathematical operations. The associated units are very convenient for bookkeeping and a great way to check that your answer makes sense."
      ]
    },
    {
      "cell_type": "code",
      "execution_count": null,
      "metadata": {
        "colab": {
          "base_uri": "https://localhost:8080/",
          "height": 38
        },
        "id": "SsDeqwn2p1Om",
        "outputId": "07c5178d-a404-4928-bb02-20d7f73920b6"
      },
      "outputs": [
        {
          "output_type": "execute_result",
          "data": {
            "text/plain": [
              "<Quantity 2.24844344e+08 m / s>"
            ],
            "text/latex": "$2.2484434 \\times 10^{8} \\; \\mathrm{\\frac{m}{s}}$"
          },
          "metadata": {},
          "execution_count": 5
        }
      ],
      "source": [
        "# calculate a speed that is a fraction of the speed of light\n",
        "const.c * 0.75"
      ]
    },
    {
      "cell_type": "markdown",
      "source": [
        "### introducing astropy.units"
      ],
      "metadata": {
        "id": "dTXa1hhcvnK6"
      }
    },
    {
      "cell_type": "markdown",
      "metadata": {
        "id": "LKIV59aCqjpA"
      },
      "source": [
        "You can also assign units youself using the ```astropy.units``` package.\n",
        "\n",
        "Be sure to look at the documentation to see the power and limitations of the units package:\n",
        "https://docs.astropy.org/en/stable/units/index.html"
      ]
    },
    {
      "cell_type": "code",
      "execution_count": null,
      "metadata": {
        "id": "u3tAQ8PhrI-r"
      },
      "outputs": [],
      "source": [
        "import astropy.units as u"
      ]
    },
    {
      "cell_type": "code",
      "execution_count": null,
      "metadata": {
        "id": "6on7JRk4rNYu"
      },
      "outputs": [],
      "source": [
        "my_velocity = 100. * u.km / u.s"
      ]
    },
    {
      "cell_type": "code",
      "execution_count": null,
      "metadata": {
        "colab": {
          "base_uri": "https://localhost:8080/",
          "height": 38
        },
        "id": "hHVeSkbDrQgd",
        "outputId": "ba7fd05d-9254-46e3-c76c-e3644c06c7d2"
      },
      "outputs": [
        {
          "output_type": "execute_result",
          "data": {
            "text/plain": [
              "<Quantity 100. km / s>"
            ],
            "text/latex": "$100 \\; \\mathrm{\\frac{km}{s}}$"
          },
          "metadata": {},
          "execution_count": 8
        }
      ],
      "source": [
        "my_velocity"
      ]
    },
    {
      "cell_type": "markdown",
      "metadata": {
        "id": "ntdXi4KFrM6g"
      },
      "source": [
        "```astropy.units``` makes it easy to convert units."
      ]
    },
    {
      "cell_type": "code",
      "execution_count": null,
      "metadata": {
        "colab": {
          "base_uri": "https://localhost:8080/",
          "height": 38
        },
        "id": "9Q_QwtjopPHb",
        "outputId": "6071811d-1d6b-40f1-c0ea-6cbd2604c1da"
      },
      "outputs": [
        {
          "output_type": "execute_result",
          "data": {
            "text/plain": [
              "<Quantity 299792.458 km / s>"
            ],
            "text/latex": "$299792.46 \\; \\mathrm{\\frac{km}{s}}$"
          },
          "metadata": {},
          "execution_count": 33
        }
      ],
      "source": [
        "const.c.to(u.km/u.s)"
      ]
    },
    {
      "cell_type": "markdown",
      "metadata": {
        "id": "kdAFNwP-02Ug"
      },
      "source": [
        "In cases where you do not want the units attached, you can get just the numerical value by putting ```.value``` at the end of the variable name.\n"
      ]
    },
    {
      "cell_type": "code",
      "execution_count": null,
      "metadata": {
        "colab": {
          "base_uri": "https://localhost:8080/"
        },
        "id": "oKjdie3d1E-Q",
        "outputId": "2a9155e6-78b4-4d67-b962-1f01c7a96081"
      },
      "outputs": [
        {
          "output_type": "execute_result",
          "data": {
            "text/plain": [
              "100.0"
            ]
          },
          "metadata": {},
          "execution_count": 10
        }
      ],
      "source": [
        "my_velocity.value"
      ]
    },
    {
      "cell_type": "markdown",
      "source": [
        "And similarly, the check the units associated with your quantity, use ```.unit```."
      ],
      "metadata": {
        "id": "3t7QSqxdGeEK"
      }
    },
    {
      "cell_type": "code",
      "execution_count": null,
      "metadata": {
        "colab": {
          "base_uri": "https://localhost:8080/",
          "height": 38
        },
        "id": "KZCjtfCN1Iv1",
        "outputId": "e58587f7-7b4f-446b-8232-751e98e4a4e0"
      },
      "outputs": [
        {
          "output_type": "execute_result",
          "data": {
            "text/plain": [
              "Unit(\"km / s\")"
            ],
            "text/latex": "$\\mathrm{\\frac{km}{s}}$"
          },
          "metadata": {},
          "execution_count": 34
        }
      ],
      "source": [
        "my_velocity.unit"
      ]
    },
    {
      "cell_type": "markdown",
      "source": [
        "Finally, a word of caution - while the ```astropy.units``` package is very useful, it won't do the thinking for you. It's always a good idea to check your units and do your own dimensional analysis to make sure that the answer the computer spits out actually makes sense!"
      ],
      "metadata": {
        "id": "V7yc3EIVwaWz"
      }
    },
    {
      "cell_type": "code",
      "source": [
        "my_velocity / const.c"
      ],
      "metadata": {
        "colab": {
          "base_uri": "https://localhost:8080/",
          "height": 38
        },
        "id": "-kHH06EHwgx8",
        "outputId": "dd826aeb-c262-413e-ccff-9a1c25ebbcef"
      },
      "execution_count": null,
      "outputs": [
        {
          "output_type": "execute_result",
          "data": {
            "text/plain": [
              "<Quantity 3.33564095e-07 km / m>"
            ],
            "text/latex": "$3.335641 \\times 10^{-7} \\; \\mathrm{\\frac{km}{m}}$"
          },
          "metadata": {},
          "execution_count": 35
        }
      ]
    },
    {
      "cell_type": "markdown",
      "source": [
        "### write and test a function to create a blackbody spectrum"
      ],
      "metadata": {
        "id": "iWAn80mjw7zl"
      }
    },
    {
      "cell_type": "markdown",
      "source": [
        "Use the equation above to write a function to produce a blackbody spectrum for a given temperature. I recommend that you provide two inputs for the function - the temperature, and the range of wavelengths. Including the range of wavelengths as a second input makes it easy to adjust the spectral coverage in case you need a broader or more narrow range of wavelengths."
      ],
      "metadata": {
        "id": "eaOjXLrnxEsg"
      }
    },
    {
      "cell_type": "code",
      "source": [
        "# your code here"
      ],
      "metadata": {
        "id": "Exbc5lVpxC2l"
      },
      "execution_count": null,
      "outputs": []
    },
    {
      "cell_type": "markdown",
      "source": [
        "### calculate the bolometric flux coming out of your model star"
      ],
      "metadata": {
        "id": "A780e4djxTTi"
      }
    },
    {
      "cell_type": "markdown",
      "source": [
        "An ideal bolometer would measure every photon of every wavelength coming from your star. Calculate the bolometric flux emerging from your model star. To do this, you need to integrate your blackbody curve over all wavelengths.\n"
      ],
      "metadata": {
        "id": "A7rFxzxWxXw5"
      }
    },
    {
      "cell_type": "code",
      "source": [
        "# your code here"
      ],
      "metadata": {
        "id": "aa3WYtU6xXG3"
      },
      "execution_count": null,
      "outputs": []
    },
    {
      "cell_type": "markdown",
      "source": [
        "### calculate the luminosity of the Sun"
      ],
      "metadata": {
        "id": "KBQ2__tNy7un"
      }
    },
    {
      "cell_type": "markdown",
      "source": [
        "We've calculated the flux emerging from our model star. To convert this to a luminosity, we need to include the size of the star.\n",
        "\n",
        "To start, let's do this for the Sun. Note: you do not need any new equations yet!"
      ],
      "metadata": {
        "id": "uggKeGWky_pU"
      }
    },
    {
      "cell_type": "code",
      "source": [
        "# your code here"
      ],
      "metadata": {
        "id": "sX0RJSQ7zNNw"
      },
      "execution_count": null,
      "outputs": []
    },
    {
      "cell_type": "markdown",
      "source": [
        "Compare your calculated luminosity to the measured luminosity of the Sun."
      ],
      "metadata": {
        "id": "CNdOJUxlzX-R"
      }
    },
    {
      "cell_type": "code",
      "source": [
        "const.L_sun"
      ],
      "metadata": {
        "colab": {
          "base_uri": "https://localhost:8080/",
          "height": 37
        },
        "id": "4CMmrMdTzbo0",
        "outputId": "be749616-fdd2-477e-8de1-5dc4e7d7dcb9"
      },
      "execution_count": null,
      "outputs": [
        {
          "output_type": "execute_result",
          "data": {
            "text/plain": [
              "<<class 'astropy.constants.iau2015.IAU2015'> name='Nominal solar luminosity' value=3.828e+26 uncertainty=0.0 unit='W' reference='IAU 2015 Resolution B 3'>"
            ],
            "text/latex": "$3.828 \\times 10^{26} \\; \\mathrm{W}$"
          },
          "metadata": {},
          "execution_count": 16
        }
      ]
    },
    {
      "cell_type": "markdown",
      "source": [
        "### calculating luminosity using $L= \\sigma A T^4$"
      ],
      "metadata": {
        "id": "-hon2g1Ozje_"
      }
    },
    {
      "cell_type": "markdown",
      "source": [
        "Write a function to calculate the luminosity of a blackbody of a given size and temperature using the equation $L = \\sigma A T^4$.\n",
        "\n",
        "Be sure to test your function by calculating the luminosity of the Sun."
      ],
      "metadata": {
        "id": "F1wKfGw20Fvs"
      }
    },
    {
      "cell_type": "code",
      "source": [
        "# your code here"
      ],
      "metadata": {
        "id": "ox6Rbtq40hmP"
      },
      "execution_count": null,
      "outputs": []
    },
    {
      "cell_type": "markdown",
      "source": [
        "What about other stars? How can we estimate their size?\n",
        "\n",
        "We can approximate the radius of a main sequence star as $r \\sim M$. Use the file ```ms_updated.dat``` in the ASTR229_data folder to get a list of stellar masses for stars of a given temperature and luminosity. Use these data to estimate the radii of stars of different masses.\n",
        "\n",
        "A tip to make life easier: notice that the masses in the ```ms_updated.dat``` file are given as a multiple of the mass of the Sun. You can do the same thing with the radius of the star - give it in units of Solar radii."
      ],
      "metadata": {
        "id": "SCvCFV922bU_"
      }
    },
    {
      "cell_type": "code",
      "source": [
        "# your code here"
      ],
      "metadata": {
        "id": "9sBcZ0nT264i"
      },
      "execution_count": null,
      "outputs": []
    },
    {
      "cell_type": "markdown",
      "source": [
        "### make an H-R diagram"
      ],
      "metadata": {
        "id": "OwEOTKi_3TRE"
      }
    },
    {
      "cell_type": "markdown",
      "source": [
        "Now that you have functions to calculate the luminosity of a [model] star of a given temperature, use this make an H-R diagram.\n",
        "\n",
        "Things looking strange? Make sure your axes are going in the correct direction. You may also wish to try plotting your axes on a log scale instead of a linear scale."
      ],
      "metadata": {
        "id": "oIXYrxS03WDi"
      }
    },
    {
      "cell_type": "code",
      "source": [
        "# your code here"
      ],
      "metadata": {
        "id": "xSMlBmVQ3Vfw"
      },
      "execution_count": null,
      "outputs": []
    },
    {
      "cell_type": "markdown",
      "source": [
        "# Making predictions from our model"
      ],
      "metadata": {
        "id": "CZcNABQ331vf"
      }
    },
    {
      "cell_type": "markdown",
      "source": [
        "We could have made our H-R diagram using just a list of temperatures and the equation $L=\\sigma A T^4$. However, this only gives the total luminosity. Much as we would like to get data at every wavelength, often this is not practically possible. Instead, we are usually trying to understand our objects using just a few data points.\n",
        "\n",
        "To get a better estimate of what we can observe, we are now going to use the blackbody function to predict the relative flux from different stars in different wavelengths of light. In images, we select specific wavelengths using filters. For example, the V band filter allows the transmission of light with wavelengths between about $500$ nm and $700$ nm."
      ],
      "metadata": {
        "id": "1xd8HLnE0j2o"
      }
    },
    {
      "cell_type": "markdown",
      "source": [
        "### using PyAstronomy to get filter data and functions"
      ],
      "metadata": {
        "id": "tMdjDdMf5jiQ"
      }
    },
    {
      "cell_type": "markdown",
      "source": [
        "To make our job easier, we'll use the ```PyAstronomy``` library. This package includes the transmission curves for the kind of imaging filters we have access to on McDonald. The library also includes convenience functions to convolve the filter transmission curve with a spectrum to determine how much emission we can expect in that region of the spectrum.\n",
        "\n",
        "```PyAstronomy``` is *not* included in colab as standard, so we'll need to install and import it manually. After you do this, you will also have to restart the colab session because ```PyAstronomy``` uses a different version of ```numpy``` than the colab standard.  \n",
        "\n",
        "If you are running this on your local machine, you may want to make sure you install ```PyAstronomy``` in a dedicated environment so you don't accidentally break any of your other code. (This kind of version incompatibility is one of the big complaints folks have about python as a computing language.)"
      ],
      "metadata": {
        "id": "xvM5Zczu5qf2"
      }
    },
    {
      "cell_type": "code",
      "execution_count": null,
      "metadata": {
        "colab": {
          "base_uri": "https://localhost:8080/"
        },
        "id": "2eKJAPGuJy_K",
        "outputId": "1c67c117-a669-452c-e8ce-577faddd1f41"
      },
      "outputs": [
        {
          "output_type": "stream",
          "name": "stdout",
          "text": [
            "Requirement already satisfied: PyAstronomy in /usr/local/lib/python3.12/dist-packages (0.23.0)\n",
            "Requirement already satisfied: numpy<2 in /usr/local/lib/python3.12/dist-packages (from PyAstronomy) (1.26.4)\n",
            "Requirement already satisfied: six in /usr/local/lib/python3.12/dist-packages (from PyAstronomy) (1.17.0)\n",
            "Requirement already satisfied: scipy in /usr/local/lib/python3.12/dist-packages (from PyAstronomy) (1.16.2)\n",
            "Requirement already satisfied: quantities in /usr/local/lib/python3.12/dist-packages (from PyAstronomy) (0.16.2)\n",
            "Requirement already satisfied: bidict in /usr/local/lib/python3.12/dist-packages (from PyAstronomy) (0.23.1)\n"
          ]
        }
      ],
      "source": [
        "pip install PyAstronomy"
      ]
    },
    {
      "cell_type": "code",
      "execution_count": null,
      "metadata": {
        "id": "dg4dUolMJ0jK"
      },
      "outputs": [],
      "source": [
        "# get the astronomy library\n",
        "from PyAstronomy import pyasl"
      ]
    },
    {
      "cell_type": "markdown",
      "source": [
        "The first time you run ```PyAstronomy``` it will ask you where you want to save the data files. In colab, you can accept the defaults. Remember, in colab, you will have to repeat this process everytime you restart a session."
      ],
      "metadata": {
        "id": "cTZBdxvP8JoV"
      }
    },
    {
      "cell_type": "code",
      "execution_count": null,
      "metadata": {
        "colab": {
          "base_uri": "https://localhost:8080/"
        },
        "id": "gMLWh4LKJ3V9",
        "outputId": "fa1b805a-ac1d-49ab-f9e5-65e53afa8f84"
      },
      "outputs": [
        {
          "output_type": "stream",
          "name": "stdout",
          "text": [
            " -------------- Configure PyA's data path ------------------------\n",
            "  Why do you get this message?\n",
            "    Most probably PyA tries to save permanent data on your\n",
            "    system for the first time. This may be the case when, e.g.,\n",
            "    a table is downloaded and saved. These data are stored\n",
            "    under PyA's 'data path', i.e., a regular directory on\n",
            "    your disk, which PyA can access.\n",
            "  Is anything else saved to the disk?\n",
            "    The location of the data path\n",
            "    directory will be written to the file '.pyaConfigWhere' in\n",
            "    your home directory, so that you need not provide it\n",
            "    again.\n",
            "  Can I delete it?\n",
            "    Yes, you are free to delete anything of this at any time.\n",
            "  What is a valid data path?\n",
            "    You may provide any existing or non-existing path, although\n",
            "    it is strongly encouraged to use a fresh directory to avoid any\n",
            "    confusion. The given path needs to be absolute, to uniquely\n",
            "    identify it.\n",
            " -----------------------------------------------------------------\n",
            "\n",
            "Configure PyA's data path now (y/n)? y\n",
            "\n",
            "  Configure data path now.\n",
            "\n",
            "Please provide a directory where PyA can store data (may already exist):\n",
            "Press enter to accept default; use 'exit' to abort.\n",
            "  Path (default = /root/PyAData): \n",
            "PyA data path configured successfully. Using path: \n",
            "  /root/PyAData\n"
          ]
        }
      ],
      "source": [
        "tcs = pyasl.TransmissionCurves()"
      ]
    },
    {
      "cell_type": "markdown",
      "source": [
        "First, take a look at what bandpass data comes with the library."
      ],
      "metadata": {
        "id": "oY8WjtMd85BF"
      }
    },
    {
      "cell_type": "code",
      "source": [
        "tcs.availableBands()"
      ],
      "metadata": {
        "colab": {
          "base_uri": "https://localhost:8080/"
        },
        "id": "wbfzXy4I82AB",
        "outputId": "dc9df198-8e84-4c92-be2b-c9f57783d060"
      },
      "execution_count": null,
      "outputs": [
        {
          "output_type": "execute_result",
          "data": {
            "text/plain": [
              "['Bessel b',\n",
              " 'Bessel i',\n",
              " 'Bessel r',\n",
              " 'Bessel u',\n",
              " 'Bessel v',\n",
              " 'Gaia_DR3_G',\n",
              " 'Gaia_DR3_G_BP',\n",
              " 'Gaia_DR3_G_RP',\n",
              " 'Johnson B',\n",
              " 'Johnson U',\n",
              " 'Johnson V']"
            ]
          },
          "metadata": {},
          "execution_count": 23
        }
      ]
    },
    {
      "cell_type": "markdown",
      "source": [
        "We can plot the transmission curve to see how efficiently photons of different wavelengths can pass through the filter. In this case, a higher efficiency is better. An ideal filer would look like a top hat - perfect transmission in the wavelength range of interest and zero everywhere else. In practice, perfect filters are impossible to manufacture so transmission curves have some shape to them.\n",
        "\n",
        "Let's look at the V band filter."
      ],
      "metadata": {
        "id": "enU9Yo0X9DVD"
      }
    },
    {
      "cell_type": "code",
      "execution_count": null,
      "metadata": {
        "id": "pBPktlByLLU1"
      },
      "outputs": [],
      "source": [
        "vdata = tcs.getTransCurveData('Bessel v')"
      ]
    },
    {
      "cell_type": "code",
      "execution_count": null,
      "metadata": {
        "colab": {
          "base_uri": "https://localhost:8080/"
        },
        "id": "U2gBIkT4LZJk",
        "outputId": "d5ab40cb-d3ad-4433-82f9-3bbfe3189350"
      },
      "outputs": [
        {
          "output_type": "execute_result",
          "data": {
            "text/plain": [
              "array([[4.70e+03, 0.00e+00],\n",
              "       [4.80e+03, 3.00e-02],\n",
              "       [4.90e+03, 1.63e-01],\n",
              "       [5.00e+03, 4.58e-01],\n",
              "       [5.10e+03, 7.80e-01],\n",
              "       [5.20e+03, 9.67e-01],\n",
              "       [5.30e+03, 1.00e+00],\n",
              "       [5.40e+03, 9.73e-01],\n",
              "       [5.50e+03, 8.98e-01],\n",
              "       [5.60e+03, 7.92e-01],\n",
              "       [5.70e+03, 6.84e-01],\n",
              "       [5.80e+03, 5.74e-01],\n",
              "       [5.90e+03, 4.61e-01],\n",
              "       [6.00e+03, 3.59e-01],\n",
              "       [6.10e+03, 2.70e-01],\n",
              "       [6.20e+03, 1.97e-01],\n",
              "       [6.30e+03, 1.35e-01],\n",
              "       [6.40e+03, 8.10e-02],\n",
              "       [6.50e+03, 4.50e-02],\n",
              "       [6.60e+03, 2.50e-02],\n",
              "       [6.70e+03, 1.70e-02],\n",
              "       [6.80e+03, 1.30e-02],\n",
              "       [6.90e+03, 9.00e-03],\n",
              "       [7.00e+03, 0.00e+00]])"
            ]
          },
          "metadata": {},
          "execution_count": 25
        }
      ],
      "source": [
        "vdata"
      ]
    },
    {
      "cell_type": "code",
      "execution_count": null,
      "metadata": {
        "colab": {
          "base_uri": "https://localhost:8080/",
          "height": 447
        },
        "id": "-aT2w8aLLVF6",
        "outputId": "1fcc92f7-2ecb-4b74-910f-89bf88d94bad"
      },
      "outputs": [
        {
          "output_type": "execute_result",
          "data": {
            "text/plain": [
              "[<matplotlib.lines.Line2D at 0x7b499259e900>]"
            ]
          },
          "metadata": {},
          "execution_count": 26
        },
        {
          "output_type": "display_data",
          "data": {
            "text/plain": [
              "<Figure size 640x480 with 1 Axes>"
            ],
            "image/png": "[encoded data removed]"
          },
          "metadata": {}
        }
      ],
      "source": [
        "plt.plot(vdata[:,0], vdata[:,1])"
      ]
    },
    {
      "cell_type": "markdown",
      "source": [
        "Notice that there are no units attached to this data, so we need to know something about this dataset. The first column is the wavelength in Angstroms and the second column gives the filter transmission - a value that varies between zero and (almost) one. You can think of the transmission as the percent of the light that passes through at that wavelength.\n",
        "\n",
        "First, try plotting the filter transmission curves on top of a blackbody spectrum. Hint: you may want to normalize the intensity so that it varies between zero and one and can be plotted on the same scale as the transmission curves."
      ],
      "metadata": {
        "id": "SQ-qY7zk9-f4"
      }
    },
    {
      "cell_type": "code",
      "source": [
        "# your code here"
      ],
      "metadata": {
        "id": "W51-Qe7pAJQE"
      },
      "execution_count": null,
      "outputs": []
    },
    {
      "cell_type": "markdown",
      "source": [
        "Now we'll use the convenience function ```convolveWith()``` to convolve our blackbody curves with the filter transmission. The convolution allows us to determine how one function modifies another.\n",
        "\n",
        "Try this for the 5 filters that best approximate the filters that we have available on the McDonald 30\": the Bessel UBVRI filters.\n",
        "\n",
        "For the V band, this might look like ```vsun = tcs.convolveWith(lambdas, sun, 'Bessel v')``` where ```lambdas``` is an array of wavelengths, ```sun``` is the blackbody spectrum calculated for the temperature of the Sun, and the ```'Bessel v'``` specifies the specific band.\n"
      ],
      "metadata": {
        "id": "VCbClrhoAJpN"
      }
    },
    {
      "cell_type": "code",
      "source": [
        "# your code here"
      ],
      "metadata": {
        "id": "rCZySS3H5p6V"
      },
      "execution_count": null,
      "outputs": []
    },
    {
      "cell_type": "markdown",
      "source": [
        "Once you have done this for all 5 bands, plot the resulting intensities on top of your original blackbody curve."
      ],
      "metadata": {
        "id": "sZ1_aYoxBxzo"
      }
    },
    {
      "cell_type": "code",
      "source": [
        "# your code here"
      ],
      "metadata": {
        "id": "9-kcGQ715i8I"
      },
      "execution_count": null,
      "outputs": []
    },
    {
      "cell_type": "markdown",
      "source": [
        "### predicting what we'll see in a V band image"
      ],
      "metadata": {
        "id": "HVW2Q0JBCJOL"
      }
    },
    {
      "cell_type": "markdown",
      "source": [
        "We're almost there. Before the next step, take a moment to check your units and think about what we have calculated so far.\n",
        "\n",
        "We generated a blackbody spectrum to represent the energy coming out of our star per time per surface area per wavelength.\n",
        "\n",
        "When we convolve with the filter function we are selecting only some wavelengths from the full spectrum (notice that the ```vsun``` curve is zero everywhere outside the filter coverage). When we take an image, we are essentially taking the sum or integral of all those wavelengths.\n",
        "\n",
        "This still does not account for the distance to the [model] stars. However, we will assume we are modeling a star cluster so we can assume that all the stars are at the same distance. This means that the flux we measure at these wavelengths will scale up or down for all stars in the same way.\n",
        "\n",
        "But thanks to history, what is the quantity we measure in our images? The apparent magnitude,\n",
        "\\begin{equation}\n",
        "m = -2.5 \\log_{10}(F) + K\n",
        "\\end{equation}\n",
        "where $m$ is the apparent magnitude, $F$ is the flux, and $K$ is a constant. For now, assume $K=0$.\n",
        "\n",
        "Write a function to calculate the magnitude from the flux.\n"
      ],
      "metadata": {
        "id": "E750_dDPCNAI"
      }
    },
    {
      "cell_type": "code",
      "source": [
        "# your code here"
      ],
      "metadata": {
        "id": "uaGuFDTaEEHg"
      },
      "execution_count": null,
      "outputs": []
    },
    {
      "cell_type": "markdown",
      "source": [
        "Now calculate the apparent magnitude you would measure in the V band and the B band."
      ],
      "metadata": {
        "id": "8CMlGItbEcLH"
      }
    },
    {
      "cell_type": "code",
      "source": [
        "# your code here"
      ],
      "metadata": {
        "id": "otTQeS3630YG"
      },
      "execution_count": null,
      "outputs": []
    },
    {
      "cell_type": "markdown",
      "source": [
        "Finally, make a plot of (B-V) versus V for your model cluster. You can use the data in ```ms_updated.dat``` for a sample of temperatures. Be sure to label your plot axes!"
      ],
      "metadata": {
        "id": "o_Ayna2HEl0L"
      }
    },
    {
      "cell_type": "code",
      "source": [
        "# your code here"
      ],
      "metadata": {
        "id": "n7PoKbWT3xYT"
      },
      "execution_count": null,
      "outputs": []
    }
  ],
  "metadata": {
    "colab": {
      "provenance": [],
      "mount_file_id": "1oZozXti91BTw8dxY4ESI6yVvsIB3GFhJ",
      "authorship_tag": "ABX9TyNsHrWGnHri8qX86J9sJLqB",
      "include_colab_link": true
    },
    "kernelspec": {
      "display_name": "Python 3",
      "name": "python3"
    },
    "language_info": {
      "name": "python"
    }
  },
  "nbformat": 4,
  "nbformat_minor": 0
}