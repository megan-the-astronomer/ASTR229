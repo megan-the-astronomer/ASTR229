{
  "nbformat": 4,
  "nbformat_minor": 0,
  "metadata": {
    "colab": {
      "provenance": [],
      "mount_file_id": "1ovM2xLpTaTLlxbGXSj8vNkVBHY2YgZmE",
      "authorship_tag": "ABX9TyO+ni1UGttDNMn6Qq55vF9h",
      "include_colab_link": true
    },
    "kernelspec": {
      "name": "python3",
      "display_name": "Python 3"
    },
    "language_info": {
      "name": "python"
    }
  },
  "cells": [
    {
      "cell_type": "markdown",
      "metadata": {
        "id": "view-in-github",
        "colab_type": "text"
      },
      "source": [
        "<a href=\"https://colab.research.google.com/github/megan-the-astronomer/ASTR229/blob/main/fitting_models_to_data.ipynb\" target=\"_parent\"><img src=\"https://colab.research.google.com/assets/colab-badge.svg\" alt=\"Open In Colab\"/></a>"
      ]
    },
    {
      "cell_type": "markdown",
      "source": [
        "# Fitting models to data"
      ],
      "metadata": {
        "id": "sXB6A9cl6PzG"
      }
    },
    {
      "cell_type": "markdown",
      "source": [
        "Last week, we took our model for a star, a blackbody, and built the code to generate a model spectrum.\n",
        "\n",
        "Often times we want to fit a model to real data.\n",
        "For a simple example, we could measure the location of an object and the velocity of an object. If it is coasting, then we can easily fit a linear model because distance = rate * time.\n",
        "\n",
        "This kind of model fitting is what we mean when we talk about main sequence fitting to determine distances. First, observe a star cluster and make an H-R diagram. Then fit a model - usually a single-age stellar population. The best fit of the model to the data can be used to derive the distance to the star cluster.\n",
        "\n",
        "Let's look at some simple model fitting."
      ],
      "metadata": {
        "id": "b27FXKSv6SWc"
      }
    },
    {
      "cell_type": "code",
      "execution_count": null,
      "metadata": {
        "id": "2azyWIQgyPWy"
      },
      "outputs": [],
      "source": [
        "# start by importing a few essentials\n",
        "import numpy as np\n",
        "import matplotlib.pyplot as plt\n",
        "import astropy\n",
        "\n",
        "from astropy.io import fits\n",
        "from astropy.table import Table\n",
        "import astropy.constants as const\n",
        "import astropy.units as u"
      ]
    },
    {
      "cell_type": "markdown",
      "source": [
        "# To start: estimate some quantities that we'll use to derive a scaling relationship"
      ],
      "metadata": {
        "id": "8IlyLoCq9vZh"
      }
    },
    {
      "cell_type": "markdown",
      "source": [
        "Last week, we made an assumption about how the radius of a main-sequence star scales with the mass.\n",
        "\n",
        "Let's test that assumption. Use the main sequence star data you have access to in the ```ASTR229_data``` folder to estimate the radius of a star from the luminosity."
      ],
      "metadata": {
        "id": "KjNvSCHU933_"
      }
    },
    {
      "cell_type": "code",
      "source": [
        "# your code here"
      ],
      "metadata": {
        "id": "A7dv1RtLU47b"
      },
      "execution_count": null,
      "outputs": []
    },
    {
      "cell_type": "markdown",
      "source": [
        "Now, plot the mass of the star versus the radius.\n",
        "\n",
        "We assumed $M \\sim r$ or a linear relationship between the two quantities. Plot a line on your graph to see how good that assumption is."
      ],
      "metadata": {
        "id": "XfHfyRn1_WCj"
      }
    },
    {
      "cell_type": "code",
      "source": [
        "# your code here"
      ],
      "metadata": {
        "id": "5VHSReSPVFUS"
      },
      "execution_count": null,
      "outputs": []
    },
    {
      "cell_type": "markdown",
      "source": [
        "If all went well, you should see that a straight line is a rough approximation but not a perfect representation of the data. You can play around with plotting different lines (e.g., change the slope and intercept) to see how close you can get.\n",
        "\n",
        "Rather than spending a lot of time on trial and error, we can fit the model to the data."
      ],
      "metadata": {
        "id": "FsupMrnf_ueB"
      }
    },
    {
      "cell_type": "markdown",
      "source": [
        "# simple model fitting"
      ],
      "metadata": {
        "id": "f8f2cpXa9DKs"
      }
    },
    {
      "cell_type": "markdown",
      "source": [
        "Recommended reading: https://docs.astropy.org/en/latest/modeling/index.html\n",
        "\n",
        "In this example, we will use tools from ```astropy.modeling``` although there are many, many other python tools for fitting models to data and assessing the goodness-of-fit.\n",
        "\n",
        "To start, we need to define the model we want to fit and the fitter to use to fit the model to the data.  "
      ],
      "metadata": {
        "id": "bu06e8w09FQu"
      }
    },
    {
      "cell_type": "code",
      "source": [
        "# import the modeling tools\n",
        "from astropy.modeling import models, fitting"
      ],
      "metadata": {
        "id": "rf2Ue-nT9Es-"
      },
      "execution_count": null,
      "outputs": []
    },
    {
      "cell_type": "code",
      "source": [
        "# some numbers for the next cell\n",
        "# be sure to use your data!\n",
        "radii = np.array([6.6, 1.8, 1.4, 1.15, 0.96, 0.7])\n",
        "masses = np.array([16, 2.1, 1.4, 1.04, 0.8, 0.45])"
      ],
      "metadata": {
        "id": "6q3IuIeW2b5z"
      },
      "execution_count": null,
      "outputs": []
    },
    {
      "cell_type": "code",
      "source": [
        "# define the model to fit - in this case, a linear function\n",
        "# input a starting guess for the slope and intercept\n",
        "t_init = models.Linear1D(slope=1, intercept=0)\n",
        "# select the fitter to use\n",
        "fit_t = fitting.TRFLSQFitter()\n",
        "# fit the model to the data\n",
        "t = fit_t(t_init, radii, masses, maxiter=200)"
      ],
      "metadata": {
        "colab": {
          "base_uri": "https://localhost:8080/"
        },
        "id": "Vz58TBzo9Ic_",
        "outputId": "fe4e1e07-e622-4cc1-e5d0-120c31d668f2"
      },
      "execution_count": null,
      "outputs": [
        {
          "output_type": "stream",
          "name": "stderr",
          "text": [
            "WARNING: Model is linear in parameters; consider using linear fitting methods. [astropy.modeling.fitting]\n",
            "WARNING:astropy:Model is linear in parameters; consider using linear fitting methods.\n"
          ]
        }
      ]
    },
    {
      "cell_type": "code",
      "source": [
        "# plot the results"
      ],
      "metadata": {
        "id": "vyuYGvBPB-xL"
      },
      "execution_count": null,
      "outputs": []
    },
    {
      "cell_type": "markdown",
      "source": [
        "Hopefully the line is close to the data. Try playing around with different inital guesses for the slope and intercept. Does this change the best-fit parameters?  \n",
        "\n",
        "How can we quantify how well the model fits the data?\n",
        "The simplest way is to calculate the root mean square (RMS) error. The RMS is calculated as follows:\n",
        "\n",
        "\\begin{equation}\n",
        "RMS = \\sqrt{ \\frac{\\Sigma (x_{data} - x_{model})^2}{N} }\n",
        "\\end{equation}\n",
        "\n",
        "where\n",
        "$x_{data}$ is your data,\n",
        "$x_{model}$ is the model, and\n",
        "$N$ is the number of samples."
      ],
      "metadata": {
        "id": "zVfVRECtD8RE"
      }
    },
    {
      "cell_type": "code",
      "source": [
        "# your code here"
      ],
      "metadata": {
        "id": "BTxAe4ly2uD-"
      },
      "execution_count": null,
      "outputs": []
    },
    {
      "cell_type": "markdown",
      "source": [
        "Think about how you expect the RMS to change if the model is a better representation of the data.\n",
        "\n",
        "Now try fitting a polynomial instead of a straight line.\n",
        "Calculate the RMS for the polynomial fit. How does it compare to the linear fit?"
      ],
      "metadata": {
        "id": "MR8yTBaf-GMc"
      }
    },
    {
      "cell_type": "code",
      "source": [
        "# your code here"
      ],
      "metadata": {
        "id": "Lbv7UR8T98Og"
      },
      "execution_count": null,
      "outputs": []
    },
    {
      "cell_type": "markdown",
      "source": [
        "If your RMS did not *decrease*, try a different order polynomial to fit."
      ],
      "metadata": {
        "id": "w7O_5qFU-j4s"
      }
    },
    {
      "cell_type": "markdown",
      "source": [
        "# thinking about units and numerical precision"
      ],
      "metadata": {
        "id": "Chkw2udSv72Q"
      }
    },
    {
      "cell_type": "markdown",
      "source": [
        "Astronomy involves a lot of big numbers - a Solar mass is $\\sim 2 \\times 10^{30}$ kg, galaxies can be $\\gtrsim 10^9$ M$_{\\odot}$, and ages are typically in the million and billions of years.\n",
        "\n",
        "These big numbers can introduce some challenges in computing. Computers only have a finite amount of memory to store information (like all the digits in your number) which can lead to rounding errors and problems accurately representing very large and very small numbers.\n",
        "For some entertaining examples of this (and a great explanation of why you shouldn't do your scientific analysis in Excel), you might enjoy the book [Humble Pi by Matt Parker](https://www.penguinrandomhouse.com/books/610964/humble-pi-by-matt-parker/).\n",
        "\n",
        "Working with very large numbers can also create problems when trying to fit models to data. In astronomy, we are often looking for (comparatively) small variations between (comparatively) large numbers.\n",
        "\n",
        "For some applications, it make sense to find a solution to store really large numbers with adequate precision.\n",
        "\n",
        "For everything we do in this class and much of what we do in astronomy, there is an easier way.\n",
        "\n",
        "How easy is it to compare the mass of these two stars?"
      ],
      "metadata": {
        "id": "2goC9YS7v_iX"
      }
    },
    {
      "cell_type": "code",
      "source": [
        "print('Star 1 has a mass of '+str(const.M_sun.value)+' '+str(const.M_sun.unit))\n",
        "print('Star 2 has a mass of '+str(5.*const.M_sun.value)+' '+str(const.M_sun.unit))"
      ],
      "metadata": {
        "colab": {
          "base_uri": "https://localhost:8080/"
        },
        "id": "lDvLlUdZYZdA",
        "outputId": "f5d6cd0a-7beb-4f40-c20e-c562da27591d"
      },
      "execution_count": null,
      "outputs": [
        {
          "output_type": "stream",
          "name": "stdout",
          "text": [
            "Star 1 has a mass of 1.988409870698051e+30 kg\n",
            "Star 2 has a mass of 9.942049353490255e+30 kg\n"
          ]
        }
      ]
    },
    {
      "cell_type": "markdown",
      "source": [
        "compared to..."
      ],
      "metadata": {
        "id": "1TW5Ow1IYwT-"
      }
    },
    {
      "cell_type": "code",
      "source": [
        "print('Star 1 has a mass of 1 M_sun')\n",
        "print('Star 2 has a mass of 5 M_sun')"
      ],
      "metadata": {
        "colab": {
          "base_uri": "https://localhost:8080/"
        },
        "id": "HMnhLMCKYZZK",
        "outputId": "ceb62733-bf8c-4235-e47e-1929de030dc1"
      },
      "execution_count": null,
      "outputs": [
        {
          "output_type": "stream",
          "name": "stdout",
          "text": [
            "Star 1 has a mass of 1 M_sun\n",
            "Star 2 has a mass of 5 M_sun\n"
          ]
        }
      ]
    },
    {
      "cell_type": "markdown",
      "source": [
        "Now consider the following plots. Which is easier to read?\n",
        "\n",
        "Option 1:\n",
        "\n",
        "![Unknown.png](data:image/png;base64,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)\n",
        "\n",
        "Option 2:\n",
        "\n",
        "![Unknown-2.png](data:image/png;base64,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)\n",
        "\n",
        "Option 3:\n",
        "\n",
        "![Unknown-3.png](data:image/png;base64,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)"
      ],
      "metadata": {
        "id": "k016PXLSYNAz"
      }
    },
    {
      "cell_type": "markdown",
      "source": [
        "Very often, we can make life simpler by using units that are defined relative to the Sun (e.g., M$_{\\odot}$, L$_{\\odot}$, R$_{\\odot}$).\n",
        "\n",
        "When in doubt, check your units! Were the radii you derived from the luminosity in units of m or R$_{\\odot}$?\n",
        "\n",
        "Keep this in mind when setting up your data to feed into a model and when making your plots. Notice how increasing the font size on the axis labels does not change the size of the exponent shown on the first graph. Demonstrate your understanding by turning in high-quality plots with this and every assignment."
      ],
      "metadata": {
        "id": "-EPOV0zPy4Cm"
      }
    },
    {
      "cell_type": "markdown",
      "source": [
        "### your turn"
      ],
      "metadata": {
        "id": "ZK4MXEjG-3IZ"
      }
    },
    {
      "cell_type": "markdown",
      "source": [
        "Derive a scaling relationship between luminosity with mass on the main sequence using your newfound fitting skills."
      ],
      "metadata": {
        "id": "GAmx_Nyg-5hI"
      }
    },
    {
      "cell_type": "code",
      "source": [
        "# your code here"
      ],
      "metadata": {
        "id": "K-UcghYuAmMe"
      },
      "execution_count": null,
      "outputs": []
    },
    {
      "cell_type": "markdown",
      "source": [
        "# Caveats! Beware simple results from simple models!"
      ],
      "metadata": {
        "id": "UIPalkRvbMH7"
      }
    },
    {
      "cell_type": "markdown",
      "source": [
        "The scaling relationships derived from the model data are not too bad considering how simple our model is.\n",
        "\n",
        "When more physics is included, you can derive better scaling relations.\n",
        "\n",
        "How do people do this observationally? Typically with a lot of painstaking work observing binary systems. For the interested reader, take a look at, e.g., [Eker et al. (2015)](https://iopscience.iop.org/article/10.1088/0004-6256/149/4/131)."
      ],
      "metadata": {
        "id": "eCnoArk6d4pd"
      }
    },
    {
      "cell_type": "code",
      "source": [],
      "metadata": {
        "id": "QLMq8CjEFW6Y"
      },
      "execution_count": null,
      "outputs": []
    },
    {
      "cell_type": "markdown",
      "source": [
        "# Help! My code doesn't work!"
      ],
      "metadata": {
        "id": "5d98aLm1BDVW"
      }
    },
    {
      "cell_type": "markdown",
      "source": [
        "For the second part of this assignment, we're going to practice debugging and troublshooting.\n",
        "\n",
        "Often code doesn't work right away so it is a good idea to build your skills for debugging - that is, identifying and solving problems in your code.\n",
        "\n",
        "In the next sections, we'll look at a few different common errors."
      ],
      "metadata": {
        "id": "yqSeEI89CTtX"
      }
    },
    {
      "cell_type": "markdown",
      "source": [
        "### Syntax errors"
      ],
      "metadata": {
        "id": "YoaS56eQ4p3t"
      }
    },
    {
      "cell_type": "markdown",
      "source": [
        "A syntax error is a mistake in the structure of the code. This can be little things like typos and missing parentheses. It can also include problems like not having proper indentation in a loop.\n",
        "\n",
        "The following code has a syntax error. Find it and fix it so that the code runs and outputs the correct result."
      ],
      "metadata": {
        "id": "fSt8bwF34smK"
      }
    },
    {
      "cell_type": "code",
      "source": [
        "def parsecs_to_light_years(parsecs):\n",
        "    light_years = parsecs * 3.262\n",
        "    return light_years\n",
        "\n",
        "# Calculate light-years for a star 10 parsecs away\n",
        "distance = 10\n",
        "light_years = parsecs_to_light_years(distance)\n",
        "print(\"Distance in light-years is: \" light_years)"
      ],
      "metadata": {
        "colab": {
          "base_uri": "https://localhost:8080/",
          "height": 105
        },
        "id": "BFWxkEVx5dd-",
        "outputId": "ab718439-8ded-46d8-94dd-19696ca05918"
      },
      "execution_count": null,
      "outputs": [
        {
          "output_type": "error",
          "ename": "SyntaxError",
          "evalue": "invalid syntax. Perhaps you forgot a comma? (ipython-input-3246103004.py, line 8)",
          "traceback": [
            "\u001b[0;36m  File \u001b[0;32m\"/tmp/ipython-input-3246103004.py\"\u001b[0;36m, line \u001b[0;32m8\u001b[0m\n\u001b[0;31m    print(\"Distance in light-years is: \" light_years)\u001b[0m\n\u001b[0m          ^\u001b[0m\n\u001b[0;31mSyntaxError\u001b[0m\u001b[0;31m:\u001b[0m invalid syntax. Perhaps you forgot a comma?\n"
          ]
        }
      ]
    },
    {
      "cell_type": "markdown",
      "source": [
        "Be sure to look at the error message!\n",
        "\n",
        "The next example has two errors. Fix and explain them both. Describe what, if anything, you did differently to troubleshoot a larger block of code."
      ],
      "metadata": {
        "id": "xULmMZQp54VQ"
      }
    },
    {
      "cell_type": "code",
      "source": [
        "def gravitational_force(mass1, mass2, distance):\n",
        "    G = 6.674 * (10 ** -11)  # Gravitational constant\n",
        "    force = (G * mass1 * mass2) / distance^2\n",
        "    return\n",
        "\n",
        "# Define masses in kilograms and distance in meters\n",
        "mass_star1 = 1.989 * (10 ** 30)  # Mass of the sun\n",
        "mass_star2 = 5.974 * (10 ** 24)   # Mass of the Earth\n",
        "distance_apart = 1.496 * (10 ** 11)  # Distance in meters\n",
        "\n",
        "# Calculate gravitational force\n",
        "force = gravitational_force(mass_star1, mass_star2, distance_apart)\n",
        "print(\"Gravitational force between the stars is: \", force)"
      ],
      "metadata": {
        "id": "YAIhpMYc51Fz"
      },
      "execution_count": null,
      "outputs": []
    },
    {
      "cell_type": "markdown",
      "source": [
        "### Runtime errors"
      ],
      "metadata": {
        "id": "xHEh9vD_6tA2"
      }
    },
    {
      "cell_type": "markdown",
      "source": [
        "A runtime errors occurs during the execution of the code. These often cause the code to terminate unexpectedly.\n",
        "\n",
        "Find and fix the runtime error in the code below."
      ],
      "metadata": {
        "id": "ul2h5Pfr8nfG"
      }
    },
    {
      "cell_type": "code",
      "source": [
        "def average_distance(distances):\n",
        "    total_distance = sum(distances)\n",
        "    return total_distance / len(distances)\n",
        "\n",
        "# List of distances\n",
        "planet_distances = [0.39, 0.72, 1.0, None, 5.2]\n",
        "\n",
        "# Calculate average distance\n",
        "avg_distance = average_distance(planet_distances)\n",
        "print(\"Average distance of planets from the Sun: \", avg_distance)"
      ],
      "metadata": {
        "id": "vzX8FtCz6IZi"
      },
      "execution_count": null,
      "outputs": []
    },
    {
      "cell_type": "markdown",
      "source": [
        "Common errors in this category include invalid indices and incompatible datatypes.\n",
        "\n",
        "Find and fix the runtime error in the code below."
      ],
      "metadata": {
        "id": "3b-bLMGZ7DwM"
      }
    },
    {
      "cell_type": "code",
      "source": [
        "def calculate_orbital_period(semi_major_axis):\n",
        "    # Using Kepler's 3rd law: P^2 = a^3, where P is the orbital period in Earth years and a is the semi-major axis in AU\n",
        "    return (semi_major_axis ** 1.5)\n",
        "\n",
        "# List of semi-major axes for planets in Astronomical Units (AU)\n",
        "planet_semi_major_axes = [0.39, 0.72, 1.0, 1.52, 'not a number', 5.2]\n",
        "\n",
        "# Calculate orbital periods\n",
        "orbital_periods = []\n",
        "for axis in planet_semi_major_axes:\n",
        "    period = calculate_orbital_period(axis)\n",
        "    orbital_periods.append(period)\n",
        "\n",
        "print(\"Orbital periods of planets: \", orbital_periods)"
      ],
      "metadata": {
        "id": "EV3nRYKW6zfy"
      },
      "execution_count": null,
      "outputs": []
    },
    {
      "cell_type": "markdown",
      "source": [
        "### Logic errors"
      ],
      "metadata": {
        "id": "oB9JYbpV7FO1"
      }
    },
    {
      "cell_type": "markdown",
      "source": [
        "The final type of error we will examine are logic errors. These can be sneaky because often the code will run but it will produce incorrect results. This is one of the reasons you want to test your code on something where you know the answer (e.g., calculating the luminosity of the Sun).\n",
        "\n",
        "Find and fix and the logic error in the code below."
      ],
      "metadata": {
        "id": "C9IbxkhK9Oih"
      }
    },
    {
      "cell_type": "code",
      "source": [
        "def total_mass(star_masses):\n",
        "    total = 0\n",
        "    for mass in star_masses:\n",
        "        total += mass\n",
        "    return total\n",
        "\n",
        "# List of star masses in solar masses\n",
        "star_masses = [1.0, 0.5, 1.5, 2.0]\n",
        "# stellar mass to exclude\n",
        "excluded_star_mass = 1.2\n",
        "\n",
        "# Calculate total mass of the stars\n",
        "total = total_mass(star_masses)\n",
        "print(\"Total mass of the stars is: \", total)\n",
        "\n",
        "# Indicate the excluded mass\n",
        "print(\"The excluded star mass was: \", excluded_star_mass)"
      ],
      "metadata": {
        "id": "NVFYu_Iv7CRG"
      },
      "execution_count": null,
      "outputs": []
    },
    {
      "cell_type": "markdown",
      "source": [
        "Reflect on how identifying and fixing logic errors is different than identifying and fixing syntax and runtime errors.\n",
        "\n",
        "Then find and fix the error in the code below."
      ],
      "metadata": {
        "id": "8tjphpcH9m2a"
      }
    },
    {
      "cell_type": "code",
      "source": [
        "def gravitational_potential_energy(mass1, mass2, distance):\n",
        "    G = 6.674 * (10 ** -11)  # Gravitational constant\n",
        "    potential_energy = (G * mass1 * mass2) / distance\n",
        "    return potential_energy\n",
        "\n",
        "# Define masses in kilograms\n",
        "mass_star1 = 1.989 * (10 ** 30)  # Mass of the Sun\n",
        "mass_star2 = 5.974 * (10 ** 24)   # Mass of the Earth\n",
        "distance_apart = 1.496 * (10 ** 11)  # Distance in meters\n",
        "\n",
        "# Calculate gravitational potential energy\n",
        "energy = gravitational_potential_energy(mass_star1, mass_star2, distance_apart)\n",
        "print(\"Gravitational potential energy between the stars is: \", energy)"
      ],
      "metadata": {
        "id": "Gi9CsPoG7U2-"
      },
      "execution_count": null,
      "outputs": []
    },
    {
      "cell_type": "code",
      "source": [],
      "metadata": {
        "id": "Fw39da4J7hQ6"
      },
      "execution_count": null,
      "outputs": []
    }
  ]
}