{
  "nbformat": 4,
  "nbformat_minor": 0,
  "metadata": {
    "colab": {
      "provenance": [],
      "authorship_tag": "ABX9TyPa1mIFYd8sXwqCRW0HC6Om",
      "include_colab_link": true
    },
    "kernelspec": {
      "name": "python3",
      "display_name": "Python 3"
    },
    "language_info": {
      "name": "python"
    }
  },
  "cells": [
    {
      "cell_type": "markdown",
      "metadata": {
        "id": "view-in-github",
        "colab_type": "text"
      },
      "source": [
        "<a href=\"https://colab.research.google.com/github/megan-the-astronomer/ASTR229/blob/main/getting_to_know_python_and_colab.ipynb\" target=\"_parent\"><img src=\"https://colab.research.google.com/assets/colab-badge.svg\" alt=\"Open In Colab\"/></a>"
      ]
    },
    {
      "cell_type": "markdown",
      "source": [
        "# Getting started with python"
      ],
      "metadata": {
        "id": "ZVGLOEvAadJI"
      }
    },
    {
      "cell_type": "markdown",
      "source": [
        "The goal of this notebook is to help you get familiar with some basic python usage. If you've already taken a CS class, much of this will likely look familiar. In this notebook, we'll take the first steps toward applying some basic python tasks to do astronomy.\n",
        "\n",
        "If you are not feeling confident with your python skills or want more practice than this notebook provides, take a look at some of the introductory python lessons available through the Carpentries project:\n",
        "\n",
        "[Programming with python](https://swcarpentry.github.io/python-novice-inflammation/)\n",
        "\n",
        "[Plotting and programming with Python](https://swcarpentry.github.io/python-novice-gapminder/)\n",
        "\n",
        "[Programming for Astronomy and Astrophysics](https://philuttley.github.io/prog4aa/)\n",
        "\n",
        "Before getting started, take a look at the \"Generative AI\" statement on the software carpentries [fundamentals page](https://swcarpentry.github.io/python-novice-inflammation/01-intro.html). You are strongly discouraged from using LLMs to generate code at this stage because the purpose of these early assignments is to build skills. The toolkit you are building now will put you in a much better position to judge the quality of AI output later on and for more complex problems."
      ],
      "metadata": {
        "id": "NUbWjHRqaf6G"
      }
    },
    {
      "cell_type": "markdown",
      "source": [
        "## Using notebooks to write, edit, and run python code."
      ],
      "metadata": {
        "id": "SV8orwFa3Fs4"
      }
    },
    {
      "cell_type": "markdown",
      "source": [
        "Notebooks, like this one, are a great way to visualize code. They contain a mix of different types of information contained in different cells. In colab, you have the option to add a 'Code' cell or a 'Text' cell. The code cells take commands to execute in python. Text cells, like this one, can be used to add explanatory text, section headings, and even links.\n",
        "\n",
        "For those new to notebooks, you may wish to review the *Programming for Astronomy and Astrophysics* ['Writing and running code in Jupyter Notebooks' page](https://philuttley.github.io/prog4aa/01-notebooks/index.html)"
      ],
      "metadata": {
        "id": "n1vzl_lc3WgA"
      }
    },
    {
      "cell_type": "code",
      "execution_count": null,
      "metadata": {
        "colab": {
          "base_uri": "https://localhost:8080/"
        },
        "id": "geKntQKC2EnB",
        "outputId": "8abfadf4-17cc-4b6c-d4ef-0670eeec2bb5"
      },
      "outputs": [
        {
          "output_type": "execute_result",
          "data": {
            "text/plain": [
              "4"
            ]
          },
          "metadata": {},
          "execution_count": 1
        }
      ],
      "source": [
        "# this is a code cell\n",
        "# you can still add notes within a code cell using the comment character - in this case '#'\n",
        "\n",
        "# let's start with some basic arithmetic\n",
        "2+2"
      ]
    },
    {
      "cell_type": "markdown",
      "source": [
        "### Advice for successfully using colab and jupyter notebooks"
      ],
      "metadata": {
        "id": "iponmfKP4AuZ"
      }
    },
    {
      "cell_type": "markdown",
      "source": [
        "A few tips and tricks to make your life easier:\n",
        "\n",
        "1.   Be very careful when running cells out of order! Notice that there is a number written in square brackets on the left edge of the cell - if you rerun the cell that number will increase. This is an easy way to see if cells have been run out of order. A given python session will remember each command that has been run so weird things can happend when jumping around in a notebook.\n",
        "\n",
        "2.   If things are acting weird or crashing altogether, try restarting the kernel. In colab, you can do this by selecting 'Restart session' under the 'Runtime' dropdown menu.\n",
        "\n",
        "If you'd prefer to run python and jupyer notebooks locally, we have provided some advice for getting setup on the canvas page. A gentle reminder that while we are happy to help, we are not experts in your computer and cannot promise system administration support if you chose to go this route.\n",
        "\n",
        "You can download notebooks from colab as either jupyter notebooks or '.py' files using the 'Download' option under the 'File' dropdown menu."
      ],
      "metadata": {
        "id": "xCDTwq7P4Fhu"
      }
    },
    {
      "cell_type": "markdown",
      "source": [
        "# Math and variables"
      ],
      "metadata": {
        "id": "aXe4_xWF5AvQ"
      }
    },
    {
      "cell_type": "markdown",
      "source": [
        " Recommended reading: [https://philuttley.github.io/prog4aa/02-variables/index.html](https://philuttley.github.io/prog4aa/02-variables/index.html)\n",
        "\n",
        "At its simplest, you can use python like a calculator. You can do basic arithmetic:  "
      ],
      "metadata": {
        "id": "SeDtALAh5OpL"
      }
    },
    {
      "cell_type": "code",
      "source": [
        "2+3"
      ],
      "metadata": {
        "colab": {
          "base_uri": "https://localhost:8080/"
        },
        "id": "XRpc8aqzr3MO",
        "outputId": "472cd8cf-b2da-4b74-8571-de6501e9f251"
      },
      "execution_count": null,
      "outputs": [
        {
          "output_type": "execute_result",
          "data": {
            "text/plain": [
              "5"
            ]
          },
          "metadata": {},
          "execution_count": 2
        }
      ]
    },
    {
      "cell_type": "code",
      "source": [
        "2-3"
      ],
      "metadata": {
        "colab": {
          "base_uri": "https://localhost:8080/"
        },
        "id": "MjAxAX_esQ0E",
        "outputId": "95658cf5-e790-4258-c0cf-2c3a0c03411b"
      },
      "execution_count": null,
      "outputs": [
        {
          "output_type": "execute_result",
          "data": {
            "text/plain": [
              "-1"
            ]
          },
          "metadata": {},
          "execution_count": 3
        }
      ]
    },
    {
      "cell_type": "code",
      "source": [
        "2*3"
      ],
      "metadata": {
        "colab": {
          "base_uri": "https://localhost:8080/"
        },
        "id": "hNng-tBUr5CN",
        "outputId": "f7ebc33f-9b2d-4306-cef4-43b4182c5f53"
      },
      "execution_count": null,
      "outputs": [
        {
          "output_type": "execute_result",
          "data": {
            "text/plain": [
              "6"
            ]
          },
          "metadata": {},
          "execution_count": 4
        }
      ]
    },
    {
      "cell_type": "code",
      "source": [
        "2/3"
      ],
      "metadata": {
        "colab": {
          "base_uri": "https://localhost:8080/"
        },
        "id": "7IlWQ9OSsNjr",
        "outputId": "632fb800-c57d-4232-f77d-f2190c3abf76"
      },
      "execution_count": null,
      "outputs": [
        {
          "output_type": "execute_result",
          "data": {
            "text/plain": [
              "0.6666666666666666"
            ]
          },
          "metadata": {},
          "execution_count": 5
        }
      ]
    },
    {
      "cell_type": "markdown",
      "source": [
        "python has some particular syntax requirements. For example, try finding the value of 2$^2$."
      ],
      "metadata": {
        "id": "jOFTapzts8BC"
      }
    },
    {
      "cell_type": "code",
      "source": [
        "# first try the following:\n",
        "2^2"
      ],
      "metadata": {
        "colab": {
          "base_uri": "https://localhost:8080/"
        },
        "id": "VPioPfZEsoPp",
        "outputId": "d62662c0-775d-4f6d-d8e9-32283f39d177"
      },
      "execution_count": null,
      "outputs": [
        {
          "output_type": "execute_result",
          "data": {
            "text/plain": [
              "0"
            ]
          },
          "metadata": {},
          "execution_count": 6
        }
      ]
    },
    {
      "cell_type": "markdown",
      "source": [
        "notice that the computer gave you an answer... but the wrong answer.\n",
        "\n",
        "The correct syntax is below."
      ],
      "metadata": {
        "id": "UCBgWjf4tF6K"
      }
    },
    {
      "cell_type": "code",
      "source": [
        "2**2"
      ],
      "metadata": {
        "colab": {
          "base_uri": "https://localhost:8080/"
        },
        "id": "umUOSUKGs3PZ",
        "outputId": "265297b3-2421-44f9-ab8f-57454bf5cdf5"
      },
      "execution_count": null,
      "outputs": [
        {
          "output_type": "execute_result",
          "data": {
            "text/plain": [
              "4"
            ]
          },
          "metadata": {},
          "execution_count": 7
        }
      ]
    },
    {
      "cell_type": "markdown",
      "source": [
        "Much more useful is to use variables. These require that you assign a value and they can be used to do symbolic math. Let's try and example doing some unit conversion."
      ],
      "metadata": {
        "id": "Ik9EAtsdsjmT"
      }
    },
    {
      "cell_type": "code",
      "source": [
        "# there are 60 arcminutes in a degree\n",
        "deg2arcmin = 60\n",
        "\n",
        "# there are 60 arcsec in an arcmin\n",
        "arcmin2arcsec = 60"
      ],
      "metadata": {
        "id": "ehmNldHq5VuM"
      },
      "execution_count": null,
      "outputs": []
    },
    {
      "cell_type": "code",
      "source": [
        "deg2arcsec = deg2arcmin * arcmin2arcsec\n",
        "\n",
        "# you can use the print function to find the value of a variable\n",
        "print(deg2arcsec)"
      ],
      "metadata": {
        "colab": {
          "base_uri": "https://localhost:8080/"
        },
        "id": "hB96lbgR5orR",
        "outputId": "a4bd1637-d910-4f22-9874-36086a070213"
      },
      "execution_count": null,
      "outputs": [
        {
          "output_type": "stream",
          "name": "stdout",
          "text": [
            "3600\n"
          ]
        }
      ]
    },
    {
      "cell_type": "code",
      "source": [
        "# you can also print the result of a computation directly\n",
        "print(2*3)"
      ],
      "metadata": {
        "colab": {
          "base_uri": "https://localhost:8080/"
        },
        "id": "cDESQPmTt_YL",
        "outputId": "303a940c-c59d-4a85-cf75-52f20c39ef6c"
      },
      "execution_count": null,
      "outputs": [
        {
          "output_type": "stream",
          "name": "stdout",
          "text": [
            "6\n"
          ]
        }
      ]
    },
    {
      "cell_type": "markdown",
      "source": [
        "A few good-practice tips:\n",
        "\n",
        "*   Use meaningful variable names. They will make your code easier to read and write.  \n",
        "\n",
        "*   Be careful about overwriting variables. This seems like a silly thing to point out for simple code in a single cell but is easy to do in larger code blocks. Take care naming your variables!\n",
        "\n"
      ],
      "metadata": {
        "id": "4xyk_ahe52je"
      }
    },
    {
      "cell_type": "markdown",
      "source": [
        "# Data types"
      ],
      "metadata": {
        "id": "VZbi1dq-u3qP"
      }
    },
    {
      "cell_type": "markdown",
      "source": [
        "### Integers and floats"
      ],
      "metadata": {
        "id": "zoOzlrLKwgQd"
      }
    },
    {
      "cell_type": "markdown",
      "source": [
        "Recommended reading:\n",
        "https://philuttley.github.io/prog4aa/03-types-conversion/index.html\n",
        "\n",
        "Data in a program have different types.\n",
        "\n",
        "Numbers like 8 or 356 are **integer**s (```int```) - positive or negative whole numbers.\n",
        "\n",
        "A **floating point number** (```float```) represents a real number but does not have to be a whole number. For example, 3.1415926 and -15.5 are both floating point numbers. So is 3600.0.\n",
        "\n",
        "Be careful with data types! Python 3 automatically upgrades integers to floats when needed but not all computing languages do. For example, the following works in python but would give a nonsense answer with IDL."
      ],
      "metadata": {
        "id": "4sgiGkxe6hwE"
      }
    },
    {
      "cell_type": "code",
      "source": [
        "1/3600"
      ],
      "metadata": {
        "colab": {
          "base_uri": "https://localhost:8080/"
        },
        "id": "xNdLLN676Q7-",
        "outputId": "fd251920-4056-474f-b0bd-9549ff11ad35"
      },
      "execution_count": null,
      "outputs": [
        {
          "output_type": "execute_result",
          "data": {
            "text/plain": [
              "0.0002777777777777778"
            ]
          },
          "metadata": {},
          "execution_count": 11
        }
      ]
    },
    {
      "cell_type": "markdown",
      "source": [
        "You can use the python ```type``` function to determine the type of any variable."
      ],
      "metadata": {
        "id": "pm84pAeTwXzf"
      }
    },
    {
      "cell_type": "code",
      "source": [
        "foo = 1/(60*60)"
      ],
      "metadata": {
        "id": "KrMuV3N56d7y"
      },
      "execution_count": null,
      "outputs": []
    },
    {
      "cell_type": "code",
      "source": [
        "type(foo)"
      ],
      "metadata": {
        "colab": {
          "base_uri": "https://localhost:8080/"
        },
        "id": "1LmnNJK37Dre",
        "outputId": "970b6016-41e7-4e18-de10-895df6d90e8a"
      },
      "execution_count": null,
      "outputs": [
        {
          "output_type": "execute_result",
          "data": {
            "text/plain": [
              "float"
            ]
          },
          "metadata": {},
          "execution_count": 13
        }
      ]
    },
    {
      "cell_type": "code",
      "source": [
        "type(60)"
      ],
      "metadata": {
        "colab": {
          "base_uri": "https://localhost:8080/"
        },
        "id": "o9E9OxAj7ER9",
        "outputId": "538fff0d-acb6-4c51-926e-8921839ff49e"
      },
      "execution_count": null,
      "outputs": [
        {
          "output_type": "execute_result",
          "data": {
            "text/plain": [
              "int"
            ]
          },
          "metadata": {},
          "execution_count": 14
        }
      ]
    },
    {
      "cell_type": "code",
      "source": [
        "type(60.)"
      ],
      "metadata": {
        "colab": {
          "base_uri": "https://localhost:8080/"
        },
        "id": "WJY-nqcK7FpW",
        "outputId": "2f04546c-0fb3-4213-906b-042265f33b9a"
      },
      "execution_count": null,
      "outputs": [
        {
          "output_type": "execute_result",
          "data": {
            "text/plain": [
              "float"
            ]
          },
          "metadata": {},
          "execution_count": 15
        }
      ]
    },
    {
      "cell_type": "markdown",
      "source": [
        "### Strings"
      ],
      "metadata": {
        "id": "KXE7R09x7PwB"
      }
    },
    {
      "cell_type": "markdown",
      "source": [
        "A **string** is a string of characters - the way python handles text. You can indicate that information is a string by wrapping it in quotes."
      ],
      "metadata": {
        "id": "_Kfm3Wni7S1J"
      }
    },
    {
      "cell_type": "code",
      "source": [
        "# a classic first line of code is a string\n",
        "\n",
        "print('hello world')"
      ],
      "metadata": {
        "colab": {
          "base_uri": "https://localhost:8080/"
        },
        "id": "2QGLQ6DvwzGt",
        "outputId": "0716cb5d-2600-42fc-e338-e6e52f8b6964"
      },
      "execution_count": null,
      "outputs": [
        {
          "output_type": "stream",
          "name": "stdout",
          "text": [
            "hello world\n"
          ]
        }
      ]
    },
    {
      "cell_type": "markdown",
      "source": [
        "note that double quotes also work - this can be important for formatting certain kinds of strings!"
      ],
      "metadata": {
        "id": "NuM6rKXgw-6c"
      }
    },
    {
      "cell_type": "code",
      "source": [
        "print(\"hello world\")"
      ],
      "metadata": {
        "colab": {
          "base_uri": "https://localhost:8080/"
        },
        "id": "8hBnWRlkw5yf",
        "outputId": "8b776f95-1235-47d7-8bea-67b2ef846e75"
      },
      "execution_count": null,
      "outputs": [
        {
          "output_type": "stream",
          "name": "stdout",
          "text": [
            "hello world\n"
          ]
        }
      ]
    },
    {
      "cell_type": "code",
      "source": [
        "print(\"That's my brother's shoe.\")"
      ],
      "metadata": {
        "colab": {
          "base_uri": "https://localhost:8080/"
        },
        "id": "hnIEhquoxAdv",
        "outputId": "7543c2d3-566d-443f-fb39-67f48e213888"
      },
      "execution_count": null,
      "outputs": [
        {
          "output_type": "stream",
          "name": "stdout",
          "text": [
            "That's my brother's shoe.\n"
          ]
        }
      ]
    },
    {
      "cell_type": "markdown",
      "source": [
        " You can add strings together using '+'. An asterisk '*' is a useful wildcard character.\n",
        "\n",
        " As we get deeper into working with data, you will likely find that string manipulation can be really useful for working with different filenames. Let's look at an example using the files for the McDonald images of M82 available on Box."
      ],
      "metadata": {
        "id": "O3-u0Z9qwyfp"
      }
    },
    {
      "cell_type": "code",
      "source": [
        "# I can assign the filename to a variable\n",
        "my_file = 'obj0059.fits'"
      ],
      "metadata": {
        "id": "9EL9wnhJxrkH"
      },
      "execution_count": null,
      "outputs": []
    },
    {
      "cell_type": "markdown",
      "source": [
        "Image that you want to look at all of your data (good idea!) but want to open the files but one at a time.\n",
        "\n",
        "You can write your code to make it easy to change which file number is called by inserting a variable into the string.\n",
        "\n",
        "Be careful with data types! In the example below, if I type ```num=59``` then I'll get an error when I try to add it to the string. Why? Because it's a different datatype (in this case, an integer).\n",
        "\n",
        "Fortunately, python has tools to convert to different data types. We show ```str()``` below; be sure to try ```int()``` and ```float()``` as well."
      ],
      "metadata": {
        "id": "fCuVf96uyKk-"
      }
    },
    {
      "cell_type": "code",
      "source": [
        "num=str(59)\n",
        "\n",
        "fname = 'obj00'+num+'.fits'"
      ],
      "metadata": {
        "id": "26BXDb4r7HA-"
      },
      "execution_count": null,
      "outputs": []
    },
    {
      "cell_type": "code",
      "source": [
        "print(fname)"
      ],
      "metadata": {
        "colab": {
          "base_uri": "https://localhost:8080/"
        },
        "id": "DXA_K6kw7qq-",
        "outputId": "1fc316a4-e507-4fae-fe39-0c04d87c921f"
      },
      "execution_count": null,
      "outputs": [
        {
          "output_type": "stream",
          "name": "stdout",
          "text": [
            "obj0059.fits\n"
          ]
        }
      ]
    },
    {
      "cell_type": "markdown",
      "source": [
        "# Arrays and lists"
      ],
      "metadata": {
        "id": "GUyXM-tEByX4"
      }
    },
    {
      "cell_type": "markdown",
      "source": [
        "Operating on individual numbers and strings is all well and fine but the real power of working with python is in its ability to act on large quantities of data.\n",
        "\n",
        "To start, let's look at arrays and lists.\n",
        "\n",
        "Recommended reading: [Sections 2.5 and 2.6](https://stars.uchicago.edu/images/Temp/Users/berthoud/PythonForAstronomers_Textbook.pdf)"
      ],
      "metadata": {
        "id": "1oVDYXXfByUX"
      }
    },
    {
      "cell_type": "markdown",
      "source": [
        "### Lists"
      ],
      "metadata": {
        "id": "352urmlkJ732"
      }
    },
    {
      "cell_type": "markdown",
      "source": [
        "Lists are what they sound like - a list of data. They can be made up of numbers but they don't have to be."
      ],
      "metadata": {
        "id": "h4zZbe4lztUw"
      }
    },
    {
      "cell_type": "code",
      "source": [
        "my_list = [1,2,3,4,5]"
      ],
      "metadata": {
        "id": "rRVMU-jIKAdH"
      },
      "execution_count": null,
      "outputs": []
    },
    {
      "cell_type": "code",
      "source": [
        "another_list = [1, 'a', 35.6]"
      ],
      "metadata": {
        "id": "gb_AUkPrz8At"
      },
      "execution_count": null,
      "outputs": []
    },
    {
      "cell_type": "code",
      "source": [
        "grocery_list = ['apples', 'bananas', 'carrots']"
      ],
      "metadata": {
        "id": "BSPlqAyZ0BQ8"
      },
      "execution_count": null,
      "outputs": []
    },
    {
      "cell_type": "markdown",
      "source": [
        "Lists are very useful but be careful trying to math with lists. Take a look at the following:"
      ],
      "metadata": {
        "id": "ZcqUVCEx0ERx"
      }
    },
    {
      "cell_type": "code",
      "source": [
        "my_list*2"
      ],
      "metadata": {
        "colab": {
          "base_uri": "https://localhost:8080/"
        },
        "id": "C9PBmtq0Kdqo",
        "outputId": "59678f2c-e48f-4c3f-a58b-89d0d0c0ae26"
      },
      "execution_count": null,
      "outputs": [
        {
          "output_type": "execute_result",
          "data": {
            "text/plain": [
              "[1, 2, 3, 4, 5, 1, 2, 3, 4, 5]"
            ]
          },
          "metadata": {},
          "execution_count": 25
        }
      ]
    },
    {
      "cell_type": "markdown",
      "source": [
        "wait, what? This seems silly for math but make sense for other types of lists. For example:"
      ],
      "metadata": {
        "id": "KQVbXp12KgNR"
      }
    },
    {
      "cell_type": "code",
      "source": [
        "another_list*2"
      ],
      "metadata": {
        "colab": {
          "base_uri": "https://localhost:8080/"
        },
        "id": "R2KtUBCu1Y1Y",
        "outputId": "7688d82d-2371-46ac-bd0d-0069269b2102"
      },
      "execution_count": null,
      "outputs": [
        {
          "output_type": "execute_result",
          "data": {
            "text/plain": [
              "[1, 'a', 35.6, 1, 'a', 35.6]"
            ]
          },
          "metadata": {},
          "execution_count": 26
        }
      ]
    },
    {
      "cell_type": "markdown",
      "source": [
        "For this and several other reasons (computational speed among them), math is much more easily done with arrays."
      ],
      "metadata": {
        "id": "AquW0cNj1jcI"
      }
    },
    {
      "cell_type": "markdown",
      "source": [
        "### Arrays"
      ],
      "metadata": {
        "id": "bqhERUTyKlI5"
      }
    },
    {
      "cell_type": "markdown",
      "source": [
        "First things first, we need to import the ```numpy``` library. This allows us to define arrays of numbers. For simple examples, the benefit of this is not immediately obvious. Fortunately, you'll get to play around with the power of arrays (they're matrices inside) later on to see just how powerful they are."
      ],
      "metadata": {
        "id": "QFjPEsmiKnM_"
      }
    },
    {
      "cell_type": "code",
      "source": [
        "# import the numpy library and give it a shorter nickname to make it faster and easier to call\n",
        "import numpy as np"
      ],
      "metadata": {
        "id": "bpwNGxfWKmSN"
      },
      "execution_count": null,
      "outputs": []
    },
    {
      "cell_type": "code",
      "source": [
        "# you can define an array explicitly\n",
        "my_array1 = np.array([1,2,3,4,5])\n",
        "\n",
        "# you can also easily convert a list of numbers into an array\n",
        "my_array2 = np.array(my_list)"
      ],
      "metadata": {
        "id": "67leyuqkJkCZ"
      },
      "execution_count": null,
      "outputs": []
    },
    {
      "cell_type": "code",
      "source": [
        "my_array1"
      ],
      "metadata": {
        "colab": {
          "base_uri": "https://localhost:8080/"
        },
        "id": "8waeR4VDLCET",
        "outputId": "6d7e3e57-8fe8-46d6-8a1a-8788886e5198"
      },
      "execution_count": null,
      "outputs": [
        {
          "output_type": "execute_result",
          "data": {
            "text/plain": [
              "array([1, 2, 3, 4, 5])"
            ]
          },
          "metadata": {},
          "execution_count": 29
        }
      ]
    },
    {
      "cell_type": "code",
      "source": [
        "my_array2"
      ],
      "metadata": {
        "colab": {
          "base_uri": "https://localhost:8080/"
        },
        "id": "E33OplWpLDps",
        "outputId": "e7b6faf1-9284-4179-a6eb-2d0f0162710f"
      },
      "execution_count": null,
      "outputs": [
        {
          "output_type": "execute_result",
          "data": {
            "text/plain": [
              "array([1, 2, 3, 4, 5])"
            ]
          },
          "metadata": {},
          "execution_count": 30
        }
      ]
    },
    {
      "cell_type": "markdown",
      "source": [
        "Notice that the math makes much more sense when operating on an array."
      ],
      "metadata": {
        "id": "_V4RaV_w2rzN"
      }
    },
    {
      "cell_type": "code",
      "source": [
        "my_array1*2"
      ],
      "metadata": {
        "colab": {
          "base_uri": "https://localhost:8080/"
        },
        "id": "VeAYN9NPLGci",
        "outputId": "3c5e386f-64ba-446e-dd38-48aca4b5719a"
      },
      "execution_count": null,
      "outputs": [
        {
          "output_type": "execute_result",
          "data": {
            "text/plain": [
              "array([ 2,  4,  6,  8, 10])"
            ]
          },
          "metadata": {},
          "execution_count": 31
        }
      ]
    },
    {
      "cell_type": "markdown",
      "source": [
        "Arrays can have multiple dimensions. In fact, most astronomical images can be treated as 2D arrays. Similarly, a datacube (usually with two spatial dimensions and one spectral dimension) is simply a 3D array."
      ],
      "metadata": {
        "id": "BhLRaWMWW25s"
      }
    },
    {
      "cell_type": "code",
      "source": [
        "my_2D_array = np.array([[1,2,3],[4,5,6],[7,8,9]])"
      ],
      "metadata": {
        "id": "h1TqqYkfW3VR"
      },
      "execution_count": null,
      "outputs": []
    },
    {
      "cell_type": "code",
      "source": [
        "my_2D_array"
      ],
      "metadata": {
        "colab": {
          "base_uri": "https://localhost:8080/"
        },
        "id": "amNEV5-8XEZp",
        "outputId": "fae13d3c-e216-43f1-b311-045c1a24aad2"
      },
      "execution_count": null,
      "outputs": [
        {
          "output_type": "execute_result",
          "data": {
            "text/plain": [
              "array([[1, 2, 3],\n",
              "       [4, 5, 6],\n",
              "       [7, 8, 9]])"
            ]
          },
          "metadata": {},
          "execution_count": 33
        }
      ]
    },
    {
      "cell_type": "markdown",
      "source": [
        "Notice that the number and placement of brackets is important for formatting the array. Play around with the brackets to see if you can make a 3D array.  "
      ],
      "metadata": {
        "id": "OJ5Up0JNXKl6"
      }
    },
    {
      "cell_type": "markdown",
      "source": [
        "# Indexing"
      ],
      "metadata": {
        "id": "58uq6VJrLMe8"
      }
    },
    {
      "cell_type": "markdown",
      "source": [
        "In some cases, you only want part of a list, string, array, etc. Indexes allow you to select part of the list, string, array, etc.\n",
        "\n",
        "Note: python counts from zero so the first index is 0 not 1!\n",
        "\n",
        "The simplest thing is to select a single element from a list or an array."
      ],
      "metadata": {
        "id": "wTIjNt6sWwFw"
      }
    },
    {
      "cell_type": "code",
      "source": [
        "my_list"
      ],
      "metadata": {
        "colab": {
          "base_uri": "https://localhost:8080/"
        },
        "id": "nKIIuSUOXSfc",
        "outputId": "f2d22fc9-1966-4ce7-9019-85b1278ace2f"
      },
      "execution_count": null,
      "outputs": [
        {
          "output_type": "execute_result",
          "data": {
            "text/plain": [
              "[1, 2, 3, 4, 5]"
            ]
          },
          "metadata": {},
          "execution_count": 34
        }
      ]
    },
    {
      "cell_type": "code",
      "source": [
        "my_list[0]"
      ],
      "metadata": {
        "colab": {
          "base_uri": "https://localhost:8080/"
        },
        "id": "vp_91PjPLL3L",
        "outputId": "1ff8f5f9-c8fa-43e4-95c3-aadb689a2b8f"
      },
      "execution_count": null,
      "outputs": [
        {
          "output_type": "execute_result",
          "data": {
            "text/plain": [
              "1"
            ]
          },
          "metadata": {},
          "execution_count": 35
        }
      ]
    },
    {
      "cell_type": "markdown",
      "source": [
        "To select a range of values, you can give a starting and an ending index number with a colon in between. Be careful picking your index numbers - python includes values up to but not including the last index. For example, compare the following:"
      ],
      "metadata": {
        "id": "FbF99oU6Xb4U"
      }
    },
    {
      "cell_type": "code",
      "source": [
        "my_list[0:1]"
      ],
      "metadata": {
        "colab": {
          "base_uri": "https://localhost:8080/"
        },
        "id": "vCgvSD-eXqXG",
        "outputId": "ee57f336-226e-4f09-d9ce-a02364232d35"
      },
      "execution_count": null,
      "outputs": [
        {
          "output_type": "execute_result",
          "data": {
            "text/plain": [
              "[1]"
            ]
          },
          "metadata": {},
          "execution_count": 36
        }
      ]
    },
    {
      "cell_type": "code",
      "source": [
        "my_list[0:2]"
      ],
      "metadata": {
        "colab": {
          "base_uri": "https://localhost:8080/"
        },
        "id": "XYXJaijyXqZl",
        "outputId": "3fc63037-05dc-400d-a203-dab4499610f5"
      },
      "execution_count": null,
      "outputs": [
        {
          "output_type": "execute_result",
          "data": {
            "text/plain": [
              "[1, 2]"
            ]
          },
          "metadata": {},
          "execution_count": 37
        }
      ]
    },
    {
      "cell_type": "markdown",
      "source": [
        "Now that we have some tools in our kit, let's take a look at libraries. These essentially allow us to import and run other code and are one of the things that make a particular coding language so powerful."
      ],
      "metadata": {
        "id": "6KLaH7lz8LRv"
      }
    },
    {
      "cell_type": "markdown",
      "source": [
        "# Libraries"
      ],
      "metadata": {
        "id": "_0tAY2AT8QC5"
      }
    },
    {
      "cell_type": "markdown",
      "source": [
        "Recommended reading: https://philuttley.github.io/prog4aa/04-libraries/index.html\n",
        "\n",
        "We've already imported the ```numpy``` library above. The same basic syntax works for importing other libraries as well."
      ],
      "metadata": {
        "id": "4Iiza4sQ8S7u"
      }
    },
    {
      "cell_type": "code",
      "source": [
        "import astropy"
      ],
      "metadata": {
        "id": "XsI5WgHz539v"
      },
      "execution_count": null,
      "outputs": []
    },
    {
      "cell_type": "markdown",
      "source": [
        "Fun fact: one of the core astropy developers is a Rice alumnus!\n",
        "\n",
        "To learn more about what a package can do and look for relevant examples, I usually search for the documentation.\n",
        "\n",
        "[Astropy documentation](https://www.astropy.org/)\n",
        "\n",
        "You can also get help directly from the command line (in the code cell) using the ```help()``` function."
      ],
      "metadata": {
        "id": "AS27Mme355cT"
      }
    },
    {
      "cell_type": "code",
      "source": [
        "help(astropy)"
      ],
      "metadata": {
        "colab": {
          "base_uri": "https://localhost:8080/"
        },
        "id": "ObzzIUBR6DFd",
        "outputId": "663a25e5-1633-4f94-ae0d-286d18807a12"
      },
      "execution_count": null,
      "outputs": [
        {
          "output_type": "stream",
          "name": "stdout",
          "text": [
            "Help on package astropy:\n",
            "\n",
            "NAME\n",
            "    astropy\n",
            "\n",
            "DESCRIPTION\n",
            "    Astropy is a package intended to contain core functionality and some\n",
            "    common tools needed for performing astronomy and astrophysics research with\n",
            "    Python. It also provides an index for other astronomy packages and tools for\n",
            "    managing them.\n",
            "\n",
            "PACKAGE CONTENTS\n",
            "    _version\n",
            "    compiler_version\n",
            "    config (package)\n",
            "    conftest\n",
            "    constants (package)\n",
            "    convolution (package)\n",
            "    coordinates (package)\n",
            "    cosmology (package)\n",
            "    extern (package)\n",
            "    io (package)\n",
            "    logger\n",
            "    modeling (package)\n",
            "    nddata (package)\n",
            "    samp (package)\n",
            "    stats (package)\n",
            "    table (package)\n",
            "    tests (package)\n",
            "    time (package)\n",
            "    timeseries (package)\n",
            "    uncertainty (package)\n",
            "    units (package)\n",
            "    utils (package)\n",
            "    version\n",
            "    visualization (package)\n",
            "    wcs (package)\n",
            "\n",
            "CLASSES\n",
            "    base_constants_version(astropy.utils.state.ScienceState)\n",
            "        astronomical_constants\n",
            "        physical_constants\n",
            "\n",
            "    class astronomical_constants(base_constants_version)\n",
            "     |  The version of astronomical constants to use.\n",
            "     |\n",
            "     |  Method resolution order:\n",
            "     |      astronomical_constants\n",
            "     |      base_constants_version\n",
            "     |      astropy.utils.state.ScienceState\n",
            "     |      builtins.object\n",
            "     |\n",
            "     |  Class methods inherited from base_constants_version:\n",
            "     |\n",
            "     |  set(value)\n",
            "     |      Set the current constants value.\n",
            "     |\n",
            "     |  validate(value)\n",
            "     |      Validate the value and convert it to its native type, if\n",
            "     |      necessary.\n",
            "     |\n",
            "     |  ----------------------------------------------------------------------\n",
            "     |  Methods inherited from astropy.utils.state.ScienceState:\n",
            "     |\n",
            "     |  __init__(self)\n",
            "     |      Initialize self.  See help(type(self)) for accurate signature.\n",
            "     |\n",
            "     |  ----------------------------------------------------------------------\n",
            "     |  Class methods inherited from astropy.utils.state.ScienceState:\n",
            "     |\n",
            "     |  get()\n",
            "     |      Get the current science state value.\n",
            "     |\n",
            "     |  ----------------------------------------------------------------------\n",
            "     |  Data descriptors inherited from astropy.utils.state.ScienceState:\n",
            "     |\n",
            "     |  __dict__\n",
            "     |      dictionary for instance variables\n",
            "     |\n",
            "     |  __weakref__\n",
            "     |      list of weak references to the object\n",
            "\n",
            "    class physical_constants(base_constants_version)\n",
            "     |  The version of physical constants to use.\n",
            "     |\n",
            "     |  Method resolution order:\n",
            "     |      physical_constants\n",
            "     |      base_constants_version\n",
            "     |      astropy.utils.state.ScienceState\n",
            "     |      builtins.object\n",
            "     |\n",
            "     |  Class methods inherited from base_constants_version:\n",
            "     |\n",
            "     |  set(value)\n",
            "     |      Set the current constants value.\n",
            "     |\n",
            "     |  validate(value)\n",
            "     |      Validate the value and convert it to its native type, if\n",
            "     |      necessary.\n",
            "     |\n",
            "     |  ----------------------------------------------------------------------\n",
            "     |  Methods inherited from astropy.utils.state.ScienceState:\n",
            "     |\n",
            "     |  __init__(self)\n",
            "     |      Initialize self.  See help(type(self)) for accurate signature.\n",
            "     |\n",
            "     |  ----------------------------------------------------------------------\n",
            "     |  Class methods inherited from astropy.utils.state.ScienceState:\n",
            "     |\n",
            "     |  get()\n",
            "     |      Get the current science state value.\n",
            "     |\n",
            "     |  ----------------------------------------------------------------------\n",
            "     |  Data descriptors inherited from astropy.utils.state.ScienceState:\n",
            "     |\n",
            "     |  __dict__\n",
            "     |      dictionary for instance variables\n",
            "     |\n",
            "     |  __weakref__\n",
            "     |      list of weak references to the object\n",
            "\n",
            "FUNCTIONS\n",
            "    __dir__()\n",
            "\n",
            "    __getattr__(attr)\n",
            "\n",
            "    find_api_page(obj, version=None, openinbrowser=True, timeout=None)\n",
            "        Determines the URL of the API page for the specified object, and\n",
            "        optionally open that page in a web browser.\n",
            "\n",
            "        .. note::\n",
            "            You must be connected to the internet for this to function even if\n",
            "            ``openinbrowser`` is `False`, unless you provide a local version of\n",
            "            the documentation to ``version`` (e.g., ``file:///path/to/docs``).\n",
            "\n",
            "        Parameters\n",
            "        ----------\n",
            "        obj\n",
            "            The object to open the docs for or its fully-qualified name\n",
            "            (as a str).\n",
            "        version : str\n",
            "            The doc version - either a version number like '0.1', 'dev' for\n",
            "            the development/latest docs, or a URL to point to a specific\n",
            "            location that should be the *base* of the documentation. Defaults to\n",
            "            latest if you are on aren't on a release, otherwise, the version you\n",
            "            are on.\n",
            "        openinbrowser : bool\n",
            "            If `True`, the `webbrowser` package will be used to open the doc\n",
            "            page in a new web browser window.\n",
            "        timeout : number, optional\n",
            "            The number of seconds to wait before timing-out the query to\n",
            "            the astropy documentation.  If not given, the default python\n",
            "            stdlib timeout will be used.\n",
            "\n",
            "        Returns\n",
            "        -------\n",
            "        url : str\n",
            "            The loaded URL\n",
            "\n",
            "        Raises\n",
            "        ------\n",
            "        ValueError\n",
            "            If the documentation can't be found\n",
            "\n",
            "    online_help(query)\n",
            "        Search the online Astropy documentation for the given query.\n",
            "        Opens the results in the default web browser.  Requires an active\n",
            "        Internet connection.\n",
            "\n",
            "        Parameters\n",
            "        ----------\n",
            "        query : str\n",
            "            The search query.\n",
            "\n",
            "    system_info() -> None\n",
            "        Print relevant system information for astropy bug reports.\n",
            "\n",
            "        Examples\n",
            "        --------\n",
            "        >>> import astropy\n",
            "        >>> astropy.system_info()  # doctest: +ELLIPSIS\n",
            "        platform\n",
            "        --------\n",
            "        platform.platform() = ...\n",
            "        platform.version() = ...\n",
            "        platform.python_version() = ...\n",
            "        <BLANKLINE>\n",
            "        packages\n",
            "        --------\n",
            "        astropy              ...\n",
            "        numpy                ...\n",
            "        scipy                ...\n",
            "        matplotlib           ...\n",
            "        pandas               ...\n",
            "        pyerfa               ...\n",
            "\n",
            "    test(**kwargs)\n",
            "        Run the tests for the package.\n",
            "\n",
            "        This method builds arguments for and then calls ``pytest.main``.\n",
            "\n",
            "        Parameters\n",
            "        ----------\n",
            "        package : str, optional\n",
            "            The name of a specific package to test, e.g. 'io.fits' or\n",
            "            'utils'. Accepts comma separated string to specify multiple\n",
            "            packages. If nothing is specified all default tests are run.\n",
            "\n",
            "        args : str, optional\n",
            "            Additional arguments to be passed to ``pytest.main`` in the ``args``\n",
            "            keyword argument.\n",
            "\n",
            "        docs_path : str, optional\n",
            "            The path to the documentation .rst files.\n",
            "\n",
            "        parallel : int or 'auto', optional\n",
            "            When provided, run the tests in parallel on the specified\n",
            "            number of CPUs.  If parallel is ``'auto'``, it will use the all\n",
            "            the cores on the machine.  Requires the ``pytest-xdist`` plugin.\n",
            "\n",
            "        pastebin : ('failed', 'all', None), optional\n",
            "            Convenience option for turning on pytest pastebin output. Set to\n",
            "            'failed' to upload info for failed tests, or 'all' to upload info\n",
            "            for all tests.\n",
            "\n",
            "        pdb : bool, optional\n",
            "            Turn on PDB post-mortem analysis for failing tests. Same as\n",
            "            specifying ``--pdb`` in ``args``.\n",
            "\n",
            "        plugins : list, optional\n",
            "            Plugins to be passed to ``pytest.main`` in the ``plugins`` keyword\n",
            "            argument.\n",
            "\n",
            "        remote_data : {'none', 'astropy', 'any'}, optional\n",
            "            Controls whether to run tests marked with @pytest.mark.remote_data. This can be\n",
            "            set to run no tests with remote data (``none``), only ones that use\n",
            "            data from http://data.astropy.org (``astropy``), or all tests that\n",
            "            use remote data (``any``). The default is ``none``.\n",
            "\n",
            "        repeat : `int`, optional\n",
            "            If set, specifies how many times each test should be run. This is\n",
            "            useful for diagnosing sporadic failures.\n",
            "\n",
            "        skip_docs : `bool`, optional\n",
            "            When `True`, skips running the doctests in the .rst files.\n",
            "\n",
            "        test_path : str, optional\n",
            "            Specify location to test by path. May be a single file or\n",
            "            directory. Must be specified absolutely or relative to the\n",
            "            calling directory.\n",
            "\n",
            "        verbose : bool, optional\n",
            "            Convenience option to turn on verbose output from pytest. Passing\n",
            "            True is the same as specifying ``-v`` in ``args``.\n",
            "\n",
            "DATA\n",
            "    __all__ = ['__version__', '__bibtex__', 'config', 'constants', 'convol...\n",
            "    __bibtex__ = '@ARTICLE{astropy:2022,\\n       author = {{Astropy...ded ...\n",
            "    __citation__ = '@ARTICLE{astropy:2022,\\n       author = {{Astropy...de...\n",
            "    conf = <astropy.Conf object>\n",
            "    log = <AstropyLogger astropy (INFO)>\n",
            "    online_docs_root = 'https://docs.astropy.org/en/v7.1.0/'\n",
            "\n",
            "VERSION\n",
            "    7.1.0\n",
            "\n",
            "FILE\n",
            "    /usr/local/lib/python3.12/dist-packages/astropy/__init__.py\n",
            "\n",
            "\n"
          ]
        }
      ]
    },
    {
      "cell_type": "markdown",
      "source": [
        "You can also import specific programs and give them shorter nicknames to make them easier to call. Let's try that with one of the go-to plotting packages we'll use in this class."
      ],
      "metadata": {
        "id": "hRKMjnhO6x7e"
      }
    },
    {
      "cell_type": "code",
      "source": [
        "import matplotlib.pyplot as plt"
      ],
      "metadata": {
        "id": "9GvFAEbQ7tsw"
      },
      "execution_count": null,
      "outputs": []
    },
    {
      "cell_type": "markdown",
      "source": [
        "# Making a plot"
      ],
      "metadata": {
        "id": "yylrkVhY77bp"
      }
    },
    {
      "cell_type": "markdown",
      "source": [
        "Below is a super simple example of a line plot. Notice that it looks... fine. Be sure to look at the [documentation](https://matplotlib.org/stable/api/pyplot_summary.html) to see all the options for different types of plots and well as information on how to add axes labels, change the line weight and color, etc."
      ],
      "metadata": {
        "id": "KjxgjcOd8bVU"
      }
    },
    {
      "cell_type": "code",
      "source": [
        "plt.plot([1,2,3,4,5], [5,10,15,20,25])"
      ],
      "metadata": {
        "colab": {
          "base_uri": "https://localhost:8080/",
          "height": 447
        },
        "id": "ocCeguU_8XJ_",
        "outputId": "a5269699-989c-4858-d0c2-84f348fbbc71"
      },
      "execution_count": null,
      "outputs": [
        {
          "output_type": "execute_result",
          "data": {
            "text/plain": [
              "[<matplotlib.lines.Line2D at 0x7cb5dbc10a10>]"
            ]
          },
          "metadata": {},
          "execution_count": 41
        },
        {
          "output_type": "display_data",
          "data": {
            "text/plain": [
              "<Figure size 640x480 with 1 Axes>"
            ],
            "image/png": "[encoded data removed]"
          },
          "metadata": {}
        }
      ]
    },
    {
      "cell_type": "code",
      "source": [
        "plt.scatter([1,2,3,4,5], [5,10,15,20,25])"
      ],
      "metadata": {
        "colab": {
          "base_uri": "https://localhost:8080/",
          "height": 447
        },
        "id": "IWroUENz8iPD",
        "outputId": "a5df1fe8-0f20-4e1d-da13-ded1daf15034"
      },
      "execution_count": null,
      "outputs": [
        {
          "output_type": "execute_result",
          "data": {
            "text/plain": [
              "<matplotlib.collections.PathCollection at 0x7cb5dafa73b0>"
            ]
          },
          "metadata": {},
          "execution_count": 42
        },
        {
          "output_type": "display_data",
          "data": {
            "text/plain": [
              "<Figure size 640x480 with 1 Axes>"
            ],
            "image/png": "[encoded data removed]"
          },
          "metadata": {}
        }
      ]
    },
    {
      "cell_type": "markdown",
      "source": [
        "# Displaying an image"
      ],
      "metadata": {
        "id": "vYZ9FCX-797H"
      }
    },
    {
      "cell_type": "markdown",
      "source": [
        "array indexing can be super useful if you only want to look at part of an image.\n",
        "\n",
        "for example"
      ],
      "metadata": {
        "id": "lPRBf268X95J"
      }
    },
    {
      "cell_type": "code",
      "source": [
        "# make a 2D array filled with Gaussian random numbers\n",
        "my_image = np.random.normal(size=(100,100))"
      ],
      "metadata": {
        "id": "uV3aAIEiYDQO"
      },
      "execution_count": null,
      "outputs": []
    },
    {
      "cell_type": "code",
      "source": [
        "plt.imshow(my_image)"
      ],
      "metadata": {
        "colab": {
          "base_uri": "https://localhost:8080/",
          "height": 450
        },
        "id": "g1zD7tqBYRh7",
        "outputId": "a18c6e7f-8911-4bac-db0a-6db1b6048e2b"
      },
      "execution_count": null,
      "outputs": [
        {
          "output_type": "execute_result",
          "data": {
            "text/plain": [
              "<matplotlib.image.AxesImage at 0x7cb5d9d4f1a0>"
            ]
          },
          "metadata": {},
          "execution_count": 44
        },
        {
          "output_type": "display_data",
          "data": {
            "text/plain": [
              "<Figure size 640x480 with 1 Axes>"
            ],
            "image/png": "[encoded data removed]"
          },
          "metadata": {}
        }
      ]
    },
    {
      "cell_type": "markdown",
      "source": [
        "Notice the orientation of the axes! Zero for the x-axis is in the lower left but zero for the y-axis is in the upper left. This (1) drives me bonkers and (2) makes it hard to compare your images with ds9. you can fix that using the\n",
        "```origin='lower'```\n",
        "keyword in\n",
        "```imshow```."
      ],
      "metadata": {
        "id": "m3b5ON6eZCo9"
      }
    },
    {
      "cell_type": "code",
      "source": [
        "plt.imshow(my_image, origin='lower')"
      ],
      "metadata": {
        "colab": {
          "base_uri": "https://localhost:8080/",
          "height": 447
        },
        "id": "1DklGKPGZYm0",
        "outputId": "c42d8764-b512-44d4-9026-72ea4d75a37c"
      },
      "execution_count": null,
      "outputs": [
        {
          "output_type": "execute_result",
          "data": {
            "text/plain": [
              "<matplotlib.image.AxesImage at 0x7cb5d9d1d190>"
            ]
          },
          "metadata": {},
          "execution_count": 45
        },
        {
          "output_type": "display_data",
          "data": {
            "text/plain": [
              "<Figure size 640x480 with 1 Axes>"
            ],
            "image/png": "[encoded data removed]"
          },
          "metadata": {}
        }
      ]
    },
    {
      "cell_type": "markdown",
      "source": [
        "Looking at images is one of the places where array indexing starts to be really useful.\n",
        "\n",
        "For our fake image, we'll use indexing to change the value of a few pixels."
      ],
      "metadata": {
        "id": "kqEntSMcYzYi"
      }
    },
    {
      "cell_type": "code",
      "source": [
        "my_image[50:60,50:60] = 10"
      ],
      "metadata": {
        "id": "miqEaml_Zd3q"
      },
      "execution_count": null,
      "outputs": []
    },
    {
      "cell_type": "code",
      "source": [
        "plt.imshow(my_image, origin='lower')"
      ],
      "metadata": {
        "colab": {
          "base_uri": "https://localhost:8080/",
          "height": 447
        },
        "id": "p1OlbPEZZf8j",
        "outputId": "4cf0b6a2-5247-4dd0-fcfc-7163b2e179e9"
      },
      "execution_count": null,
      "outputs": [
        {
          "output_type": "execute_result",
          "data": {
            "text/plain": [
              "<matplotlib.image.AxesImage at 0x7cb5d9b775c0>"
            ]
          },
          "metadata": {},
          "execution_count": 47
        },
        {
          "output_type": "display_data",
          "data": {
            "text/plain": [
              "<Figure size 640x480 with 1 Axes>"
            ],
            "image/png": "[encoded data removed]"
          },
          "metadata": {}
        }
      ]
    },
    {
      "cell_type": "markdown",
      "source": [
        "This looks very different from the original image even though we only changed the value of a few pixels. Why? Because python is making some choices about how to scale the image. Just like with ds9, be care to distinguish between when things look different because of how you displayed them and when the data really are different.\n",
        "\n",
        "We can also use indexing to display only a portion of the image."
      ],
      "metadata": {
        "id": "azP8eEt-8m2p"
      }
    },
    {
      "cell_type": "code",
      "source": [
        "plt.imshow(my_image[40:70,40:70], origin='lower')"
      ],
      "metadata": {
        "colab": {
          "base_uri": "https://localhost:8080/",
          "height": 447
        },
        "id": "IPaVI8h5Ye7B",
        "outputId": "488bdd90-ba90-47e5-c838-bc63ef2c9d28"
      },
      "execution_count": null,
      "outputs": [
        {
          "output_type": "execute_result",
          "data": {
            "text/plain": [
              "<matplotlib.image.AxesImage at 0x7cb5d9d250a0>"
            ]
          },
          "metadata": {},
          "execution_count": 48
        },
        {
          "output_type": "display_data",
          "data": {
            "text/plain": [
              "<Figure size 640x480 with 1 Axes>"
            ],
            "image/png": "[encoded data removed]"
          },
          "metadata": {}
        }
      ]
    },
    {
      "cell_type": "markdown",
      "source": [
        "Take care with array indexing - in python, indexes are written as (y,x) unlike other languages.\n",
        "\n",
        "Try using different index values for the x and y dimensions of your image to see."
      ],
      "metadata": {
        "id": "zDrwO7tf9HAA"
      }
    },
    {
      "cell_type": "code",
      "source": [
        "plt.imshow(my_image[30:80,40:70], origin='lower')"
      ],
      "metadata": {
        "colab": {
          "base_uri": "https://localhost:8080/",
          "height": 447
        },
        "id": "BMgc4X1raENW",
        "outputId": "734f7072-52a8-4e64-a5c5-9834fd9bde71"
      },
      "execution_count": null,
      "outputs": [
        {
          "output_type": "execute_result",
          "data": {
            "text/plain": [
              "<matplotlib.image.AxesImage at 0x7cb5d9d70c80>"
            ]
          },
          "metadata": {},
          "execution_count": 49
        },
        {
          "output_type": "display_data",
          "data": {
            "text/plain": [
              "<Figure size 640x480 with 1 Axes>"
            ],
            "image/png": "[encoded data removed]"
          },
          "metadata": {}
        }
      ]
    },
    {
      "cell_type": "code",
      "source": [],
      "metadata": {
        "id": "Hf-Efnb79gz_"
      },
      "execution_count": null,
      "outputs": []
    }
  ]
}