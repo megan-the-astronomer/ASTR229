{
  "nbformat": 4,
  "nbformat_minor": 0,
  "metadata": {
    "colab": {
      "provenance": [],
      "include_colab_link": true
    },
    "kernelspec": {
      "name": "python3",
      "display_name": "Python 3"
    },
    "language_info": {
      "name": "python"
    }
  },
  "cells": [
    {
      "cell_type": "markdown",
      "metadata": {
        "id": "view-in-github",
        "colab_type": "text"
      },
      "source": [
        "<a href=\"https://colab.research.google.com/github/megan-the-astronomer/ASTR229/blob/main/tables_conditionals_loops.ipynb\" target=\"_parent\"><img src=\"https://colab.research.google.com/assets/colab-badge.svg\" alt=\"Open In Colab\"/></a>"
      ]
    },
    {
      "cell_type": "markdown",
      "source": [
        "# Digging deeper: tabular data, conditionals, and loops"
      ],
      "metadata": {
        "id": "HGZ4KpijQL0a"
      }
    },
    {
      "cell_type": "markdown",
      "source": [
        "Now that you had a chance to explore python and astropy tools for looking at images, let's look at some tools for looking at data tables (tabular data). We'll also explore control structures that allow you to tell the computer to make choice (e.g., if a condition is true then do an action) and/or repeat certain actions (e.g., for a given list of files, perform an action on each of them).\n",
        "\n",
        "Let's start by importing some packages we know we'll be using in this exercise. You can always import additional packages later on using the same syntax."
      ],
      "metadata": {
        "id": "KgfNt1e6QdTr"
      }
    },
    {
      "cell_type": "code",
      "source": [
        "# start by importing a few essential packages\n",
        "import numpy as np\n",
        "import matplotlib.pyplot as plt\n",
        "import astropy\n",
        "\n",
        "from astropy.io import fits\n",
        "from astropy.table import Table"
      ],
      "metadata": {
        "id": "NUWOX8UWxZjW"
      },
      "execution_count": null,
      "outputs": []
    },
    {
      "cell_type": "markdown",
      "source": [
        "# Working with data tables"
      ],
      "metadata": {
        "id": "9XC22mYq-pcw"
      }
    },
    {
      "cell_type": "markdown",
      "source": [
        "Often, we want to read in a table of data - model values, a list of measurements from another paper, etc. For this example, we'll look at some stellar data using the astropy table module.\n",
        "\n",
        "The data tables are in the ```ASTR229_data``` folder on google drive, so start by giving colab access."
      ],
      "metadata": {
        "id": "iKh_LMXjSXwf"
      }
    },
    {
      "cell_type": "code",
      "source": [
        "from google.colab import drive\n",
        "drive.mount('/content/drive')"
      ],
      "metadata": {
        "colab": {
          "base_uri": "https://localhost:8080/"
        },
        "id": "HRuCWVtGZJxF",
        "outputId": "d8dc6acb-2177-4b1f-92b5-ca5c3ed538f0"
      },
      "execution_count": null,
      "outputs": [
        {
          "output_type": "stream",
          "name": "stdout",
          "text": [
            "Mounted at /content/drive\n"
          ]
        }
      ]
    },
    {
      "cell_type": "markdown",
      "source": [
        "Start with the file 'ms.dat'. We'll look at the others in a little bit.\n",
        "\n",
        "If you double click on the 'ms.dat' filename, it will open in a panel to the right of your code in colab. Take a look at the file - notice that it has four columns, the columns are separated by the ```;``` character, etc.\n",
        "\n",
        "Use Table.read to read the file into python. In theory you can just give it the filename but in practice, things tend to go more smoothly if your provide a little more information about the file. We'll specify that the format is [ascii](https://networkencyclopedia.com/ascii-file/), the character used to separate columns (the delimiter) is ```;``` and the comment character is ```#```. Be sure to look at the documentation to see what other keywords you can specify when in reading in a table."
      ],
      "metadata": {
        "id": "2V1SYa90ZTPX"
      }
    },
    {
      "cell_type": "code",
      "source": [
        "dat = Table.read('/content/drive/MyDrive/ASTR229_data/stellar_data/ms.dat', format='ascii.csv', delimiter=';', comment='#')"
      ],
      "metadata": {
        "id": "bc4sqcIOxeye"
      },
      "execution_count": null,
      "outputs": []
    },
    {
      "cell_type": "code",
      "source": [
        "dat"
      ],
      "metadata": {
        "colab": {
          "base_uri": "https://localhost:8080/",
          "height": 498
        },
        "id": "d6BKLGwGyIuq",
        "outputId": "db537e36-3c4e-4309-f7c3-406173438280"
      },
      "execution_count": null,
      "outputs": [
        {
          "output_type": "execute_result",
          "data": {
            "text/plain": [
              "<Table length=55>\n",
              "Spectral Type Temperature (K) ... Luminosity (in solar luminosities)\n",
              "     str2          int64      ...              float64              \n",
              "------------- --------------- ... ----------------------------------\n",
              "           O5           54000 ...                           846000.0\n",
              "           O6           45000 ...                           275000.0\n",
              "           O7           43300 ...                           220000.0\n",
              "           O8           40600 ...                           150000.0\n",
              "           O9           37800 ...                            95000.0\n",
              "           B0           29200 ...                            20000.0\n",
              "           B1           23000 ...                             4600.0\n",
              "           B2           21000 ...                             2600.0\n",
              "           B3           17600 ...                              900.0\n",
              "          ...             ... ...                                ...\n",
              "           M5            3200 ...                              0.026\n",
              "           M6            3100 ...                              0.022\n",
              "           M7            2900 ...                              0.014\n",
              "           M8            2700 ...                             0.0093\n",
              "           L0            2600 ...                             0.0074\n",
              "           L3            2200 ...                             0.0027\n",
              "           L8            1500 ...                            0.00026\n",
              "           T2            1400 ...                            0.00017\n",
              "           T6            1000 ...                            2.1e-05\n",
              "           T8             800 ...                            5.5e-06"
            ],
            "text/html": [
              "<div><i>Table length=55</i>\n",
              "<table id=\"table139559957311568\" class=\"table-striped table-bordered table-condensed\">\n",
              "<thead><tr><th>Spectral Type</th><th>Temperature (K)</th><th>Absolute Magnitude</th><th>Luminosity (in solar luminosities)</th></tr></thead>\n",
              "<thead><tr><th>str2</th><th>int64</th><th>str5</th><th>float64</th></tr></thead>\n",
              "<tr><td>O5</td><td>54000</td><td>-10.0</td><td>846000.0</td></tr>\n",
              "<tr><td>O6</td><td>45000</td><td>-8.8</td><td>275000.0</td></tr>\n",
              "<tr><td>O7</td><td>43300</td><td>-8.6</td><td>220000.0</td></tr>\n",
              "<tr><td>O8</td><td>40600</td><td>-8.2</td><td>150000.0</td></tr>\n",
              "<tr><td>O9</td><td>37800</td><td>-7.7</td><td>95000.0</td></tr>\n",
              "<tr><td>B0</td><td>29200</td><td>-6.0</td><td>20000.0</td></tr>\n",
              "<tr><td>B1</td><td>23000</td><td>-4.4</td><td>4600.0</td></tr>\n",
              "<tr><td>B2</td><td>21000</td><td>-3.8</td><td>2600.0</td></tr>\n",
              "<tr><td>B3</td><td>17600</td><td>-2.6</td><td>900.0</td></tr>\n",
              "<tr><td>...</td><td>...</td><td>...</td><td>...</td></tr>\n",
              "<tr><td>M5</td><td>3200</td><td>8.7</td><td>0.026</td></tr>\n",
              "<tr><td>M6</td><td>3100</td><td>8.9</td><td>0.022</td></tr>\n",
              "<tr><td>M7</td><td>2900</td><td>9.4</td><td>0.014</td></tr>\n",
              "<tr><td>M8</td><td>2700</td><td>9.9</td><td>0.0093</td></tr>\n",
              "<tr><td>L0</td><td>2600</td><td>*</td><td>0.0074</td></tr>\n",
              "<tr><td>L3</td><td>2200</td><td>*</td><td>0.0027</td></tr>\n",
              "<tr><td>L8</td><td>1500</td><td>*</td><td>0.00026</td></tr>\n",
              "<tr><td>T2</td><td>1400</td><td>*</td><td>0.00017</td></tr>\n",
              "<tr><td>T6</td><td>1000</td><td>*</td><td>2.1e-05</td></tr>\n",
              "<tr><td>T8</td><td>800</td><td>*</td><td>5.5e-06</td></tr>\n",
              "</table></div>"
            ]
          },
          "metadata": {},
          "execution_count": 4
        }
      ]
    },
    {
      "cell_type": "markdown",
      "source": [
        "Just typing the table name will provide quite a bit of information. To print a formatted display, use ```.pprint()```.  "
      ],
      "metadata": {
        "id": "A6AJ3ewtagfw"
      }
    },
    {
      "cell_type": "code",
      "source": [
        "dat.pprint()"
      ],
      "metadata": {
        "colab": {
          "base_uri": "https://localhost:8080/"
        },
        "id": "XspeXwyO-sJB",
        "outputId": "23529761-0de6-4c4f-a1c0-8c94c11e5641"
      },
      "execution_count": null,
      "outputs": [
        {
          "output_type": "stream",
          "name": "stdout",
          "text": [
            "Spectral Type Temperature (K) ... Luminosity (in solar luminosities)\n",
            "------------- --------------- ... ----------------------------------\n",
            "           O5           54000 ...                           846000.0\n",
            "           O6           45000 ...                           275000.0\n",
            "           O7           43300 ...                           220000.0\n",
            "           O8           40600 ...                           150000.0\n",
            "           O9           37800 ...                            95000.0\n",
            "           B0           29200 ...                            20000.0\n",
            "           B1           23000 ...                             4600.0\n",
            "           B2           21000 ...                             2600.0\n",
            "           B3           17600 ...                              900.0\n",
            "           B5           15200 ...                              360.0\n",
            "          ...             ... ...                                ...\n",
            "           M5            3200 ...                              0.026\n",
            "           M6            3100 ...                              0.022\n",
            "           M7            2900 ...                              0.014\n",
            "           M8            2700 ...                             0.0093\n",
            "           L0            2600 ...                             0.0074\n",
            "           L3            2200 ...                             0.0027\n",
            "           L8            1500 ...                            0.00026\n",
            "           T2            1400 ...                            0.00017\n",
            "           T6            1000 ...                            2.1e-05\n",
            "           T8             800 ...                            5.5e-06\n",
            "Length = 55 rows\n"
          ]
        }
      ]
    },
    {
      "cell_type": "markdown",
      "source": [
        "There are several functions to explore the properties of your table. Try typing ```dat.``` and letting your cursor linger to see a list of options (you may need to retype the command in colab for the suggested completions). If you are running things locally, you may need to hit the ```tab``` key to see possible completions.\n",
        "\n",
        "The ```dir()``` function we saw in last week's assignment is also really useful for getting to know your table."
      ],
      "metadata": {
        "id": "i1JojH72a4PV"
      }
    },
    {
      "cell_type": "code",
      "source": [
        "dir(dat)"
      ],
      "metadata": {
        "colab": {
          "base_uri": "https://localhost:8080/"
        },
        "id": "KLcM2p1MBBF2",
        "outputId": "b228fde9-9565-4633-b5d8-f679c9766b46"
      },
      "execution_count": null,
      "outputs": [
        {
          "output_type": "execute_result",
          "data": {
            "text/plain": [
              "['Column',\n",
              " 'ColumnClass',\n",
              " 'MaskedColumn',\n",
              " 'Row',\n",
              " 'TableColumns',\n",
              " 'TableFormatter',\n",
              " '__array__',\n",
              " '__bytes__',\n",
              " '__class__',\n",
              " '__copy__',\n",
              " '__deepcopy__',\n",
              " '__delattr__',\n",
              " '__delitem__',\n",
              " '__dict__',\n",
              " '__dir__',\n",
              " '__doc__',\n",
              " '__eq__',\n",
              " '__format__',\n",
              " '__ge__',\n",
              " '__getattribute__',\n",
              " '__getitem__',\n",
              " '__getstate__',\n",
              " '__gt__',\n",
              " '__hash__',\n",
              " '__init__',\n",
              " '__init_subclass__',\n",
              " '__ior__',\n",
              " '__le__',\n",
              " '__len__',\n",
              " '__lt__',\n",
              " '__module__',\n",
              " '__ne__',\n",
              " '__new__',\n",
              " '__or__',\n",
              " '__reduce__',\n",
              " '__reduce_ex__',\n",
              " '__repr__',\n",
              " '__setattr__',\n",
              " '__setitem__',\n",
              " '__setstate__',\n",
              " '__sizeof__',\n",
              " '__str__',\n",
              " '__subclasshook__',\n",
              " '__weakref__',\n",
              " '_base_repr_',\n",
              " '_check_names_dtype',\n",
              " '_column_class',\n",
              " '_convert_col_for_table',\n",
              " '_convert_data_to_col',\n",
              " '_convert_string_dtype',\n",
              " '_copy_indices',\n",
              " '_first_colname',\n",
              " '_get_col_cls_for_table',\n",
              " '_init_from_cols',\n",
              " '_init_from_dict',\n",
              " '_init_from_list',\n",
              " '_init_from_list_of_dicts',\n",
              " '_init_from_ndarray',\n",
              " '_init_indices',\n",
              " '_ipython_key_completions_',\n",
              " '_is_list_or_tuple_of_str',\n",
              " '_is_mixin_for_table',\n",
              " '_make_index_row_display_table',\n",
              " '_make_table_from_cols',\n",
              " '_mask',\n",
              " '_masked',\n",
              " '_meta',\n",
              " '_new_from_slice',\n",
              " '_replace_cols',\n",
              " '_replace_column_warnings',\n",
              " '_repr_html_',\n",
              " '_rows_equal',\n",
              " '_set_col_parent_table_and_mask',\n",
              " '_set_column_attribute',\n",
              " '_set_masked',\n",
              " '_set_of_names_in_colnames',\n",
              " '_set_row',\n",
              " 'add_column',\n",
              " 'add_columns',\n",
              " 'add_index',\n",
              " 'add_row',\n",
              " 'argsort',\n",
              " 'as_array',\n",
              " 'colnames',\n",
              " 'columns',\n",
              " 'convert_bytestring_to_unicode',\n",
              " 'convert_unicode_to_bytestring',\n",
              " 'copy',\n",
              " 'dtype',\n",
              " 'field',\n",
              " 'filled',\n",
              " 'formatter',\n",
              " 'from_pandas',\n",
              " 'group_by',\n",
              " 'groups',\n",
              " 'has_masked_columns',\n",
              " 'has_masked_values',\n",
              " 'has_mixin_columns',\n",
              " 'iloc',\n",
              " 'index_column',\n",
              " 'index_mode',\n",
              " 'indices',\n",
              " 'info',\n",
              " 'insert_row',\n",
              " 'items',\n",
              " 'itercols',\n",
              " 'iterrows',\n",
              " 'keep_columns',\n",
              " 'keys',\n",
              " 'loc',\n",
              " 'loc_indices',\n",
              " 'mask',\n",
              " 'masked',\n",
              " 'meta',\n",
              " 'more',\n",
              " 'pformat',\n",
              " 'pformat_all',\n",
              " 'pprint',\n",
              " 'pprint_all',\n",
              " 'pprint_exclude_names',\n",
              " 'pprint_include_names',\n",
              " 'primary_key',\n",
              " 'read',\n",
              " 'remove_column',\n",
              " 'remove_columns',\n",
              " 'remove_indices',\n",
              " 'remove_row',\n",
              " 'remove_rows',\n",
              " 'rename_column',\n",
              " 'rename_columns',\n",
              " 'replace_column',\n",
              " 'reverse',\n",
              " 'round',\n",
              " 'setdefault',\n",
              " 'show_in_browser',\n",
              " 'show_in_notebook',\n",
              " 'sort',\n",
              " 'to_pandas',\n",
              " 'update',\n",
              " 'values',\n",
              " 'values_equal',\n",
              " 'write']"
            ]
          },
          "metadata": {},
          "execution_count": 7
        }
      ]
    },
    {
      "cell_type": "code",
      "source": [
        "dat.colnames"
      ],
      "metadata": {
        "colab": {
          "base_uri": "https://localhost:8080/"
        },
        "id": "yFPGqzQazVUi",
        "outputId": "5786f34a-6a59-437c-9e71-73e38c0f39d6"
      },
      "execution_count": null,
      "outputs": [
        {
          "output_type": "execute_result",
          "data": {
            "text/plain": [
              "['Spectral Type',\n",
              " 'Temperature (K)',\n",
              " 'Absolute Magnitude',\n",
              " 'Luminosity (in solar luminosities)']"
            ]
          },
          "metadata": {},
          "execution_count": 8
        }
      ]
    },
    {
      "cell_type": "markdown",
      "source": [
        "To see the values of a given column of data, you can call it by name. For example:"
      ],
      "metadata": {
        "id": "x68aYnp3bkPA"
      }
    },
    {
      "cell_type": "code",
      "source": [
        "dat['Luminosity (in solar luminosities)']"
      ],
      "metadata": {
        "colab": {
          "base_uri": "https://localhost:8080/"
        },
        "id": "xkdHNnyK-utw",
        "outputId": "ef4deaa9-0670-4981-fc95-81c2b260ed50"
      },
      "execution_count": null,
      "outputs": [
        {
          "output_type": "execute_result",
          "data": {
            "text/plain": [
              "<Column name='Luminosity (in solar luminosities)' dtype='float64' length=55>\n",
              "846000.0\n",
              "275000.0\n",
              "220000.0\n",
              "150000.0\n",
              " 95000.0\n",
              " 20000.0\n",
              "  4600.0\n",
              "  2600.0\n",
              "   900.0\n",
              "   360.0\n",
              "   250.0\n",
              "   175.0\n",
              "     ...\n",
              "   0.038\n",
              "   0.026\n",
              "   0.022\n",
              "   0.014\n",
              "  0.0093\n",
              "  0.0074\n",
              "  0.0027\n",
              " 0.00026\n",
              " 0.00017\n",
              " 2.1e-05\n",
              " 5.5e-06"
            ]
          },
          "metadata": {},
          "execution_count": 9
        }
      ]
    },
    {
      "cell_type": "markdown",
      "source": [
        "This is essentially a list of values and it can be indexed in the same way."
      ],
      "metadata": {
        "id": "h5LTC0n-bsIN"
      }
    },
    {
      "cell_type": "code",
      "source": [
        "dat['Luminosity (in solar luminosities)'][0]"
      ],
      "metadata": {
        "colab": {
          "base_uri": "https://localhost:8080/"
        },
        "id": "0VHyLwM7-1aw",
        "outputId": "8f993954-cb60-4908-bc5e-32af348b6685"
      },
      "execution_count": null,
      "outputs": [
        {
          "output_type": "execute_result",
          "data": {
            "text/plain": [
              "np.float64(846000.0)"
            ]
          },
          "metadata": {},
          "execution_count": 10
        }
      ]
    },
    {
      "cell_type": "code",
      "source": [
        "dat['Luminosity (in solar luminosities)'][0:10]"
      ],
      "metadata": {
        "colab": {
          "base_uri": "https://localhost:8080/"
        },
        "id": "NbPaH3SmbwlI",
        "outputId": "1eab44ea-9922-41a8-ff6e-d90d6d5383dc"
      },
      "execution_count": null,
      "outputs": [
        {
          "output_type": "execute_result",
          "data": {
            "text/plain": [
              "<Column name='Luminosity (in solar luminosities)' dtype='float64' length=10>\n",
              "846000.0\n",
              "275000.0\n",
              "220000.0\n",
              "150000.0\n",
              " 95000.0\n",
              " 20000.0\n",
              "  4600.0\n",
              "  2600.0\n",
              "   900.0\n",
              "   360.0"
            ]
          },
          "metadata": {},
          "execution_count": 11
        }
      ]
    },
    {
      "cell_type": "markdown",
      "source": [
        "You can also use the table columns as inputs to make a plot. Try making a plot of temperature versus luminosity using the table data."
      ],
      "metadata": {
        "id": "3fF12WRCb1Uh"
      }
    },
    {
      "cell_type": "code",
      "source": [
        "plt.scatter(dat['Temperature (K)'], dat['Luminosity (in solar luminosities)'])"
      ],
      "metadata": {
        "colab": {
          "base_uri": "https://localhost:8080/",
          "height": 447
        },
        "id": "SQbTRd4qzXUl",
        "outputId": "13789b8e-4834-4c2a-a764-eed78ecd5cfb"
      },
      "execution_count": null,
      "outputs": [
        {
          "output_type": "execute_result",
          "data": {
            "text/plain": [
              "<matplotlib.collections.PathCollection at 0x7eedd5992e70>"
            ]
          },
          "metadata": {},
          "execution_count": 12
        },
        {
          "output_type": "display_data",
          "data": {
            "text/plain": [
              "<Figure size 640x480 with 1 Axes>"
            ],
            "image/png": "[encoded data removed]"
          },
          "metadata": {}
        }
      ]
    },
    {
      "cell_type": "markdown",
      "source": [
        "Be careful! The computer will do what you tell it to do - even if it doesn't make much sense.\n",
        "\n",
        "For example, try plotting the spectral type (a string!) versus the luminosity."
      ],
      "metadata": {
        "id": "U9mew_TIcY2v"
      }
    },
    {
      "cell_type": "code",
      "source": [
        "plt.scatter(dat['Spectral Type'], dat['Luminosity (in solar luminosities)'])"
      ],
      "metadata": {
        "colab": {
          "base_uri": "https://localhost:8080/",
          "height": 447
        },
        "id": "ahpGu8TMcD2R",
        "outputId": "4caf1ccc-651c-41d4-94a5-c51d5010db4d"
      },
      "execution_count": null,
      "outputs": [
        {
          "output_type": "execute_result",
          "data": {
            "text/plain": [
              "<matplotlib.collections.PathCollection at 0x7eedd58ed970>"
            ]
          },
          "metadata": {},
          "execution_count": 13
        },
        {
          "output_type": "display_data",
          "data": {
            "text/plain": [
              "<Figure size 640x480 with 1 Axes>"
            ],
            "image/png": "[encoded data removed]"
          },
          "metadata": {}
        }
      ]
    },
    {
      "cell_type": "markdown",
      "source": [
        "Python will still make the plot but it's hard to know what it means.\n",
        "\n",
        "Remember, you can use ```type()``` to figure out the data type."
      ],
      "metadata": {
        "id": "S3bvgUsGcxSw"
      }
    },
    {
      "cell_type": "code",
      "source": [
        "# this will tell you that your table column is a table column\n",
        "type(dat['Temperature (K)'])"
      ],
      "metadata": {
        "colab": {
          "base_uri": "https://localhost:8080/"
        },
        "id": "0M84gk-tc1nX",
        "outputId": "a51d70d3-20d4-4d39-f7fd-c8240635127d"
      },
      "execution_count": null,
      "outputs": [
        {
          "output_type": "execute_result",
          "data": {
            "text/plain": [
              "astropy.table.column.Column"
            ]
          },
          "metadata": {},
          "execution_count": 14
        }
      ]
    },
    {
      "cell_type": "code",
      "source": [
        "# this will tell you the data type\n",
        "type(dat['Temperature (K)'][0])"
      ],
      "metadata": {
        "colab": {
          "base_uri": "https://localhost:8080/"
        },
        "id": "DyLAzw0Vc6iz",
        "outputId": "dc87cdcb-c355-4958-8281-c895d9f91b7a"
      },
      "execution_count": null,
      "outputs": [
        {
          "output_type": "execute_result",
          "data": {
            "text/plain": [
              "numpy.int64"
            ]
          },
          "metadata": {},
          "execution_count": 15
        }
      ]
    },
    {
      "cell_type": "code",
      "source": [
        "type(dat['Spectral Type'][0])"
      ],
      "metadata": {
        "colab": {
          "base_uri": "https://localhost:8080/"
        },
        "id": "AiiLcMpvdMCo",
        "outputId": "11c266da-ce1f-43a7-d871-e61cb7803b06"
      },
      "execution_count": null,
      "outputs": [
        {
          "output_type": "execute_result",
          "data": {
            "text/plain": [
              "numpy.str_"
            ]
          },
          "metadata": {},
          "execution_count": 16
        }
      ]
    },
    {
      "cell_type": "markdown",
      "source": [
        "We can convert columns of data to numpy arrays and even specify the data type. This can be especially useful if you then want to do math on the data values.\n",
        "\n",
        "Let's try it with the temperature and luminosity."
      ],
      "metadata": {
        "id": "sMDFz72Vdbty"
      }
    },
    {
      "cell_type": "code",
      "source": [
        "temps = np.array(dat['Temperature (K)']).astype(float)\n",
        "lums = np.array(dat['Luminosity (in solar luminosities)']).astype(float)"
      ],
      "metadata": {
        "id": "kxxl6VIXzpu8"
      },
      "execution_count": null,
      "outputs": []
    },
    {
      "cell_type": "markdown",
      "source": [
        "Plot the temperature and luminosity but this time in log so it is easier to see the range of data."
      ],
      "metadata": {
        "id": "kNbIBHdhdvZT"
      }
    },
    {
      "cell_type": "code",
      "source": [
        "plt.scatter(np.log10(temps), np.log10(lums))"
      ],
      "metadata": {
        "colab": {
          "base_uri": "https://localhost:8080/",
          "height": 447
        },
        "id": "MPPtHeNq0EQg",
        "outputId": "8e952317-3c6d-40e7-9076-741d5acfd071"
      },
      "execution_count": null,
      "outputs": [
        {
          "output_type": "execute_result",
          "data": {
            "text/plain": [
              "<matplotlib.collections.PathCollection at 0x7eedd58e99a0>"
            ]
          },
          "metadata": {},
          "execution_count": 18
        },
        {
          "output_type": "display_data",
          "data": {
            "text/plain": [
              "<Figure size 640x480 with 1 Axes>"
            ],
            "image/png": "[encoded data removed]"
          },
          "metadata": {}
        }
      ]
    },
    {
      "cell_type": "markdown",
      "source": [
        "There are several things we can do to make this plot better.\n",
        "\n",
        "First, use ```xlim``` to change the direction of the x-axis to conform to historical convention.\n",
        "\n",
        "Then, add labels to each axis.\n",
        "\n",
        "Finally, play around with the size and shape of the plot symbols, adding labels (e.g., an arrow to show the direction that temperature increases), etc. Not sure where to start? Take a look at the [documentation](https://matplotlib.org/stable/api/_as_gen/matplotlib.pyplot.scatter.html) - be sure to scroll to the bottom of the page to look for examples."
      ],
      "metadata": {
        "id": "w1h200ypeE18"
      }
    },
    {
      "cell_type": "code",
      "source": [
        "plt.scatter(np.log10(temps), np.log10(lums))\n",
        "plt.xlim([5.0, 2.75])\n",
        "plt.xlabel('log(Temperature [K])')\n",
        "plt.ylabel('log(Luminosity [Solar Luminosities])')"
      ],
      "metadata": {
        "colab": {
          "base_uri": "https://localhost:8080/",
          "height": 466
        },
        "id": "n4xqYqPReFBU",
        "outputId": "0cbe14c2-bd15-4590-dfb1-4f915e7d027b"
      },
      "execution_count": null,
      "outputs": [
        {
          "output_type": "execute_result",
          "data": {
            "text/plain": [
              "Text(0, 0.5, 'log(Luminosity [Solar Luminosities])')"
            ]
          },
          "metadata": {},
          "execution_count": 19
        },
        {
          "output_type": "display_data",
          "data": {
            "text/plain": [
              "<Figure size 640x480 with 1 Axes>"
            ],
            "image/png": "[encoded data removed]"
          },
          "metadata": {}
        }
      ]
    },
    {
      "cell_type": "markdown",
      "source": [
        "Ideally, table data are well behaved. Many journals now require table data to be provided in machine-readable format. However, there are often cases where interesting data is imperfectly formatted. The ```Absolute Magnitude``` column in our table is a great example."
      ],
      "metadata": {
        "id": "T3X2hE4mfhuX"
      }
    },
    {
      "cell_type": "code",
      "source": [
        "mags = dat['Absolute Magnitude']"
      ],
      "metadata": {
        "id": "iVnG0fn58ZLF"
      },
      "execution_count": null,
      "outputs": []
    },
    {
      "cell_type": "code",
      "source": [
        "mags"
      ],
      "metadata": {
        "colab": {
          "base_uri": "https://localhost:8080/"
        },
        "id": "-iuJ1oru8bks",
        "outputId": "b3553326-ab33-4d8e-f1cc-d7d9c180276b"
      },
      "execution_count": null,
      "outputs": [
        {
          "output_type": "execute_result",
          "data": {
            "text/plain": [
              "<Column name='Absolute Magnitude' dtype='str5' length=55>\n",
              "-10.0\n",
              " -8.8\n",
              " -8.6\n",
              " -8.2\n",
              " -7.7\n",
              " -6.0\n",
              " -4.4\n",
              " -3.8\n",
              " -2.6\n",
              " -1.6\n",
              " -1.2\n",
              "-0.84\n",
              "  ...\n",
              "  8.3\n",
              "  8.7\n",
              "  8.9\n",
              "  9.4\n",
              "  9.9\n",
              "    *\n",
              "    *\n",
              "    *\n",
              "    *\n",
              "    *\n",
              "    *"
            ]
          },
          "metadata": {},
          "execution_count": 21
        }
      ]
    },
    {
      "cell_type": "markdown",
      "source": [
        "Notice that the last few values are ```*```. In this case, that means that the data are missing. Careful though - python still lets you plot it..."
      ],
      "metadata": {
        "id": "KQtqsRV4gVrV"
      }
    },
    {
      "cell_type": "code",
      "source": [
        "plt.scatter(np.log10(temps), mags)\n",
        "plt.xlim([5.0,2.75])"
      ],
      "metadata": {
        "colab": {
          "base_uri": "https://localhost:8080/",
          "height": 447
        },
        "id": "9jW33e8G5TCx",
        "outputId": "1f39a50b-6bec-439d-9ba9-41918d2c7397"
      },
      "execution_count": null,
      "outputs": [
        {
          "output_type": "execute_result",
          "data": {
            "text/plain": [
              "(5.0, 2.75)"
            ]
          },
          "metadata": {},
          "execution_count": 22
        },
        {
          "output_type": "display_data",
          "data": {
            "text/plain": [
              "<Figure size 640x480 with 1 Axes>"
            ],
            "image/png": "[encoded data removed]"
          },
          "metadata": {}
        }
      ]
    },
    {
      "cell_type": "markdown",
      "source": [
        "We can get a more sensible plot if we convert the numbers in the ```Absolute Magnitude``` column from ```string``` to ```float```. This is not quite as straight-forward as it was for temperature and luminosity because python doesn't automatically know that the ```*``` character is being used to signify missing data in this particular table."
      ],
      "metadata": {
        "id": "oFr4Mtfng3U6"
      }
    },
    {
      "cell_type": "code",
      "source": [
        "np.array(mags).astype(float)"
      ],
      "metadata": {
        "colab": {
          "base_uri": "https://localhost:8080/",
          "height": 139
        },
        "id": "ZQjKQ-E68WRP",
        "outputId": "5639027d-c528-4d79-826f-c20cfe78433b"
      },
      "execution_count": null,
      "outputs": [
        {
          "output_type": "error",
          "ename": "ValueError",
          "evalue": "could not convert string to float: np.str_('*')",
          "traceback": [
            "\u001b[0;31m---------------------------------------------------------------------------\u001b[0m",
            "\u001b[0;31mValueError\u001b[0m                                Traceback (most recent call last)",
            "\u001b[0;32m/tmp/ipython-input-144973948.py\u001b[0m in \u001b[0;36m<cell line: 0>\u001b[0;34m()\u001b[0m\n\u001b[0;32m----> 1\u001b[0;31m \u001b[0mnp\u001b[0m\u001b[0;34m.\u001b[0m\u001b[0marray\u001b[0m\u001b[0;34m(\u001b[0m\u001b[0mmags\u001b[0m\u001b[0;34m)\u001b[0m\u001b[0;34m.\u001b[0m\u001b[0mastype\u001b[0m\u001b[0;34m(\u001b[0m\u001b[0mfloat\u001b[0m\u001b[0;34m)\u001b[0m\u001b[0;34m\u001b[0m\u001b[0;34m\u001b[0m\u001b[0m\n\u001b[0m",
            "\u001b[0;31mValueError\u001b[0m: could not convert string to float: np.str_('*')"
          ]
        }
      ]
    },
    {
      "cell_type": "markdown",
      "source": [
        "For now, we'll just ignore the rows that are missing absolute magnitudes. To find the rows with good data, we'll use the ```np.where()``` function.\n",
        "\n",
        "First a quick introduction to python's comparison operators. These allow you to compare two things and evaluate whether the comparison is true or false. The simplest example is ```<``` and ```>```."
      ],
      "metadata": {
        "id": "HSF0A_ADh4GQ"
      }
    },
    {
      "cell_type": "code",
      "source": [
        "9 > 3"
      ],
      "metadata": {
        "colab": {
          "base_uri": "https://localhost:8080/"
        },
        "id": "PmFkGj2Ik8SM",
        "outputId": "62fa661d-0cda-4a89-f420-9a5fabc8efa9"
      },
      "execution_count": null,
      "outputs": [
        {
          "output_type": "execute_result",
          "data": {
            "text/plain": [
              "True"
            ]
          },
          "metadata": {},
          "execution_count": 24
        }
      ]
    },
    {
      "cell_type": "code",
      "source": [
        "100 < 2"
      ],
      "metadata": {
        "colab": {
          "base_uri": "https://localhost:8080/"
        },
        "id": "jgN6f6D-k_Gy",
        "outputId": "aaa39567-221c-4537-bfb8-85c0bfb62018"
      },
      "execution_count": null,
      "outputs": [
        {
          "output_type": "execute_result",
          "data": {
            "text/plain": [
              "False"
            ]
          },
          "metadata": {},
          "execution_count": 25
        }
      ]
    },
    {
      "cell_type": "markdown",
      "source": [
        "Other useful operators include greater than or equal to ```>=``` and not equal to ```!=```. These can be quite useful so be sure to [take a look](https://www.pythontutorial.net/python-basics/python-comparison-operators/) at some of the other options.\n",
        "\n",
        "Use the comparison operator with the ```np.where()``` function to find which rows do or do not have an absolute magnitude.\n"
      ],
      "metadata": {
        "id": "MmmB5UxxlBac"
      }
    },
    {
      "cell_type": "code",
      "source": [
        "has_mag = np.where(mags != '*')"
      ],
      "metadata": {
        "id": "upgl2X428vd6"
      },
      "execution_count": null,
      "outputs": []
    },
    {
      "cell_type": "markdown",
      "source": [
        "Now we can convert the absolute magnitudes - where we have data - to floating point numbers."
      ],
      "metadata": {
        "id": "hKjxxLeOlxVw"
      }
    },
    {
      "cell_type": "code",
      "source": [
        "mags_float = np.array(mags[has_mag]).astype(float)"
      ],
      "metadata": {
        "id": "VyINUyIdlvcT"
      },
      "execution_count": null,
      "outputs": []
    },
    {
      "cell_type": "markdown",
      "source": [
        "Now make the plot. Note that we reversed both the x- and y-axes to conform with astronomical convention."
      ],
      "metadata": {
        "id": "IHF6enaEmECo"
      }
    },
    {
      "cell_type": "code",
      "source": [
        "plt.scatter(np.log10(temps[has_mag]), mags_float)\n",
        "plt.xlim([5.0,2.75])\n",
        "plt.ylim([12.0,-12.0])"
      ],
      "metadata": {
        "colab": {
          "base_uri": "https://localhost:8080/",
          "height": 447
        },
        "id": "H-mm_hRI80qB",
        "outputId": "6706cf7f-3ac0-48b2-bed8-827e4bcac0e7"
      },
      "execution_count": null,
      "outputs": [
        {
          "output_type": "execute_result",
          "data": {
            "text/plain": [
              "(12.0, -12.0)"
            ]
          },
          "metadata": {},
          "execution_count": 28
        },
        {
          "output_type": "display_data",
          "data": {
            "text/plain": [
              "<Figure size 640x480 with 1 Axes>"
            ],
            "image/png": "[encoded data removed]"
          },
          "metadata": {}
        }
      ]
    },
    {
      "cell_type": "markdown",
      "source": [
        "Notice that we used the ```has_mag``` indexes on the temperature array too - why? Because we only want the temperatures that correspond to the sources where we also know the absolute magnitude.\n",
        "\n",
        "In this case, all the missing data was at the end of the file. However, python will not make assumptions about which values to keep when arrays are of unequal size. Try making the plot again without indexing the temperature array."
      ],
      "metadata": {
        "id": "L9xbjanlmL3L"
      }
    },
    {
      "cell_type": "code",
      "source": [
        "plt.scatter(np.log10(temps), mags_float)"
      ],
      "metadata": {
        "colab": {
          "base_uri": "https://localhost:8080/",
          "height": 717
        },
        "id": "Aq94gZCvmS3c",
        "outputId": "8ce94c2c-ced0-4337-fbc4-e5f0a006c45c"
      },
      "execution_count": null,
      "outputs": [
        {
          "output_type": "error",
          "ename": "ValueError",
          "evalue": "x and y must be the same size",
          "traceback": [
            "\u001b[0;31m---------------------------------------------------------------------------\u001b[0m",
            "\u001b[0;31mValueError\u001b[0m                                Traceback (most recent call last)",
            "\u001b[0;32m/tmp/ipython-input-1968154444.py\u001b[0m in \u001b[0;36m<cell line: 0>\u001b[0;34m()\u001b[0m\n\u001b[0;32m----> 1\u001b[0;31m \u001b[0mplt\u001b[0m\u001b[0;34m.\u001b[0m\u001b[0mscatter\u001b[0m\u001b[0;34m(\u001b[0m\u001b[0mnp\u001b[0m\u001b[0;34m.\u001b[0m\u001b[0mlog10\u001b[0m\u001b[0;34m(\u001b[0m\u001b[0mtemps\u001b[0m\u001b[0;34m)\u001b[0m\u001b[0;34m,\u001b[0m \u001b[0mmags_float\u001b[0m\u001b[0;34m)\u001b[0m\u001b[0;34m\u001b[0m\u001b[0;34m\u001b[0m\u001b[0m\n\u001b[0m",
            "\u001b[0;32m/usr/local/lib/python3.12/dist-packages/matplotlib/_api/deprecation.py\u001b[0m in \u001b[0;36mwrapper\u001b[0;34m(*args, **kwargs)\u001b[0m\n\u001b[1;32m    451\u001b[0m                 \u001b[0;34m\"parameter will become keyword-only in %(removal)s.\"\u001b[0m\u001b[0;34m,\u001b[0m\u001b[0;34m\u001b[0m\u001b[0;34m\u001b[0m\u001b[0m\n\u001b[1;32m    452\u001b[0m                 name=name, obj_type=f\"parameter of {func.__name__}()\")\n\u001b[0;32m--> 453\u001b[0;31m         \u001b[0;32mreturn\u001b[0m \u001b[0mfunc\u001b[0m\u001b[0;34m(\u001b[0m\u001b[0;34m*\u001b[0m\u001b[0margs\u001b[0m\u001b[0;34m,\u001b[0m \u001b[0;34m**\u001b[0m\u001b[0mkwargs\u001b[0m\u001b[0;34m)\u001b[0m\u001b[0;34m\u001b[0m\u001b[0;34m\u001b[0m\u001b[0m\n\u001b[0m\u001b[1;32m    454\u001b[0m \u001b[0;34m\u001b[0m\u001b[0m\n\u001b[1;32m    455\u001b[0m     \u001b[0;31m# Don't modify *func*'s signature, as boilerplate.py needs it.\u001b[0m\u001b[0;34m\u001b[0m\u001b[0;34m\u001b[0m\u001b[0m\n",
            "\u001b[0;32m/usr/local/lib/python3.12/dist-packages/matplotlib/pyplot.py\u001b[0m in \u001b[0;36mscatter\u001b[0;34m(x, y, s, c, marker, cmap, norm, vmin, vmax, alpha, linewidths, edgecolors, colorizer, plotnonfinite, data, **kwargs)\u001b[0m\n\u001b[1;32m   3937\u001b[0m     \u001b[0;34m**\u001b[0m\u001b[0mkwargs\u001b[0m\u001b[0;34m,\u001b[0m\u001b[0;34m\u001b[0m\u001b[0;34m\u001b[0m\u001b[0m\n\u001b[1;32m   3938\u001b[0m ) -> PathCollection:\n\u001b[0;32m-> 3939\u001b[0;31m     __ret = gca().scatter(\n\u001b[0m\u001b[1;32m   3940\u001b[0m         \u001b[0mx\u001b[0m\u001b[0;34m,\u001b[0m\u001b[0;34m\u001b[0m\u001b[0;34m\u001b[0m\u001b[0m\n\u001b[1;32m   3941\u001b[0m         \u001b[0my\u001b[0m\u001b[0;34m,\u001b[0m\u001b[0;34m\u001b[0m\u001b[0;34m\u001b[0m\u001b[0m\n",
            "\u001b[0;32m/usr/local/lib/python3.12/dist-packages/matplotlib/_api/deprecation.py\u001b[0m in \u001b[0;36mwrapper\u001b[0;34m(*args, **kwargs)\u001b[0m\n\u001b[1;32m    451\u001b[0m                 \u001b[0;34m\"parameter will become keyword-only in %(removal)s.\"\u001b[0m\u001b[0;34m,\u001b[0m\u001b[0;34m\u001b[0m\u001b[0;34m\u001b[0m\u001b[0m\n\u001b[1;32m    452\u001b[0m                 name=name, obj_type=f\"parameter of {func.__name__}()\")\n\u001b[0;32m--> 453\u001b[0;31m         \u001b[0;32mreturn\u001b[0m \u001b[0mfunc\u001b[0m\u001b[0;34m(\u001b[0m\u001b[0;34m*\u001b[0m\u001b[0margs\u001b[0m\u001b[0;34m,\u001b[0m \u001b[0;34m**\u001b[0m\u001b[0mkwargs\u001b[0m\u001b[0;34m)\u001b[0m\u001b[0;34m\u001b[0m\u001b[0;34m\u001b[0m\u001b[0m\n\u001b[0m\u001b[1;32m    454\u001b[0m \u001b[0;34m\u001b[0m\u001b[0m\n\u001b[1;32m    455\u001b[0m     \u001b[0;31m# Don't modify *func*'s signature, as boilerplate.py needs it.\u001b[0m\u001b[0;34m\u001b[0m\u001b[0;34m\u001b[0m\u001b[0m\n",
            "\u001b[0;32m/usr/local/lib/python3.12/dist-packages/matplotlib/__init__.py\u001b[0m in \u001b[0;36minner\u001b[0;34m(ax, data, *args, **kwargs)\u001b[0m\n\u001b[1;32m   1519\u001b[0m     \u001b[0;32mdef\u001b[0m \u001b[0minner\u001b[0m\u001b[0;34m(\u001b[0m\u001b[0max\u001b[0m\u001b[0;34m,\u001b[0m \u001b[0;34m*\u001b[0m\u001b[0margs\u001b[0m\u001b[0;34m,\u001b[0m \u001b[0mdata\u001b[0m\u001b[0;34m=\u001b[0m\u001b[0;32mNone\u001b[0m\u001b[0;34m,\u001b[0m \u001b[0;34m**\u001b[0m\u001b[0mkwargs\u001b[0m\u001b[0;34m)\u001b[0m\u001b[0;34m:\u001b[0m\u001b[0;34m\u001b[0m\u001b[0;34m\u001b[0m\u001b[0m\n\u001b[1;32m   1520\u001b[0m         \u001b[0;32mif\u001b[0m \u001b[0mdata\u001b[0m \u001b[0;32mis\u001b[0m \u001b[0;32mNone\u001b[0m\u001b[0;34m:\u001b[0m\u001b[0;34m\u001b[0m\u001b[0;34m\u001b[0m\u001b[0m\n\u001b[0;32m-> 1521\u001b[0;31m             return func(\n\u001b[0m\u001b[1;32m   1522\u001b[0m                 \u001b[0max\u001b[0m\u001b[0;34m,\u001b[0m\u001b[0;34m\u001b[0m\u001b[0;34m\u001b[0m\u001b[0m\n\u001b[1;32m   1523\u001b[0m                 \u001b[0;34m*\u001b[0m\u001b[0mmap\u001b[0m\u001b[0;34m(\u001b[0m\u001b[0mcbook\u001b[0m\u001b[0;34m.\u001b[0m\u001b[0msanitize_sequence\u001b[0m\u001b[0;34m,\u001b[0m \u001b[0margs\u001b[0m\u001b[0;34m)\u001b[0m\u001b[0;34m,\u001b[0m\u001b[0;34m\u001b[0m\u001b[0;34m\u001b[0m\u001b[0m\n",
            "\u001b[0;32m/usr/local/lib/python3.12/dist-packages/matplotlib/axes/_axes.py\u001b[0m in \u001b[0;36mscatter\u001b[0;34m(self, x, y, s, c, marker, cmap, norm, vmin, vmax, alpha, linewidths, edgecolors, colorizer, plotnonfinite, **kwargs)\u001b[0m\n\u001b[1;32m   4898\u001b[0m         \u001b[0my\u001b[0m \u001b[0;34m=\u001b[0m \u001b[0mnp\u001b[0m\u001b[0;34m.\u001b[0m\u001b[0mma\u001b[0m\u001b[0;34m.\u001b[0m\u001b[0mravel\u001b[0m\u001b[0;34m(\u001b[0m\u001b[0my\u001b[0m\u001b[0;34m)\u001b[0m\u001b[0;34m\u001b[0m\u001b[0;34m\u001b[0m\u001b[0m\n\u001b[1;32m   4899\u001b[0m         \u001b[0;32mif\u001b[0m \u001b[0mx\u001b[0m\u001b[0;34m.\u001b[0m\u001b[0msize\u001b[0m \u001b[0;34m!=\u001b[0m \u001b[0my\u001b[0m\u001b[0;34m.\u001b[0m\u001b[0msize\u001b[0m\u001b[0;34m:\u001b[0m\u001b[0;34m\u001b[0m\u001b[0;34m\u001b[0m\u001b[0m\n\u001b[0;32m-> 4900\u001b[0;31m             \u001b[0;32mraise\u001b[0m \u001b[0mValueError\u001b[0m\u001b[0;34m(\u001b[0m\u001b[0;34m\"x and y must be the same size\"\u001b[0m\u001b[0;34m)\u001b[0m\u001b[0;34m\u001b[0m\u001b[0;34m\u001b[0m\u001b[0m\n\u001b[0m\u001b[1;32m   4901\u001b[0m \u001b[0;34m\u001b[0m\u001b[0m\n\u001b[1;32m   4902\u001b[0m         \u001b[0;32mif\u001b[0m \u001b[0ms\u001b[0m \u001b[0;32mis\u001b[0m \u001b[0;32mNone\u001b[0m\u001b[0;34m:\u001b[0m\u001b[0;34m\u001b[0m\u001b[0;34m\u001b[0m\u001b[0m\n",
            "\u001b[0;31mValueError\u001b[0m: x and y must be the same size"
          ]
        },
        {
          "output_type": "display_data",
          "data": {
            "text/plain": [
              "<Figure size 640x480 with 1 Axes>"
            ],
            "image/png": "[encoded data removed]"
          },
          "metadata": {}
        }
      ]
    },
    {
      "cell_type": "markdown",
      "source": [
        "# Conditionals"
      ],
      "metadata": {
        "id": "lgZDnIJCBZiK"
      }
    },
    {
      "cell_type": "markdown",
      "source": [
        "Recommended reading: https://philuttley.github.io/prog4aa/11-cond/index.html\n",
        "\n",
        "Conditionals allow you to tell the computer to make a decision based on a condition. Let's use the examples of comparison operators from earlier in a conditional statement."
      ],
      "metadata": {
        "id": "3o1gYg6LmuKU"
      }
    },
    {
      "cell_type": "code",
      "source": [
        "if 9 > 3: print(\"hey, I'm pretty good at math\")"
      ],
      "metadata": {
        "colab": {
          "base_uri": "https://localhost:8080/"
        },
        "id": "LceYJnYgnR9l",
        "outputId": "932ea2f7-d054-4dd3-baa4-8c4829aeaf83"
      },
      "execution_count": null,
      "outputs": [
        {
          "output_type": "stream",
          "name": "stdout",
          "text": [
            "hey, I'm pretty good at math\n"
          ]
        }
      ]
    },
    {
      "cell_type": "code",
      "source": [
        "if 100 < 2: print('yikes! I need to study!')"
      ],
      "metadata": {
        "id": "V5ZPUqgqnXUq"
      },
      "execution_count": null,
      "outputs": []
    },
    {
      "cell_type": "markdown",
      "source": [
        "Notice that the first conditional results in the printed statement because it is true that $9>3$. The second doesn't print anything because the condition ($100 < 2$) is false.\n",
        "\n",
        "These are examples of ```if``` statements. The structure is ```if``` a condition is true then (```:```) execute an action or a list of actions.\n",
        "\n",
        "Try writing an ```if``` statement to tell you if the data table ```dat``` has more than two columns."
      ],
      "metadata": {
        "id": "imybTcBrnb7i"
      }
    },
    {
      "cell_type": "code",
      "source": [
        "dat.columns"
      ],
      "metadata": {
        "colab": {
          "base_uri": "https://localhost:8080/"
        },
        "id": "hzs2QRB6CESN",
        "outputId": "3efd7eee-0b59-4e3f-c67d-fa62e9ddf99c"
      },
      "execution_count": null,
      "outputs": [
        {
          "output_type": "execute_result",
          "data": {
            "text/plain": [
              "<TableColumns names=('Spectral Type','Temperature (K)','Absolute Magnitude','Luminosity (in solar luminosities)')>"
            ]
          },
          "metadata": {},
          "execution_count": 32
        }
      ]
    },
    {
      "cell_type": "code",
      "source": [
        "len(dat.columns)"
      ],
      "metadata": {
        "colab": {
          "base_uri": "https://localhost:8080/"
        },
        "id": "rjHH8StlCGvy",
        "outputId": "c0bddcb1-2b88-4612-eaee-49eb78d53580"
      },
      "execution_count": null,
      "outputs": [
        {
          "output_type": "execute_result",
          "data": {
            "text/plain": [
              "4"
            ]
          },
          "metadata": {},
          "execution_count": 33
        }
      ]
    },
    {
      "cell_type": "code",
      "source": [
        "if len(dat.columns) > 2:\n",
        "  print('the table has more than two columns')"
      ],
      "metadata": {
        "colab": {
          "base_uri": "https://localhost:8080/"
        },
        "id": "2B-gm_-RBbDZ",
        "outputId": "28f808c2-1096-42a0-bd3f-8a41a0110887"
      },
      "execution_count": null,
      "outputs": [
        {
          "output_type": "stream",
          "name": "stdout",
          "text": [
            "the table has more than two columns\n"
          ]
        }
      ]
    },
    {
      "cell_type": "markdown",
      "source": [
        "You can also combine conditions using logical operators like ```and```, ```or```, and ```not```. For example:"
      ],
      "metadata": {
        "id": "ch_EODHkoeeS"
      }
    },
    {
      "cell_type": "code",
      "source": [
        "len(dat)"
      ],
      "metadata": {
        "colab": {
          "base_uri": "https://localhost:8080/"
        },
        "id": "o2WSOw5xBmlk",
        "outputId": "dfc5cfbe-3c47-40a7-89c5-d67865432be7"
      },
      "execution_count": null,
      "outputs": [
        {
          "output_type": "execute_result",
          "data": {
            "text/plain": [
              "55"
            ]
          },
          "metadata": {},
          "execution_count": 35
        }
      ]
    },
    {
      "cell_type": "code",
      "source": [
        "if (len(dat) < 10) and (len(dat.columns) > 2):\n",
        "  print('this is a short and small table')\n",
        "else:\n",
        "  print('this table is not so short and not so small')"
      ],
      "metadata": {
        "colab": {
          "base_uri": "https://localhost:8080/"
        },
        "id": "5fDLmgaQCVNx",
        "outputId": "df4d7c30-75e4-4527-e7a2-f93701dbf933"
      },
      "execution_count": null,
      "outputs": [
        {
          "output_type": "stream",
          "name": "stdout",
          "text": [
            "this table is not so short and not so small\n"
          ]
        }
      ]
    },
    {
      "cell_type": "markdown",
      "source": [
        "These are kind of silly examples but these can be especially powerful when combined with loops which we will introduce next."
      ],
      "metadata": {
        "id": "DqOif1EyooYx"
      }
    },
    {
      "cell_type": "markdown",
      "source": [
        "# Loops"
      ],
      "metadata": {
        "id": "7833UYzN_EiP"
      }
    },
    {
      "cell_type": "markdown",
      "source": [
        "Recommended reading: https://philuttley.github.io/prog4aa/07-loops/index.html\n",
        "\n",
        "\n",
        "Loops allow you to repeat actions quickly and easily.  "
      ],
      "metadata": {
        "id": "alcTq1W4o_vw"
      }
    },
    {
      "cell_type": "code",
      "source": [
        "np.arange(10)"
      ],
      "metadata": {
        "colab": {
          "base_uri": "https://localhost:8080/"
        },
        "id": "qwjYKFp1CrIS",
        "outputId": "b67fcdd9-8867-40fd-db92-a44d089b90a5"
      },
      "execution_count": null,
      "outputs": [
        {
          "output_type": "execute_result",
          "data": {
            "text/plain": [
              "array([0, 1, 2, 3, 4, 5, 6, 7, 8, 9])"
            ]
          },
          "metadata": {},
          "execution_count": 37
        }
      ]
    },
    {
      "cell_type": "code",
      "source": [
        "for num in np.arange(10):\n",
        "  print(num)"
      ],
      "metadata": {
        "colab": {
          "base_uri": "https://localhost:8080/"
        },
        "id": "YRGIKn7FCt7O",
        "outputId": "ed2f298b-08ec-488f-97a7-c2e951cc97bb"
      },
      "execution_count": null,
      "outputs": [
        {
          "output_type": "stream",
          "name": "stdout",
          "text": [
            "0\n",
            "1\n",
            "2\n",
            "3\n",
            "4\n",
            "5\n",
            "6\n",
            "7\n",
            "8\n",
            "9\n"
          ]
        }
      ]
    },
    {
      "cell_type": "markdown",
      "source": [
        "Notice the formatting! You can give python multiple commands inside a ```for``` loop. The indentation tells python that those commands are part of the loop. No indentation indicates the end of the actions to be done in the loop."
      ],
      "metadata": {
        "id": "dNRAWP-ip6FP"
      }
    },
    {
      "cell_type": "code",
      "source": [
        "for num in np.arange(10):\n",
        "  print('counting...')\n",
        "  print(num)\n",
        "  print(' ')\n",
        "print('done counting')"
      ],
      "metadata": {
        "colab": {
          "base_uri": "https://localhost:8080/"
        },
        "id": "FAOsHRP-qnsh",
        "outputId": "75c46f9a-7748-470a-c989-d63e31cb59ae"
      },
      "execution_count": null,
      "outputs": [
        {
          "output_type": "stream",
          "name": "stdout",
          "text": [
            "counting...\n",
            "0\n",
            " \n",
            "counting...\n",
            "1\n",
            " \n",
            "counting...\n",
            "2\n",
            " \n",
            "counting...\n",
            "3\n",
            " \n",
            "counting...\n",
            "4\n",
            " \n",
            "counting...\n",
            "5\n",
            " \n",
            "counting...\n",
            "6\n",
            " \n",
            "counting...\n",
            "7\n",
            " \n",
            "counting...\n",
            "8\n",
            " \n",
            "counting...\n",
            "9\n",
            " \n",
            "done counting\n"
          ]
        }
      ]
    },
    {
      "cell_type": "markdown",
      "source": [
        "# Putting the pieces together"
      ],
      "metadata": {
        "id": "2gPnYoK1q4D8"
      }
    },
    {
      "cell_type": "markdown",
      "source": [
        "We want to include additional data in our plot, but one or more of these tables is less well-behaved than the ```ms.dat``` data.\n",
        "\n",
        "Together, loops and conditionals can help us reformat the data so we can add it to our plot.\n",
        "\n",
        "Let's look at the ```sg.dat``` table.\n",
        "First, read in the data."
      ],
      "metadata": {
        "id": "PDYJGlBrq7OQ"
      }
    },
    {
      "cell_type": "code",
      "source": [
        "sg_table = Table.read('/content/drive/MyDrive/ASTR229_data/stellar_data/sg.dat', format='ascii.csv', delimiter=';')"
      ],
      "metadata": {
        "id": "K315885R8-JI"
      },
      "execution_count": null,
      "outputs": []
    },
    {
      "cell_type": "markdown",
      "source": [
        "Be sure to take a look at the data - either by double clicking on the filename or using the formatted print to screen function"
      ],
      "metadata": {
        "id": "SMEvg0dZrOWl"
      }
    },
    {
      "cell_type": "code",
      "source": [
        "sg_table.pprint()"
      ],
      "metadata": {
        "colab": {
          "base_uri": "https://localhost:8080/"
        },
        "id": "z7nBI4cY_Mc9",
        "outputId": "0130a569-20fc-42ce-b292-3d8e4d050a5e"
      },
      "execution_count": null,
      "outputs": [
        {
          "output_type": "stream",
          "name": "stdout",
          "text": [
            "Spectral Type Temperature (K) ... Luminosity (in solar luminosities)\n",
            "------------- --------------- ... ----------------------------------\n",
            "           B0          21,000 ...                            320,000\n",
            "           B1          16,000 ...                            280,000\n",
            "           B2          14,000 ...                            220,000\n",
            "           B3          12,800 ...                            180,000\n",
            "           B5          11,500 ...                            140,000\n",
            "           B6          11,000 ...                             98,000\n",
            "           B7          10,500 ...                             82,000\n",
            "           B8          10,000 ...                             73,000\n",
            "           B9            9700 ...                             61,000\n",
            "           A0            9400 ...                             50,600\n",
            "           A1            9100 ...                             44,000\n",
            "           A2            8900 ...                             40,000\n",
            "           A5            8300 ...                             36,000\n",
            "           F0            7500 ...                             20,000\n",
            "           F2            7200 ...                             18,000\n",
            "           F5            6800 ...                             16,000\n",
            "           F8            6150 ...                             12,000\n",
            "           G0            5800 ...                               9600\n",
            "           G2            5500 ...                               9500\n",
            "           G5            5100 ...                               9800\n",
            "           G8            5050 ...                             11,000\n",
            "           K0            4900 ...                         12,000,000\n"
          ]
        }
      ]
    },
    {
      "cell_type": "markdown",
      "source": [
        "Notice how the temperature and luminosity are written in the file. I can already see that the formatting is going to cause me problems. Python will recognize ```21000``` as a number but not ```21,000```."
      ],
      "metadata": {
        "id": "G3RH1kFrrYIw"
      }
    },
    {
      "cell_type": "code",
      "source": [
        "sg_table['Temperature (K)']"
      ],
      "metadata": {
        "colab": {
          "base_uri": "https://localhost:8080/"
        },
        "id": "ZuPAmqqA_WZ5",
        "outputId": "8a9fe7e4-b381-4e56-d7ee-34ae6b07a120"
      },
      "execution_count": null,
      "outputs": [
        {
          "output_type": "execute_result",
          "data": {
            "text/plain": [
              "<Column name='Temperature (K)' dtype='str6' length=22>\n",
              "21,000\n",
              "16,000\n",
              "14,000\n",
              "12,800\n",
              "11,500\n",
              "11,000\n",
              "10,500\n",
              "10,000\n",
              "  9700\n",
              "  9400\n",
              "  9100\n",
              "  8900\n",
              "  8300\n",
              "  7500\n",
              "  7200\n",
              "  6800\n",
              "  6150\n",
              "  5800\n",
              "  5500\n",
              "  5100\n",
              "  5050\n",
              "  4900"
            ]
          },
          "metadata": {},
          "execution_count": 42
        }
      ]
    },
    {
      "cell_type": "markdown",
      "source": [
        "The commas in the numbers mean that python has interpreted the data in the temperature column as ```str``` not ```float```. The commas also mean that we can't just do a type conversion."
      ],
      "metadata": {
        "id": "27oFQ8Oyrp-c"
      }
    },
    {
      "cell_type": "code",
      "source": [
        "sg_temps = np.array(sg_table['Temperature (K)']).astype(float)"
      ],
      "metadata": {
        "colab": {
          "base_uri": "https://localhost:8080/",
          "height": 139
        },
        "id": "qqEcxasm_b43",
        "outputId": "f2d9c774-56f6-4d24-f54c-c215b0685ccb"
      },
      "execution_count": null,
      "outputs": [
        {
          "output_type": "error",
          "ename": "ValueError",
          "evalue": "could not convert string to float: np.str_('21,000')",
          "traceback": [
            "\u001b[0;31m---------------------------------------------------------------------------\u001b[0m",
            "\u001b[0;31mValueError\u001b[0m                                Traceback (most recent call last)",
            "\u001b[0;32m/tmp/ipython-input-530742989.py\u001b[0m in \u001b[0;36m<cell line: 0>\u001b[0;34m()\u001b[0m\n\u001b[0;32m----> 1\u001b[0;31m \u001b[0msg_temps\u001b[0m \u001b[0;34m=\u001b[0m \u001b[0mnp\u001b[0m\u001b[0;34m.\u001b[0m\u001b[0marray\u001b[0m\u001b[0;34m(\u001b[0m\u001b[0msg_table\u001b[0m\u001b[0;34m[\u001b[0m\u001b[0;34m'Temperature (K)'\u001b[0m\u001b[0;34m]\u001b[0m\u001b[0;34m)\u001b[0m\u001b[0;34m.\u001b[0m\u001b[0mastype\u001b[0m\u001b[0;34m(\u001b[0m\u001b[0mfloat\u001b[0m\u001b[0;34m)\u001b[0m\u001b[0;34m\u001b[0m\u001b[0;34m\u001b[0m\u001b[0m\n\u001b[0m",
            "\u001b[0;31mValueError\u001b[0m: could not convert string to float: np.str_('21,000')"
          ]
        }
      ]
    },
    {
      "cell_type": "markdown",
      "source": [
        "To get the data into a format we can use, we need to remove the commas. You could brute-force it and edit the file by hand but that quickly becomes time-consuming for longer files.\n",
        "\n",
        "Instead, let's use a loop because we need to repeat the same action (removing the comma) many times. Inside the loop, we'll also use a conditional statement because we don't need to correct every number - just the ones with a comma messing up the formatting."
      ],
      "metadata": {
        "id": "1SX-Hq-4r53M"
      }
    },
    {
      "cell_type": "code",
      "source": [
        "# make an empty list to collect the reformatted temperatures\n",
        "sg_temps = []\n",
        "\n",
        "# create a variable for the character we want to remove\n",
        "# assign it with ',' - note the format!\n",
        "chk_char = ','\n",
        "\n",
        "# write a for loop to check all the temperature values\n",
        "for tt in sg_table['Temperature (K)']:\n",
        "  # if the temperature has a comma, remove it\n",
        "  if chk_char in tt:\n",
        "    sg_temps.append(tt.replace(chk_char, ''))\n",
        "  # if the temperature *doesn't* have a comma, no need to edit\n",
        "  else:\n",
        "    sg_temps.append(tt)"
      ],
      "metadata": {
        "id": "HEwFDOO2_gRO"
      },
      "execution_count": null,
      "outputs": []
    },
    {
      "cell_type": "markdown",
      "source": [
        "Now we can check our reformatted list of temperatures."
      ],
      "metadata": {
        "id": "8SRAIr5MtPy0"
      }
    },
    {
      "cell_type": "code",
      "source": [
        "sg_temps"
      ],
      "metadata": {
        "colab": {
          "base_uri": "https://localhost:8080/"
        },
        "id": "KgDzm7yTApZB",
        "outputId": "4661d1d8-c52e-457a-9eaa-5623c076b9d7"
      },
      "execution_count": null,
      "outputs": [
        {
          "output_type": "execute_result",
          "data": {
            "text/plain": [
              "['21000',\n",
              " '16000',\n",
              " '14000',\n",
              " '12800',\n",
              " '11500',\n",
              " '11000',\n",
              " '10500',\n",
              " '10000',\n",
              " np.str_('9700'),\n",
              " np.str_('9400'),\n",
              " np.str_('9100'),\n",
              " np.str_('8900'),\n",
              " np.str_('8300'),\n",
              " np.str_('7500'),\n",
              " np.str_('7200'),\n",
              " np.str_('6800'),\n",
              " np.str_('6150'),\n",
              " np.str_('5800'),\n",
              " np.str_('5500'),\n",
              " np.str_('5100'),\n",
              " np.str_('5050'),\n",
              " np.str_('4900')]"
            ]
          },
          "metadata": {},
          "execution_count": 45
        }
      ]
    },
    {
      "cell_type": "markdown",
      "source": [
        "Notice that these are all strings but the way this is reported looks different for the values we edited versus the ones we didn't. These are pretty much interchangeable - more information for the interested reader [here](https://numpy.org/doc/stable/user/basics.types.html#relationship-between-numpy-data-types-and-c-data-types)."
      ],
      "metadata": {
        "id": "ou7ekUJ6B1lS"
      }
    },
    {
      "cell_type": "code",
      "source": [
        "type(sg_temps)"
      ],
      "metadata": {
        "colab": {
          "base_uri": "https://localhost:8080/"
        },
        "id": "eqDq0q0OtXXd",
        "outputId": "ec577e65-4aed-47ea-9e37-ac3c0c0ba89d"
      },
      "execution_count": null,
      "outputs": [
        {
          "output_type": "execute_result",
          "data": {
            "text/plain": [
              "list"
            ]
          },
          "metadata": {},
          "execution_count": 46
        }
      ]
    },
    {
      "cell_type": "code",
      "source": [
        "type(sg_temps[0])"
      ],
      "metadata": {
        "colab": {
          "base_uri": "https://localhost:8080/"
        },
        "id": "3UbKVxOjtTrq",
        "outputId": "fb9c4bb6-870e-439e-9282-34e2a8615564"
      },
      "execution_count": null,
      "outputs": [
        {
          "output_type": "execute_result",
          "data": {
            "text/plain": [
              "str"
            ]
          },
          "metadata": {},
          "execution_count": 47
        }
      ]
    },
    {
      "cell_type": "markdown",
      "source": [
        "Finally, we should be able to convert the reformatted temperatures to an array of floating point numbers."
      ],
      "metadata": {
        "id": "oAPE5HfJtax7"
      }
    },
    {
      "cell_type": "code",
      "source": [
        "np.array(sg_temps).astype(float)"
      ],
      "metadata": {
        "colab": {
          "base_uri": "https://localhost:8080/"
        },
        "id": "-PvkhmPhAOOa",
        "outputId": "b880ffef-81a6-4444-eeaa-6e51f51e246e"
      },
      "execution_count": null,
      "outputs": [
        {
          "output_type": "execute_result",
          "data": {
            "text/plain": [
              "array([21000., 16000., 14000., 12800., 11500., 11000., 10500., 10000.,\n",
              "        9700.,  9400.,  9100.,  8900.,  8300.,  7500.,  7200.,  6800.,\n",
              "        6150.,  5800.,  5500.,  5100.,  5050.,  4900.])"
            ]
          },
          "metadata": {},
          "execution_count": 48
        }
      ]
    },
    {
      "cell_type": "markdown",
      "source": [
        "Notice that we have the same problem with the luminosities..."
      ],
      "metadata": {
        "id": "Vy_EKzQ3ti-k"
      }
    },
    {
      "cell_type": "code",
      "source": [
        "sg_lums = sg_table['Luminosity (in solar luminosities)']"
      ],
      "metadata": {
        "id": "NBHYX3YuA9ki"
      },
      "execution_count": null,
      "outputs": []
    },
    {
      "cell_type": "code",
      "source": [
        "sg_lums"
      ],
      "metadata": {
        "colab": {
          "base_uri": "https://localhost:8080/"
        },
        "id": "ocFJPyA_BODQ",
        "outputId": "5d703399-76eb-4975-810d-588abf11ff87"
      },
      "execution_count": null,
      "outputs": [
        {
          "output_type": "execute_result",
          "data": {
            "text/plain": [
              "<Column name='Luminosity (in solar luminosities)' dtype='str10' length=22>\n",
              "   320,000\n",
              "   280,000\n",
              "   220,000\n",
              "   180,000\n",
              "   140,000\n",
              "    98,000\n",
              "    82,000\n",
              "    73,000\n",
              "    61,000\n",
              "    50,600\n",
              "    44,000\n",
              "    40,000\n",
              "    36,000\n",
              "    20,000\n",
              "    18,000\n",
              "    16,000\n",
              "    12,000\n",
              "      9600\n",
              "      9500\n",
              "      9800\n",
              "    11,000\n",
              "12,000,000"
            ]
          },
          "metadata": {},
          "execution_count": 50
        }
      ]
    },
    {
      "cell_type": "markdown",
      "source": [
        "Write your own code to reformat the luminosities.\n",
        "\n",
        "Then add the temperatures and luminosities from the ```sg.dat``` and ```giants.dat``` files to your plot of temperature and luminosity.\n",
        "\n",
        "Play around with different plot [markers](https://matplotlib.org/stable/api/markers_api.html#module-matplotlib.markers) and symbol colors to show which data points come from each file.\n",
        "\n",
        "Label the different datasets by adding [annotations](https://matplotlib.org/stable/users/explain/text/annotations.html) to your plot."
      ],
      "metadata": {
        "id": "u-SmkvmGtn-7"
      }
    },
    {
      "cell_type": "code",
      "source": [
        "# your code here"
      ],
      "metadata": {
        "id": "fGTetmxMBQJx"
      },
      "execution_count": null,
      "outputs": []
    },
    {
      "cell_type": "markdown",
      "source": [
        "# Beyond lists"
      ],
      "metadata": {
        "id": "Z1joQ1ntGaIz"
      }
    },
    {
      "cell_type": "markdown",
      "source": [
        "Recommended reading: https://philuttley.github.io/prog4aa/10-dict-tup-set/index.html\n",
        "\n",
        "\n",
        "We've mostly looked at lists as a way to collect data (e.g., in the example above we collected our reformatted temperatures in a list). There are a few other\n",
        "other containers for information that you may find useful: sets, tuples, and dictionaries.\n",
        "\n",
        "**Sets**: contain values that are unique and unordered, similar to mathematical sets.\n",
        "\n",
        "**Tuples**: are an immutable version of a list.\n",
        "\n",
        "**Dictionaries**: are similar to lists but are indexed using keys.\n",
        "\n"
      ],
      "metadata": {
        "id": "MwkgoE47Gk-9"
      }
    },
    {
      "cell_type": "markdown",
      "source": [
        "# Sets"
      ],
      "metadata": {
        "id": "yeXmSHBSHnmq"
      }
    },
    {
      "cell_type": "markdown",
      "source": [
        "A set contains unique, unordered data. The set can be changed but values within a set cannot be changed.\n",
        "\n",
        "You can make a set with a list of spectral types using the ```set()``` function."
      ],
      "metadata": {
        "id": "HGjloMceHpld"
      }
    },
    {
      "cell_type": "code",
      "source": [
        "SpT = set(['M0', 'M1', 'M2', 'M3', 'M4', 'M5', 'M6', 'M7', 'M8'])"
      ],
      "metadata": {
        "id": "9jz4vd4NHouC"
      },
      "execution_count": null,
      "outputs": []
    },
    {
      "cell_type": "code",
      "source": [
        "SpT"
      ],
      "metadata": {
        "colab": {
          "base_uri": "https://localhost:8080/"
        },
        "id": "Led9iO894aBH",
        "outputId": "45ca0fde-4abe-4656-cfaa-a4a12da098fd"
      },
      "execution_count": null,
      "outputs": [
        {
          "output_type": "execute_result",
          "data": {
            "text/plain": [
              "{'M0', 'M1', 'M2', 'M3', 'M4', 'M5', 'M6', 'M7', 'M8'}"
            ]
          },
          "metadata": {},
          "execution_count": 53
        }
      ]
    },
    {
      "cell_type": "markdown",
      "source": [
        "Note that sets are printed with curly braces ```{}``` whereas lists have square brackets ```[]```.\n",
        "\n",
        "With better telescopes, we discovered even later spectral types. We can add L-dwarfs to the set of spectral types using ```.add()```."
      ],
      "metadata": {
        "id": "AJV-oFIX4bMw"
      }
    },
    {
      "cell_type": "code",
      "source": [
        "SpT.add('L0')"
      ],
      "metadata": {
        "id": "X5kpP5p84w0S"
      },
      "execution_count": null,
      "outputs": []
    },
    {
      "cell_type": "code",
      "source": [
        "SpT"
      ],
      "metadata": {
        "colab": {
          "base_uri": "https://localhost:8080/"
        },
        "id": "_rv6HDEv4zXS",
        "outputId": "9b13f349-a991-4a36-f20e-57a1ad694461"
      },
      "execution_count": null,
      "outputs": [
        {
          "output_type": "execute_result",
          "data": {
            "text/plain": [
              "{'L0', 'M0', 'M1', 'M2', 'M3', 'M4', 'M5', 'M6', 'M7', 'M8'}"
            ]
          },
          "metadata": {},
          "execution_count": 55
        }
      ]
    },
    {
      "cell_type": "markdown",
      "source": [
        "An example use from Anthony (TA fall 2025): sets are a way to merge two tables with the names of habitable exoplanets so that there are no duplicates. (note: this could also be done with standard table join/merge functions).\n"
      ],
      "metadata": {
        "id": "OG3_XY4J42zR"
      }
    },
    {
      "cell_type": "markdown",
      "source": [
        "# Tuples"
      ],
      "metadata": {
        "id": "y3kUZHpgHsAS"
      }
    },
    {
      "cell_type": "markdown",
      "source": [
        "Tuples are like lists but they cannot be changed. Tuples print with parentheses ```()``` instead of square brackets ```[]```."
      ],
      "metadata": {
        "id": "Lsff1OQuHtpA"
      }
    },
    {
      "cell_type": "code",
      "source": [
        "my_stars = ('M0', 'M1', 'M2', 'M3', 'M4', 'M5', 'M6', 'M7', 'M8')"
      ],
      "metadata": {
        "id": "2GnXAbpu5V9w"
      },
      "execution_count": null,
      "outputs": []
    },
    {
      "cell_type": "code",
      "source": [
        "my_stars"
      ],
      "metadata": {
        "colab": {
          "base_uri": "https://localhost:8080/"
        },
        "id": "_zyjRevL5Zx6",
        "outputId": "214fb897-9368-4df1-ee26-acd647258795"
      },
      "execution_count": null,
      "outputs": [
        {
          "output_type": "execute_result",
          "data": {
            "text/plain": [
              "('M0', 'M1', 'M2', 'M3', 'M4', 'M5', 'M6', 'M7', 'M8')"
            ]
          },
          "metadata": {},
          "execution_count": 57
        }
      ]
    },
    {
      "cell_type": "markdown",
      "source": [
        "Tuples can be indexed like lists but not modified. For example, I cannot add any L-types to my list of objects."
      ],
      "metadata": {
        "id": "kFtdJM2V5kDn"
      }
    },
    {
      "cell_type": "code",
      "source": [
        "my_stars.append('L0')"
      ],
      "metadata": {
        "colab": {
          "base_uri": "https://localhost:8080/",
          "height": 139
        },
        "id": "sl2bGddz5ktg",
        "outputId": "eaa672c2-d8cc-4580-d411-a1f6d22b2470"
      },
      "execution_count": null,
      "outputs": [
        {
          "output_type": "error",
          "ename": "AttributeError",
          "evalue": "'tuple' object has no attribute 'append'",
          "traceback": [
            "\u001b[0;31m---------------------------------------------------------------------------\u001b[0m",
            "\u001b[0;31mAttributeError\u001b[0m                            Traceback (most recent call last)",
            "\u001b[0;32m/tmp/ipython-input-3721323639.py\u001b[0m in \u001b[0;36m<cell line: 0>\u001b[0;34m()\u001b[0m\n\u001b[0;32m----> 1\u001b[0;31m \u001b[0mmy_stars\u001b[0m\u001b[0;34m.\u001b[0m\u001b[0mappend\u001b[0m\u001b[0;34m(\u001b[0m\u001b[0;34m'L0'\u001b[0m\u001b[0;34m)\u001b[0m\u001b[0;34m\u001b[0m\u001b[0;34m\u001b[0m\u001b[0m\n\u001b[0m",
            "\u001b[0;31mAttributeError\u001b[0m: 'tuple' object has no attribute 'append'"
          ]
        }
      ]
    },
    {
      "cell_type": "markdown",
      "source": [
        "# The zip function"
      ],
      "metadata": {
        "id": "qIDUeCpb5z8A"
      }
    },
    {
      "cell_type": "markdown",
      "source": [
        "The zip function creates a tuple from, e.g, two lists, that can only be iterated through once. This can be really useful in a ```for``` loop.\n",
        "\n",
        "Sound confusing? This is more easily explained with an example.\n",
        "Say we want to make a list of stars to observe. To pick good targets, we need to know where they are in the sky, how bright they are, etc. Let's look at a simple example where we just check whether an obect might be up at night (for what time of year??), then print it's name. This is easy to do with ```zip()```.  "
      ],
      "metadata": {
        "id": "kEtG9dsf5ywX"
      }
    },
    {
      "cell_type": "code",
      "source": [
        "names = ['Aldebaran', 'Alderamin', 'Algol', 'Alhena', 'Almach', 'Alnilam',\n",
        "         'Alnitak', 'Alpheratz', 'Altair', 'Bellatrix']\n",
        "\n",
        "RAh = [4., 21.,  3.,  6.,  2.,  5.,  5.,  0., 19.,  5.]\n",
        "Decd = [16., 62., 40., 16., 42., -1., -1., 29.,  8.,  6.]"
      ],
      "metadata": {
        "id": "yWD0Y6587UzQ"
      },
      "execution_count": null,
      "outputs": []
    },
    {
      "cell_type": "code",
      "source": [
        "for nm, ra in zip(names, RAh):\n",
        "  if (ra > 18) or (ra < 6):\n",
        "    print('we might be able to observe '+nm+' tonight')\n",
        "  else:\n",
        "    print('not looking promising to observe '+nm+' tonight')"
      ],
      "metadata": {
        "colab": {
          "base_uri": "https://localhost:8080/"
        },
        "id": "Xe0nIa518DiY",
        "outputId": "c0a20114-fe12-4a0f-8398-365645a5d405"
      },
      "execution_count": null,
      "outputs": [
        {
          "output_type": "stream",
          "name": "stdout",
          "text": [
            "we might be able to observe Aldebaran tonight\n",
            "we might be able to observe Alderamin tonight\n",
            "we might be able to observe Algol tonight\n",
            "not looking promising to observe Alhena tonight\n",
            "we might be able to observe Almach tonight\n",
            "we might be able to observe Alnilam tonight\n",
            "we might be able to observe Alnitak tonight\n",
            "we might be able to observe Alpheratz tonight\n",
            "we might be able to observe Altair tonight\n",
            "we might be able to observe Bellatrix tonight\n"
          ]
        }
      ]
    },
    {
      "cell_type": "markdown",
      "source": [
        "# Dictionaries"
      ],
      "metadata": {
        "id": "exZuUPQ3GnFh"
      }
    },
    {
      "cell_type": "markdown",
      "source": [
        "Dictionaries are like lists in that they can collect information, including data of different types. Their use is more similar to the table example above because information in a dictionary is accessed with keys. For example, you could make a dictionary to contain the properties of a given star."
      ],
      "metadata": {
        "id": "J8EVwHBB9N9u"
      }
    },
    {
      "cell_type": "code",
      "source": [
        "Vega = {'Dist_pc':7.68, 'Spec_Type':'A0Va', 'Mass_Msol':2.14, 'Lum_Lsol':40.12}\n"
      ],
      "metadata": {
        "id": "NxYxnPRT4g9E"
      },
      "execution_count": null,
      "outputs": []
    },
    {
      "cell_type": "code",
      "source": [
        "Vega"
      ],
      "metadata": {
        "colab": {
          "base_uri": "https://localhost:8080/"
        },
        "id": "Evq8RjZY4wdL",
        "outputId": "b1d8ff7e-7688-4099-caf4-06c834be562a"
      },
      "execution_count": null,
      "outputs": [
        {
          "output_type": "execute_result",
          "data": {
            "text/plain": [
              "{'Dist_pc': 7.68, 'Spec_Type': 'A0Va', 'Mass_Msol': 2.14, 'Lum_Lsol': 40.12}"
            ]
          },
          "metadata": {},
          "execution_count": 62
        }
      ]
    },
    {
      "cell_type": "markdown",
      "source": [
        "Notice the format is ```'key': value``` in a dictionary. A dictionary can be initiated by wrapping values in curly braces ```{}``` or using the ```dict()``` function."
      ],
      "metadata": {
        "id": "6tGV7pHz4x9W"
      }
    },
    {
      "cell_type": "code",
      "source": [
        "Arcturus = dict([('Mass_Msol',1.08), ('Lum_Lsol',170), ('Dist_pc',11.26), ('Spec_Type','K0III')])"
      ],
      "metadata": {
        "id": "8okjIny_GoBG"
      },
      "execution_count": null,
      "outputs": []
    },
    {
      "cell_type": "code",
      "source": [
        "Arcturus"
      ],
      "metadata": {
        "colab": {
          "base_uri": "https://localhost:8080/"
        },
        "id": "M6oUKzw4GmkN",
        "outputId": "7ed795ec-83c5-4894-cb55-384fc7e42e01"
      },
      "execution_count": null,
      "outputs": [
        {
          "output_type": "execute_result",
          "data": {
            "text/plain": [
              "{'Mass_Msol': 1.08, 'Lum_Lsol': 170, 'Dist_pc': 11.26, 'Spec_Type': 'K0III'}"
            ]
          },
          "metadata": {},
          "execution_count": 64
        }
      ]
    },
    {
      "cell_type": "markdown",
      "source": [
        "Information is called from a dictonary using the key. For example:"
      ],
      "metadata": {
        "id": "FgnnI4Pb5coc"
      }
    },
    {
      "cell_type": "code",
      "source": [
        "Vega['Mass_Msol']"
      ],
      "metadata": {
        "id": "n602lJBKGkP_",
        "colab": {
          "base_uri": "https://localhost:8080/"
        },
        "outputId": "1bc9af6c-738c-47fc-d51c-e2270cc898c3"
      },
      "execution_count": null,
      "outputs": [
        {
          "output_type": "execute_result",
          "data": {
            "text/plain": [
              "2.14"
            ]
          },
          "metadata": {},
          "execution_count": 65
        }
      ]
    },
    {
      "cell_type": "markdown",
      "source": [
        "Use the ```.keys()``` function to get a list of keys in your dictionary."
      ],
      "metadata": {
        "id": "d23qWF2o5s_1"
      }
    },
    {
      "cell_type": "code",
      "source": [
        "Vega.keys()"
      ],
      "metadata": {
        "colab": {
          "base_uri": "https://localhost:8080/"
        },
        "id": "ECyrHGT25kBK",
        "outputId": "2d84f68a-3077-4719-c55a-62e73f16906d"
      },
      "execution_count": null,
      "outputs": [
        {
          "output_type": "execute_result",
          "data": {
            "text/plain": [
              "dict_keys(['Dist_pc', 'Spec_Type', 'Mass_Msol', 'Lum_Lsol'])"
            ]
          },
          "metadata": {},
          "execution_count": 66
        }
      ]
    },
    {
      "cell_type": "markdown",
      "source": [
        "Your turn: use the data in ```ms.dat``` to make a dictionary with the spectral type, temperature, and luminosity of all stars in the table."
      ],
      "metadata": {
        "id": "razcHPXm5zjK"
      }
    },
    {
      "cell_type": "code",
      "source": [
        "# your code here"
      ],
      "metadata": {
        "id": "hmwFTbrq5nkE"
      },
      "execution_count": null,
      "outputs": []
    },
    {
      "cell_type": "markdown",
      "source": [
        "# Skills practice - dealing with missing data"
      ],
      "metadata": {
        "id": "w402sRB9D_Bb"
      }
    },
    {
      "cell_type": "markdown",
      "source": [
        "Earlier in this assignment, we dealt with missing data (denoted with ```*``` in the table) by ignoring it. This usually isn't the best way to deal the problem. Notice that only one column of data are missing data in the ```ms.dat``` file, so we are throwing away a lot of information if we ignore the entire row.\n",
        "\n",
        "Write your own code to replace missing data in the table with ```NaN```s (a ```NaN``` is 'not a number'). Some helpful tips for dealing with ```NaN```s in the [numpy documentation](https://numpy.org/doc/stable/reference/constants.html).\n",
        "\n",
        "Then make your plot with luminosity on the left y-axis and absolute magnitude on the right y-axis. What should you do about points that have a luminosity but not an absolute magntiude? Use a different plot symbol for those points. Be sure to explain in either the plot legend or your figure caption.\n",
        "\n",
        "Add the data from the ```sg.dat``` and ```giants.dat``` tables. Include the labels from earlier.\n",
        "\n",
        "When you include the figure in your writeup, make sure that all symbols and labels are large enough to see / read without zooming in."
      ],
      "metadata": {
        "id": "nrMFTPtsEL2s"
      }
    },
    {
      "cell_type": "code",
      "source": [],
      "metadata": {
        "id": "4Gti__oY-keR"
      },
      "execution_count": null,
      "outputs": []
    }
  ]
}