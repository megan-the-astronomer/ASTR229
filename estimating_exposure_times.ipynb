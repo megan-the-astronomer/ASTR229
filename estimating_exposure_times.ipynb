{
  "nbformat": 4,
  "nbformat_minor": 0,
  "metadata": {
    "colab": {
      "provenance": [],
      "include_colab_link": true
    },
    "kernelspec": {
      "name": "python3",
      "display_name": "Python 3"
    },
    "language_info": {
      "name": "python"
    }
  },
  "cells": [
    {
      "cell_type": "markdown",
      "metadata": {
        "id": "view-in-github",
        "colab_type": "text"
      },
      "source": [
        "<a href=\"https://colab.research.google.com/github/megan-the-astronomer/ASTR229/blob/main/estimating_exposure_times.ipynb\" target=\"_parent\"><img src=\"https://colab.research.google.com/assets/colab-badge.svg\" alt=\"Open In Colab\"/></a>"
      ]
    },
    {
      "cell_type": "markdown",
      "source": [
        "# How many photons do you expect?"
      ],
      "metadata": {
        "id": "IkwairbnQO49"
      }
    },
    {
      "cell_type": "markdown",
      "source": [
        "In a perfect world, our astronomical images would contain signal from our objects - and only signal from our objects. In practice, this is never the case because there will be some signal from the background sky around the object and from the detector itself. As we will discuss in class, all these things contribute to the noise in an image.\n",
        "\n",
        "When designing observations, we want to optimize the signal-to-noise ratio ($S/N$ sometimes written as SNR although this can be confused with the abbreviation for supernova remnant). The signal-to-noise equation for a CCD detector is\n",
        "\n",
        "\\begin{equation}\n",
        "\\frac{S_o}{N} = \\frac{S_o}{\\sqrt{S_o + S_s + S_d + R^2}}\n",
        "\\end{equation}\n",
        "\n",
        "where\n",
        "$S_o$ is the signal from the source\n",
        "$S_s$ is the signal from the background / sky,\n",
        "$S_d$ is the signal from the dark current\n",
        "and\n",
        "$R$ is the readnoise.\n",
        "\n",
        "For this project, we want our observations to be object limited, that is\n",
        "$S_o \\gg S_s, S_d, R^2$.\n",
        "In this regime, the biggest source of uncertainty is photon noise from the object, so we can approximate the signal-to-noise ratio as $S/N \\sim \\sqrt{S_o}$.\n",
        "\n",
        "We'll use this to determine how long we need to observe our targets to get a good image. Our goal is to obtain a $S/N \\sim 100$."
      ],
      "metadata": {
        "id": "g2fVXazMc_cG"
      }
    },
    {
      "cell_type": "code",
      "execution_count": null,
      "metadata": {
        "id": "9DZEapiKQJOn"
      },
      "outputs": [],
      "source": [
        "# start by importing a few essentials\n",
        "import numpy as np\n",
        "import matplotlib.pyplot as plt\n",
        "import astropy\n",
        "\n",
        "from astropy.io import fits\n",
        "from astropy.table import Table\n",
        "import astropy.constants as const\n",
        "import astropy.units as u"
      ]
    },
    {
      "cell_type": "markdown",
      "source": [
        "The signal, $S_o$, is the expected number of photons from our object. If we derive an estimated photon flux, that is the number of photons / second, then we can work out the required exposure time to reach our desired $S/N$.\n",
        "\n",
        "We can do this using a magnitude or flux measurement and a little math and physics.\n",
        "\n",
        "First, we know that the **flux**, $F$, has units of\n",
        "*energy / area / time / wavelength*.  \n",
        "\n",
        "Next, we need to know the **wavelength** that we want to observe.\n",
        "We can use this to estimate the average energy per photon for a given wavelength.\n",
        "This also tells us the bandpass, or how big our bucket is in wavelength space.\n",
        "\n",
        "To determine the **collecting area**, we have to know the size of the telescope. We'll also make an approximation for atmospheric and telescope losses.\n",
        "\n",
        "We'll need to think about how light is distributed on the detector to determine how many pixels our object will cover.\n",
        "\n",
        "Finally, we'll estimate the exposure time required to achieve $S/N \\sim 100$.\n",
        "\n",
        "As an example, consider a star with $V=15$ mag which has a flux $F = 3.62 \\times 10^{-15}$ erg cm$^{-2}$ s$^{-1}$ Å$^{-1}$."
      ],
      "metadata": {
        "id": "nrzQIV4beQ2N"
      }
    },
    {
      "cell_type": "code",
      "source": [
        "ref_mag = 15\n",
        "ref_flux = 3.62e-15 * u.erg / u.s / u.cm**2 / u.Angstrom"
      ],
      "metadata": {
        "id": "aTqPYEpbhQvL"
      },
      "execution_count": null,
      "outputs": []
    },
    {
      "cell_type": "code",
      "source": [
        "ref_flux"
      ],
      "metadata": {
        "colab": {
          "base_uri": "https://localhost:8080/",
          "height": 40
        },
        "id": "_x7VxU3yhYK1",
        "outputId": "b51e907b-c442-438c-fc57-d870d3e04420"
      },
      "execution_count": null,
      "outputs": [
        {
          "output_type": "execute_result",
          "data": {
            "text/plain": [
              "<Quantity 3.62e-15 erg / (Angstrom s cm2)>"
            ],
            "text/latex": "$3.62 \\times 10^{-15} \\; \\mathrm{\\frac{erg}{\\mathring{A}\\,s\\,cm^{2}}}$"
          },
          "metadata": {},
          "execution_count": 41
        }
      ]
    },
    {
      "cell_type": "markdown",
      "source": [
        "# Wavelengths: the effective wavelength and the bandpass"
      ],
      "metadata": {
        "id": "3Hn6iCI7fQKq"
      }
    },
    {
      "cell_type": "markdown",
      "source": [
        "Use the filter transmission data from ```PyAstronomy``` that you used in the \"making models\" assignment to calculate the effective wavelength and the bandpass of the filter.\n",
        "\n",
        "The effective wavelength is the wavelength where the transmission is optimized. You can compute this as the weighted average of the wavelengths in the bandpass.\n",
        "\n",
        "The filter bandpass is the range of wavelengths transmitted by a given filter and is usually given by the full-width-half-maximum of the transimission curve."
      ],
      "metadata": {
        "id": "eHf7pIMDfSHV"
      }
    },
    {
      "cell_type": "code",
      "source": [
        "pip install PyAstronomy"
      ],
      "metadata": {
        "colab": {
          "base_uri": "https://localhost:8080/"
        },
        "id": "ecMk9waGHVGa",
        "outputId": "96730286-af3b-4258-8da4-d42249c3ecb0"
      },
      "execution_count": null,
      "outputs": [
        {
          "output_type": "stream",
          "name": "stdout",
          "text": [
            "Requirement already satisfied: PyAstronomy in /usr/local/lib/python3.12/dist-packages (0.23.0)\n",
            "Requirement already satisfied: numpy<2 in /usr/local/lib/python3.12/dist-packages (from PyAstronomy) (1.26.4)\n",
            "Requirement already satisfied: six in /usr/local/lib/python3.12/dist-packages (from PyAstronomy) (1.17.0)\n",
            "Requirement already satisfied: scipy in /usr/local/lib/python3.12/dist-packages (from PyAstronomy) (1.16.2)\n",
            "Requirement already satisfied: quantities in /usr/local/lib/python3.12/dist-packages (from PyAstronomy) (0.16.2)\n",
            "Requirement already satisfied: bidict in /usr/local/lib/python3.12/dist-packages (from PyAstronomy) (0.23.1)\n"
          ]
        }
      ]
    },
    {
      "cell_type": "code",
      "source": [
        "# get the astronomy library\n",
        "from PyAstronomy import pyasl"
      ],
      "metadata": {
        "id": "4pMXfGgHHgv-"
      },
      "execution_count": null,
      "outputs": []
    },
    {
      "cell_type": "code",
      "source": [
        "tcs = pyasl.TransmissionCurves()"
      ],
      "metadata": {
        "id": "DSCGE-R6Hhgi"
      },
      "execution_count": null,
      "outputs": []
    },
    {
      "cell_type": "code",
      "source": [
        "vfilter = tcs.getTransCurveData('Bessel v')"
      ],
      "metadata": {
        "id": "4nKlFVwlHs9c"
      },
      "execution_count": null,
      "outputs": []
    },
    {
      "cell_type": "code",
      "source": [
        "# extract the wavelengths for the filter\n",
        "wvs = vfilter[:,0]\n",
        "\n",
        "# extract the transmission at each wavelength\n",
        "trns = vfilter[:,1]\n",
        "\n",
        "# give each wavelength a relative weight based on its transmission\n",
        "weights = wvs*trns\n",
        "\n",
        "# calculate the effective wavelength of the filter (Angstroms)\n",
        "eff_wav = np.trapz(weights, x=wvs) / np.trapz(trns, x=wvs)"
      ],
      "metadata": {
        "id": "Y7OBUsp_HyMf"
      },
      "execution_count": null,
      "outputs": []
    },
    {
      "cell_type": "code",
      "source": [
        "eff_wav"
      ],
      "metadata": {
        "id": "aAxUqpodIRC3",
        "colab": {
          "base_uri": "https://localhost:8080/"
        },
        "outputId": "f2e58da7-627a-408a-f4aa-9b37c30ebc79"
      },
      "execution_count": null,
      "outputs": [
        {
          "output_type": "execute_result",
          "data": {
            "text/plain": [
              "5512.103907737096"
            ]
          },
          "metadata": {},
          "execution_count": 47
        }
      ]
    },
    {
      "cell_type": "markdown",
      "source": [
        "Let's keep track of our units to make our lives easier later."
      ],
      "metadata": {
        "id": "G7SO_Ah4fZQZ"
      }
    },
    {
      "cell_type": "code",
      "source": [
        "eff_wav = eff_wav * u.Angstrom"
      ],
      "metadata": {
        "id": "pvey4r77fcpo"
      },
      "execution_count": null,
      "outputs": []
    },
    {
      "cell_type": "markdown",
      "source": [
        "The bandwidth is just the width of the filter in wavelength units. We'll use the approximate FWHM of the filter to represent the bandwidth."
      ],
      "metadata": {
        "id": "i9ZLNe4pHVpO"
      }
    },
    {
      "cell_type": "code",
      "source": [
        "w = np.where(trns > 0.45)"
      ],
      "metadata": {
        "id": "E7kKoCDJdZCp"
      },
      "execution_count": null,
      "outputs": []
    },
    {
      "cell_type": "code",
      "source": [
        "wvs[w].min()"
      ],
      "metadata": {
        "id": "ce4gQBdrfPkF",
        "colab": {
          "base_uri": "https://localhost:8080/"
        },
        "outputId": "6c2aa394-af77-4285-def2-f881bb437351"
      },
      "execution_count": null,
      "outputs": [
        {
          "output_type": "execute_result",
          "data": {
            "text/plain": [
              "5000.0"
            ]
          },
          "metadata": {},
          "execution_count": 50
        }
      ]
    },
    {
      "cell_type": "code",
      "source": [
        "wvs[w].max()"
      ],
      "metadata": {
        "id": "Wt6XSLZgculc",
        "colab": {
          "base_uri": "https://localhost:8080/"
        },
        "outputId": "10ddca77-5b54-4ae6-fb48-d1953670fc3f"
      },
      "execution_count": null,
      "outputs": [
        {
          "output_type": "execute_result",
          "data": {
            "text/plain": [
              "5900.0"
            ]
          },
          "metadata": {},
          "execution_count": 51
        }
      ]
    },
    {
      "cell_type": "code",
      "source": [
        "bandpass = (wvs[w].max() - wvs[w].min()) * u.Angstrom"
      ],
      "metadata": {
        "id": "kgxLxJxucuhw"
      },
      "execution_count": null,
      "outputs": []
    },
    {
      "cell_type": "code",
      "source": [
        "bandpass"
      ],
      "metadata": {
        "id": "Pz8IMpsfcz9x",
        "colab": {
          "base_uri": "https://localhost:8080/",
          "height": 38
        },
        "outputId": "fb62ae79-4bf6-4374-e092-aea9d10e3b55"
      },
      "execution_count": null,
      "outputs": [
        {
          "output_type": "execute_result",
          "data": {
            "text/plain": [
              "<Quantity 900. Angstrom>"
            ],
            "text/latex": "$900 \\; \\mathrm{\\mathring{A}}$"
          },
          "metadata": {},
          "execution_count": 53
        }
      ]
    },
    {
      "cell_type": "markdown",
      "source": [
        "# Energy"
      ],
      "metadata": {
        "id": "wqJjPLixemaZ"
      }
    },
    {
      "cell_type": "markdown",
      "source": [
        "The energy of a photon depends on the wavelength, $\\lambda$ as\n",
        "\n",
        "\\begin{equation}\n",
        "E_{photon} = h \\nu = \\frac{hc}{\\lambda}\n",
        "\\end{equation}\n",
        "\n",
        "where $h$ is Planck's constant and $c$ is the speed of light.  \n",
        "\n",
        "Using the effective wavelength that we just calculated, we can estimate the typical energy of a photon in the band."
      ],
      "metadata": {
        "id": "y211Oz2_enbV"
      }
    },
    {
      "cell_type": "code",
      "source": [
        "E_V_photon = const.h * const.c / eff_wav"
      ],
      "metadata": {
        "id": "mA9n6Yeqel_z"
      },
      "execution_count": null,
      "outputs": []
    },
    {
      "cell_type": "code",
      "source": [
        "E_V_photon"
      ],
      "metadata": {
        "id": "-dW1v1oIgKIh",
        "colab": {
          "base_uri": "https://localhost:8080/",
          "height": 40
        },
        "outputId": "fcbd193c-7542-4814-ca07-1ffb4d084af0"
      },
      "execution_count": null,
      "outputs": [
        {
          "output_type": "execute_result",
          "data": {
            "text/plain": [
              "<Quantity 3.60378884e-29 J m / Angstrom>"
            ],
            "text/latex": "$3.6037888 \\times 10^{-29} \\; \\mathrm{\\frac{J\\,m}{\\mathring{A}}}$"
          },
          "metadata": {},
          "execution_count": 55
        }
      ]
    },
    {
      "cell_type": "markdown",
      "source": [
        "Notice the weird units. We can fix this using the unit conversion feature of the ```units``` package."
      ],
      "metadata": {
        "id": "LrziAVCKgORs"
      }
    },
    {
      "cell_type": "code",
      "source": [
        "E_V_photon.to(u.erg)"
      ],
      "metadata": {
        "id": "D3JLxrVKgWxC",
        "colab": {
          "base_uri": "https://localhost:8080/",
          "height": 37
        },
        "outputId": "540585f4-27f8-4883-c592-8ce75704e76e"
      },
      "execution_count": null,
      "outputs": [
        {
          "output_type": "execute_result",
          "data": {
            "text/plain": [
              "<Quantity 3.60378884e-12 erg>"
            ],
            "text/latex": "$3.6037888 \\times 10^{-12} \\; \\mathrm{erg}$"
          },
          "metadata": {},
          "execution_count": 56
        }
      ]
    },
    {
      "cell_type": "code",
      "source": [
        "# note this is energy per photon!!\n",
        "E_V_photon = E_V_photon.to(u.erg)"
      ],
      "metadata": {
        "id": "pXRV53pdgaYb"
      },
      "execution_count": null,
      "outputs": []
    },
    {
      "cell_type": "markdown",
      "source": [
        "With the average energy per photon, we can estimate the average photon flux."
      ],
      "metadata": {
        "id": "BHxqPdd7gz_r"
      }
    },
    {
      "cell_type": "code",
      "source": [
        "photon_flux = ref_flux / E_V_photon"
      ],
      "metadata": {
        "id": "GfKkg-sIhPAd"
      },
      "execution_count": null,
      "outputs": []
    },
    {
      "cell_type": "code",
      "source": [
        "photon_flux"
      ],
      "metadata": {
        "id": "kUNwEm9qhiEn",
        "colab": {
          "base_uri": "https://localhost:8080/",
          "height": 40
        },
        "outputId": "b3386ebc-bf3c-456a-e3e7-13e73d0f6146"
      },
      "execution_count": null,
      "outputs": [
        {
          "output_type": "execute_result",
          "data": {
            "text/plain": [
              "<Quantity 0.0010045 1 / (Angstrom s cm2)>"
            ],
            "text/latex": "$0.0010044984 \\; \\mathrm{\\frac{1}{\\mathring{A}\\,s\\,cm^{2}}}$"
          },
          "metadata": {},
          "execution_count": 59
        }
      ]
    },
    {
      "cell_type": "markdown",
      "source": [
        "So we can expect roughly $1 \\times 10^3$ photons cm$^{-2}$ s$^{-1}$ Å$^{-1}$.\n",
        "\n",
        "Including the bandpass, we find the number of photons cm$^{-2}$ s$^{-1}$."
      ],
      "metadata": {
        "id": "GplP9BPrhlCU"
      }
    },
    {
      "cell_type": "code",
      "source": [
        "photon_flux *= bandpass"
      ],
      "metadata": {
        "id": "d8YnrzdDh3NL"
      },
      "execution_count": null,
      "outputs": []
    },
    {
      "cell_type": "markdown",
      "source": [
        "Notice the syntax - we're taking the value that was assigned to ```photon_flux``` multiplying it by ```bandpass``` and then assigning the result to ```photon_flux```. This makes for very compact code but it can be easy to make mistakes, especially when re-running cells. Buyer beware."
      ],
      "metadata": {
        "id": "WKNosQqAiEMw"
      }
    },
    {
      "cell_type": "code",
      "source": [
        "photon_flux"
      ],
      "metadata": {
        "id": "YEpoIwXHh7y_",
        "colab": {
          "base_uri": "https://localhost:8080/",
          "height": 38
        },
        "outputId": "abcb6548-3393-4cfd-f004-2acf814af7e7"
      },
      "execution_count": null,
      "outputs": [
        {
          "output_type": "execute_result",
          "data": {
            "text/plain": [
              "<Quantity 0.90404853 1 / (s cm2)>"
            ],
            "text/latex": "$0.90404853 \\; \\mathrm{\\frac{1}{s\\,cm^{2}}}$"
          },
          "metadata": {},
          "execution_count": 61
        }
      ]
    },
    {
      "cell_type": "markdown",
      "source": [
        "# Area"
      ],
      "metadata": {
        "id": "m4k4DqXze84N"
      }
    },
    {
      "cell_type": "markdown",
      "source": [
        "The area term is just the collecting area of the telescope. Easy.\n",
        "\n",
        "\\begin{equation}\n",
        "A = \\pi r^2 = \\pi \\left( \\frac{D}{2} \\right)^2\n",
        "\\end{equation}"
      ],
      "metadata": {
        "id": "YSLr81wCe-Sv"
      }
    },
    {
      "cell_type": "code",
      "source": [
        "McD_D = 0.8 *u.m\n",
        "McD_area = np.pi * (McD_D/2.)**2"
      ],
      "metadata": {
        "id": "BQ1EYPaSe9qp"
      },
      "execution_count": null,
      "outputs": []
    },
    {
      "cell_type": "code",
      "source": [
        "McD_area"
      ],
      "metadata": {
        "id": "vj-locuwgp8j",
        "colab": {
          "base_uri": "https://localhost:8080/",
          "height": 37
        },
        "outputId": "92811386-837d-441e-b96b-6b2d8787c808"
      },
      "execution_count": null,
      "outputs": [
        {
          "output_type": "execute_result",
          "data": {
            "text/plain": [
              "<Quantity 0.50265482 m2>"
            ],
            "text/latex": "$0.50265482 \\; \\mathrm{m^{2}}$"
          },
          "metadata": {},
          "execution_count": 63
        }
      ]
    },
    {
      "cell_type": "markdown",
      "source": [
        "Use the collecting area to estimate the photons per second."
      ],
      "metadata": {
        "id": "3iYUPB6viXOX"
      }
    },
    {
      "cell_type": "code",
      "source": [
        "photon_flux *= McD_area.to(u.cm**2)"
      ],
      "metadata": {
        "id": "YJw31jSUii2I"
      },
      "execution_count": null,
      "outputs": []
    },
    {
      "cell_type": "code",
      "source": [
        "photon_flux"
      ],
      "metadata": {
        "id": "GSf8h_DDinEL",
        "colab": {
          "base_uri": "https://localhost:8080/",
          "height": 38
        },
        "outputId": "dd3f5300-6716-4cf3-cfcf-909b4df0870a"
      },
      "execution_count": null,
      "outputs": [
        {
          "output_type": "execute_result",
          "data": {
            "text/plain": [
              "<Quantity 4544.24354257 1 / s>"
            ],
            "text/latex": "$4544.2435 \\; \\mathrm{\\frac{1}{s}}$"
          },
          "metadata": {},
          "execution_count": 65
        }
      ]
    },
    {
      "cell_type": "markdown",
      "source": [
        "# Estimating telescope losses"
      ],
      "metadata": {
        "id": "yhtGO8yufznh"
      }
    },
    {
      "cell_type": "markdown",
      "source": [
        "In an ideal world, we would detect photons with perfect efficiency. In practice, we lose photons to the atmosphere, the telescope optics, imperfect filter transmission, the response of the detector, ...\n",
        "\n",
        "For a given observatory and/or an instrument, a lot of careful work goes into characterizing the losses to each of these components. For this exercise, we'll make the extremely simple assumption that we only detect 50\\% of the incoming photons.\n",
        "\n",
        "Does this sound pessimistic to you? Take a look at some of the throughput curves for the [Advanced Camera for Surveys (ACS) on Hubble](https://www.stsci.edu/hst/instrumentation/acs/data-analysis/system-throughputs) and [NIRCam on Webb](https://jwst-docs.stsci.edu/jwst-near-infrared-camera/nircam-instrumentation/nircam-filters#gsc.tab=0).\n",
        "Remember, both of the these observatories are in space so these curves do not include atmospheric losses!"
      ],
      "metadata": {
        "id": "qxklM6nBf2mh"
      }
    },
    {
      "cell_type": "code",
      "source": [
        "photon_flux *= 0.5"
      ],
      "metadata": {
        "id": "21kyDeJGf2Pe"
      },
      "execution_count": null,
      "outputs": []
    },
    {
      "cell_type": "code",
      "source": [
        "photon_flux"
      ],
      "metadata": {
        "id": "z7frvA7li2Qm",
        "colab": {
          "base_uri": "https://localhost:8080/",
          "height": 38
        },
        "outputId": "ca031d57-a70e-4605-8429-0a8ff9ff6af5"
      },
      "execution_count": null,
      "outputs": [
        {
          "output_type": "execute_result",
          "data": {
            "text/plain": [
              "<Quantity 2272.12177129 1 / s>"
            ],
            "text/latex": "$2272.1218 \\; \\mathrm{\\frac{1}{s}}$"
          },
          "metadata": {},
          "execution_count": 67
        }
      ]
    },
    {
      "cell_type": "markdown",
      "source": [
        "# Seeing"
      ],
      "metadata": {
        "id": "yEmrJL5ffen7"
      }
    },
    {
      "cell_type": "markdown",
      "source": [
        "As we have discussed in class, the seeing spreads out the light from a star. In practice, this means that light from your object will be spread over more or fewer pixels depending on how good the seeing is.\n",
        "\n",
        "We want to know roughly how many photons we will get in a given pixel so we need to know two things:\n",
        "\n",
        "(1) the typical seeing\n",
        "\n",
        "and\n",
        "\n",
        "(2) the pixel size.\n",
        "\n",
        "Assume that the typical seeing at McDonald is $\\sim 2.5^{\\prime\\prime}$.\n",
        "\n",
        "Use the unbinned pixel size ($1.3553^{\\prime\\prime}$/pix) to calculate how many pixels the light from your star is spread over."
      ],
      "metadata": {
        "id": "4LZ2vn2GfhKl"
      }
    },
    {
      "cell_type": "code",
      "source": [
        "seeing = 2.5 * u.arcsec\n",
        "pix_scale = 1.3553 * u.arcsec / u.pix"
      ],
      "metadata": {
        "id": "0lZ3z20jfgt5"
      },
      "execution_count": null,
      "outputs": []
    },
    {
      "cell_type": "code",
      "source": [
        "# the seeing disk is round\n",
        "area_seeing_disk = np.pi * (seeing / 2.)**2\n",
        "\n",
        "# pixels are square\n",
        "area_pixel = pix_scale**2"
      ],
      "metadata": {
        "id": "2A48XtQ3jM5V"
      },
      "execution_count": null,
      "outputs": []
    },
    {
      "cell_type": "code",
      "source": [
        "n_pix = area_seeing_disk / area_pixel"
      ],
      "metadata": {
        "id": "tMbi7wb3jXlJ"
      },
      "execution_count": null,
      "outputs": []
    },
    {
      "cell_type": "code",
      "source": [
        "n_pix"
      ],
      "metadata": {
        "id": "sjlGODtFjbfR",
        "colab": {
          "base_uri": "https://localhost:8080/",
          "height": 37
        },
        "outputId": "1275e2eb-0b6f-4205-d079-6cb83eaf3657"
      },
      "execution_count": null,
      "outputs": [
        {
          "output_type": "execute_result",
          "data": {
            "text/plain": [
              "<Quantity 2.67238498 pix2>"
            ],
            "text/latex": "$2.672385 \\; \\mathrm{pix^{2}}$"
          },
          "metadata": {},
          "execution_count": 71
        }
      ]
    },
    {
      "cell_type": "markdown",
      "source": [
        "The photons per second we calculated will be spread out over this area."
      ],
      "metadata": {
        "id": "BbhLb9DujlBf"
      }
    },
    {
      "cell_type": "code",
      "source": [
        "photon_flux / n_pix"
      ],
      "metadata": {
        "id": "1Mi2FP5KjoaM",
        "colab": {
          "base_uri": "https://localhost:8080/",
          "height": 40
        },
        "outputId": "b761fe00-3ca6-4879-c2c6-e76aae494211"
      },
      "execution_count": null,
      "outputs": [
        {
          "output_type": "execute_result",
          "data": {
            "text/plain": [
              "<Quantity 850.22247499 1 / (s pix2)>"
            ],
            "text/latex": "$850.22247 \\; \\mathrm{\\frac{1}{s\\,pix^{2}}}$"
          },
          "metadata": {},
          "execution_count": 72
        }
      ]
    },
    {
      "cell_type": "markdown",
      "source": [
        "# Turning this into an exposure time"
      ],
      "metadata": {
        "id": "hdmiDdwyNFSK"
      }
    },
    {
      "cell_type": "markdown",
      "source": [
        "Now you have a expected number of photons / second / pixel (now is a great time to check your units if you haven't already).\n",
        "\n",
        "For our imaging projects, we want photon noise from the source to be the dominant source of uncertainty so that $S/N \\sim \\sqrt{S_o}$ where $S_o$ is the signal from your object.\n",
        "\n",
        "Use this to estimate how long you would need to observe your target to reach $S/N \\sim 100$.   "
      ],
      "metadata": {
        "id": "dpFjvRblNICc"
      }
    },
    {
      "cell_type": "code",
      "source": [
        "# code"
      ],
      "metadata": {
        "id": "m1KXmxhjNIXW"
      },
      "execution_count": null,
      "outputs": []
    },
    {
      "cell_type": "markdown",
      "source": [
        "# How can I use this to calculate the exposure time for *my* objects??"
      ],
      "metadata": {
        "id": "MncQ4Zc4PCZi"
      }
    },
    {
      "cell_type": "markdown",
      "source": [
        "Some things to keep in mind.\n",
        "\n",
        "We've talked about magnitudes as they relate to flux,\n",
        "\\begin{equation}\n",
        "m = -2.5 \\log{F} + K\n",
        "\\end{equation}\n",
        "\n",
        "where\n",
        "$m$ is the apparent magnitude,\n",
        "$F$ is the flux, and\n",
        "$K$ is a constant to put the magnitude into a given system. Curious to know more about magnitude systems? Take a look at Chapter 10 in Chromey.\n",
        "If we want to put our observations on a standard scale, we'll need to know $K$.\n",
        "\n",
        "We can also measure the apparent magnitude relative to another object with a known brightness using\n",
        "\n",
        "\\begin{equation}\n",
        "m_1 - m_2 = -2.5 \\log{\\frac{F_1}{F_2}}\n",
        "\\end{equation}\n",
        "\n",
        "where the subscripts $1$ and $2$ reflect the two sources."
      ],
      "metadata": {
        "id": "3AV1t3cLPHSP"
      }
    },
    {
      "cell_type": "code",
      "source": [
        "# your code"
      ],
      "metadata": {
        "id": "Hxs4xqxTRI2m"
      },
      "execution_count": null,
      "outputs": []
    },
    {
      "cell_type": "markdown",
      "source": [
        "# But I want to observe a galaxy / nebula / extended object. What do I do?"
      ],
      "metadata": {
        "id": "RqSGkBDEgJQy"
      }
    },
    {
      "cell_type": "markdown",
      "source": [
        "You'll need a little more information than just the magnitude if you want to observe an extended object.\n",
        "\n",
        "For example, I can look up on [Simbad](https://simbad.u-strasbg.fr/simbad/) that M101 has V=7.86 mag. But what does this actually mean for an extended object? Typically, the magnitude represents the integrated surface brightness of the source - that is, how bright it would be if it was collapsed to the size of a point source.\n",
        "\n",
        "This means that you can go the other way to estimate how long you need to observe an extended object. \"But wait!\" you may cry, \"how can I get the size of my object?\" Good question. Out of curiosity - have you made your finding chart yet??"
      ],
      "metadata": {
        "id": "De7NQHlVgPV2"
      }
    },
    {
      "cell_type": "code",
      "source": [
        "# code"
      ],
      "metadata": {
        "id": "a6gTOwtogIVu"
      },
      "execution_count": null,
      "outputs": []
    },
    {
      "cell_type": "code",
      "source": [],
      "metadata": {
        "id": "6pBenQPqgj7Y"
      },
      "execution_count": null,
      "outputs": []
    }
  ]
}